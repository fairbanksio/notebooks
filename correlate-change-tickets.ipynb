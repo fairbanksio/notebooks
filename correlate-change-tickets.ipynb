{
 "cells": [
  {
   "attachments": {},
   "cell_type": "markdown",
   "id": "52c3e1b1",
   "metadata": {},
   "source": [
    "### Installs"
   ]
  },
  {
   "cell_type": "code",
   "execution_count": 2,
   "id": "03c899ac-a8aa-4309-894b-13fd4c84e748",
   "metadata": {},
   "outputs": [
    {
     "name": "stdout",
     "output_type": "stream",
     "text": [
      "Defaulting to user installation because normal site-packages is not writeable\n",
      "Requirement already satisfied: chromadb in /home/mgmtadmin/.local/lib/python3.10/site-packages (0.3.26)\n",
      "Requirement already satisfied: numpy>=1.21.6 in /home/mgmtadmin/.local/lib/python3.10/site-packages (from chromadb) (1.25.0)\n",
      "Requirement already satisfied: tokenizers>=0.13.2 in /home/mgmtadmin/.local/lib/python3.10/site-packages (from chromadb) (0.13.3)\n",
      "Requirement already satisfied: hnswlib>=0.7 in /home/mgmtadmin/.local/lib/python3.10/site-packages (from chromadb) (0.7.0)\n",
      "Requirement already satisfied: overrides>=7.3.1 in /home/mgmtadmin/.local/lib/python3.10/site-packages (from chromadb) (7.3.1)\n",
      "Requirement already satisfied: requests>=2.28 in /home/mgmtadmin/.local/lib/python3.10/site-packages (from chromadb) (2.31.0)\n",
      "Requirement already satisfied: typing-extensions>=4.5.0 in /home/mgmtadmin/.local/lib/python3.10/site-packages (from chromadb) (4.6.3)\n",
      "Requirement already satisfied: pydantic>=1.9 in /home/mgmtadmin/.local/lib/python3.10/site-packages (from chromadb) (1.10.9)\n",
      "Requirement already satisfied: uvicorn[standard]>=0.18.3 in /home/mgmtadmin/.local/lib/python3.10/site-packages (from chromadb) (0.22.0)\n",
      "Requirement already satisfied: onnxruntime>=1.14.1 in /home/mgmtadmin/.local/lib/python3.10/site-packages (from chromadb) (1.15.1)\n",
      "Requirement already satisfied: posthog>=2.4.0 in /home/mgmtadmin/.local/lib/python3.10/site-packages (from chromadb) (3.0.1)\n",
      "Requirement already satisfied: pulsar-client>=3.1.0 in /home/mgmtadmin/.local/lib/python3.10/site-packages (from chromadb) (3.2.0)\n",
      "Requirement already satisfied: tqdm>=4.65.0 in /home/mgmtadmin/.local/lib/python3.10/site-packages (from chromadb) (4.65.0)\n",
      "Requirement already satisfied: clickhouse-connect>=0.5.7 in /home/mgmtadmin/.local/lib/python3.10/site-packages (from chromadb) (0.6.4)\n",
      "Requirement already satisfied: duckdb>=0.7.1 in /home/mgmtadmin/.local/lib/python3.10/site-packages (from chromadb) (0.8.1)\n",
      "Requirement already satisfied: pandas>=1.3 in /home/mgmtadmin/.local/lib/python3.10/site-packages (from chromadb) (2.0.2)\n",
      "Requirement already satisfied: fastapi>=0.85.1 in /home/mgmtadmin/.local/lib/python3.10/site-packages (from chromadb) (0.98.0)\n",
      "Requirement already satisfied: pytz in /usr/lib/python3/dist-packages (from clickhouse-connect>=0.5.7->chromadb) (2022.1)\n",
      "Requirement already satisfied: lz4 in /home/mgmtadmin/.local/lib/python3.10/site-packages (from clickhouse-connect>=0.5.7->chromadb) (4.3.2)\n",
      "Requirement already satisfied: urllib3>=1.26 in /usr/lib/python3/dist-packages (from clickhouse-connect>=0.5.7->chromadb) (1.26.5)\n",
      "Requirement already satisfied: zstandard in /home/mgmtadmin/.local/lib/python3.10/site-packages (from clickhouse-connect>=0.5.7->chromadb) (0.21.0)\n",
      "Requirement already satisfied: certifi in /usr/lib/python3/dist-packages (from clickhouse-connect>=0.5.7->chromadb) (2020.6.20)\n",
      "Requirement already satisfied: starlette<0.28.0,>=0.27.0 in /home/mgmtadmin/.local/lib/python3.10/site-packages (from fastapi>=0.85.1->chromadb) (0.27.0)\n",
      "Requirement already satisfied: flatbuffers in /home/mgmtadmin/.local/lib/python3.10/site-packages (from onnxruntime>=1.14.1->chromadb) (23.5.26)\n",
      "Requirement already satisfied: sympy in /home/mgmtadmin/.local/lib/python3.10/site-packages (from onnxruntime>=1.14.1->chromadb) (1.12)\n",
      "Requirement already satisfied: protobuf in /home/mgmtadmin/.local/lib/python3.10/site-packages (from onnxruntime>=1.14.1->chromadb) (4.23.3)\n",
      "Requirement already satisfied: packaging in /home/mgmtadmin/.local/lib/python3.10/site-packages (from onnxruntime>=1.14.1->chromadb) (23.1)\n",
      "Requirement already satisfied: coloredlogs in /home/mgmtadmin/.local/lib/python3.10/site-packages (from onnxruntime>=1.14.1->chromadb) (15.0.1)\n",
      "Requirement already satisfied: python-dateutil>=2.8.2 in /home/mgmtadmin/.local/lib/python3.10/site-packages (from pandas>=1.3->chromadb) (2.8.2)\n",
      "Requirement already satisfied: tzdata>=2022.1 in /home/mgmtadmin/.local/lib/python3.10/site-packages (from pandas>=1.3->chromadb) (2023.3)\n",
      "Requirement already satisfied: backoff>=1.10.0 in /home/mgmtadmin/.local/lib/python3.10/site-packages (from posthog>=2.4.0->chromadb) (2.2.1)\n",
      "Requirement already satisfied: monotonic>=1.5 in /home/mgmtadmin/.local/lib/python3.10/site-packages (from posthog>=2.4.0->chromadb) (1.6)\n",
      "Requirement already satisfied: six>=1.5 in /usr/lib/python3/dist-packages (from posthog>=2.4.0->chromadb) (1.16.0)\n",
      "Requirement already satisfied: idna<4,>=2.5 in /usr/lib/python3/dist-packages (from requests>=2.28->chromadb) (3.3)\n",
      "Requirement already satisfied: charset-normalizer<4,>=2 in /home/mgmtadmin/.local/lib/python3.10/site-packages (from requests>=2.28->chromadb) (3.1.0)\n",
      "Requirement already satisfied: h11>=0.8 in /home/mgmtadmin/.local/lib/python3.10/site-packages (from uvicorn[standard]>=0.18.3->chromadb) (0.14.0)\n",
      "Requirement already satisfied: click>=7.0 in /home/mgmtadmin/.local/lib/python3.10/site-packages (from uvicorn[standard]>=0.18.3->chromadb) (8.1.3)\n",
      "Requirement already satisfied: python-dotenv>=0.13 in /home/mgmtadmin/.local/lib/python3.10/site-packages (from uvicorn[standard]>=0.18.3->chromadb) (1.0.0)\n",
      "Requirement already satisfied: websockets>=10.4 in /home/mgmtadmin/.local/lib/python3.10/site-packages (from uvicorn[standard]>=0.18.3->chromadb) (11.0.3)\n",
      "Requirement already satisfied: httptools>=0.5.0 in /home/mgmtadmin/.local/lib/python3.10/site-packages (from uvicorn[standard]>=0.18.3->chromadb) (0.5.0)\n",
      "Requirement already satisfied: uvloop!=0.15.0,!=0.15.1,>=0.14.0 in /home/mgmtadmin/.local/lib/python3.10/site-packages (from uvicorn[standard]>=0.18.3->chromadb) (0.17.0)\n",
      "Requirement already satisfied: watchfiles>=0.13 in /home/mgmtadmin/.local/lib/python3.10/site-packages (from uvicorn[standard]>=0.18.3->chromadb) (0.19.0)\n",
      "Requirement already satisfied: pyyaml>=5.1 in /usr/lib/python3/dist-packages (from uvicorn[standard]>=0.18.3->chromadb) (5.4.1)\n",
      "Requirement already satisfied: anyio<5,>=3.4.0 in /home/mgmtadmin/.local/lib/python3.10/site-packages (from starlette<0.28.0,>=0.27.0->fastapi>=0.85.1->chromadb) (3.7.0)\n",
      "Requirement already satisfied: humanfriendly>=9.1 in /home/mgmtadmin/.local/lib/python3.10/site-packages (from coloredlogs->onnxruntime>=1.14.1->chromadb) (10.0)\n",
      "Requirement already satisfied: mpmath>=0.19 in /home/mgmtadmin/.local/lib/python3.10/site-packages (from sympy->onnxruntime>=1.14.1->chromadb) (1.3.0)\n",
      "Requirement already satisfied: exceptiongroup in /home/mgmtadmin/.local/lib/python3.10/site-packages (from anyio<5,>=3.4.0->starlette<0.28.0,>=0.27.0->fastapi>=0.85.1->chromadb) (1.1.1)\n",
      "Requirement already satisfied: sniffio>=1.1 in /home/mgmtadmin/.local/lib/python3.10/site-packages (from anyio<5,>=3.4.0->starlette<0.28.0,>=0.27.0->fastapi>=0.85.1->chromadb) (1.3.0)\n",
      "Defaulting to user installation because normal site-packages is not writeable\n",
      "Requirement already satisfied: sentence_transformers in /home/mgmtadmin/.local/lib/python3.10/site-packages (2.2.2)\n",
      "Requirement already satisfied: tqdm in /home/mgmtadmin/.local/lib/python3.10/site-packages (from sentence_transformers) (4.65.0)\n",
      "Requirement already satisfied: torch>=1.6.0 in /home/mgmtadmin/.local/lib/python3.10/site-packages (from sentence_transformers) (2.0.1)\n",
      "Requirement already satisfied: numpy in /home/mgmtadmin/.local/lib/python3.10/site-packages (from sentence_transformers) (1.25.0)\n",
      "Requirement already satisfied: scikit-learn in /home/mgmtadmin/.local/lib/python3.10/site-packages (from sentence_transformers) (1.2.2)\n",
      "Requirement already satisfied: torchvision in /home/mgmtadmin/.local/lib/python3.10/site-packages (from sentence_transformers) (0.15.2)\n",
      "Requirement already satisfied: nltk in /home/mgmtadmin/.local/lib/python3.10/site-packages (from sentence_transformers) (3.8.1)\n",
      "Requirement already satisfied: sentencepiece in /home/mgmtadmin/.local/lib/python3.10/site-packages (from sentence_transformers) (0.1.99)\n",
      "Requirement already satisfied: scipy in /home/mgmtadmin/.local/lib/python3.10/site-packages (from sentence_transformers) (1.11.0)\n",
      "Requirement already satisfied: huggingface-hub>=0.4.0 in /home/mgmtadmin/.local/lib/python3.10/site-packages (from sentence_transformers) (0.15.1)\n",
      "Requirement already satisfied: transformers<5.0.0,>=4.6.0 in /home/mgmtadmin/.local/lib/python3.10/site-packages (from sentence_transformers) (4.30.2)\n",
      "Requirement already satisfied: requests in /home/mgmtadmin/.local/lib/python3.10/site-packages (from huggingface-hub>=0.4.0->sentence_transformers) (2.31.0)\n",
      "Requirement already satisfied: fsspec in /home/mgmtadmin/.local/lib/python3.10/site-packages (from huggingface-hub>=0.4.0->sentence_transformers) (2023.6.0)\n",
      "Requirement already satisfied: packaging>=20.9 in /home/mgmtadmin/.local/lib/python3.10/site-packages (from huggingface-hub>=0.4.0->sentence_transformers) (23.1)\n",
      "Requirement already satisfied: filelock in /home/mgmtadmin/.local/lib/python3.10/site-packages (from huggingface-hub>=0.4.0->sentence_transformers) (3.12.2)\n",
      "Requirement already satisfied: pyyaml>=5.1 in /usr/lib/python3/dist-packages (from huggingface-hub>=0.4.0->sentence_transformers) (5.4.1)\n",
      "Requirement already satisfied: typing-extensions>=3.7.4.3 in /home/mgmtadmin/.local/lib/python3.10/site-packages (from huggingface-hub>=0.4.0->sentence_transformers) (4.6.3)\n",
      "Requirement already satisfied: nvidia-cuda-nvrtc-cu11==11.7.99 in /home/mgmtadmin/.local/lib/python3.10/site-packages (from torch>=1.6.0->sentence_transformers) (11.7.99)\n",
      "Requirement already satisfied: nvidia-cusolver-cu11==11.4.0.1 in /home/mgmtadmin/.local/lib/python3.10/site-packages (from torch>=1.6.0->sentence_transformers) (11.4.0.1)\n",
      "Requirement already satisfied: nvidia-cusparse-cu11==11.7.4.91 in /home/mgmtadmin/.local/lib/python3.10/site-packages (from torch>=1.6.0->sentence_transformers) (11.7.4.91)\n",
      "Requirement already satisfied: nvidia-nccl-cu11==2.14.3 in /home/mgmtadmin/.local/lib/python3.10/site-packages (from torch>=1.6.0->sentence_transformers) (2.14.3)\n",
      "Requirement already satisfied: nvidia-nvtx-cu11==11.7.91 in /home/mgmtadmin/.local/lib/python3.10/site-packages (from torch>=1.6.0->sentence_transformers) (11.7.91)\n",
      "Requirement already satisfied: nvidia-cuda-cupti-cu11==11.7.101 in /home/mgmtadmin/.local/lib/python3.10/site-packages (from torch>=1.6.0->sentence_transformers) (11.7.101)\n",
      "Requirement already satisfied: networkx in /home/mgmtadmin/.local/lib/python3.10/site-packages (from torch>=1.6.0->sentence_transformers) (3.1)\n",
      "Requirement already satisfied: nvidia-cufft-cu11==10.9.0.58 in /home/mgmtadmin/.local/lib/python3.10/site-packages (from torch>=1.6.0->sentence_transformers) (10.9.0.58)\n",
      "Requirement already satisfied: nvidia-cudnn-cu11==8.5.0.96 in /home/mgmtadmin/.local/lib/python3.10/site-packages (from torch>=1.6.0->sentence_transformers) (8.5.0.96)\n",
      "Requirement already satisfied: nvidia-curand-cu11==10.2.10.91 in /home/mgmtadmin/.local/lib/python3.10/site-packages (from torch>=1.6.0->sentence_transformers) (10.2.10.91)\n",
      "Requirement already satisfied: triton==2.0.0 in /home/mgmtadmin/.local/lib/python3.10/site-packages (from torch>=1.6.0->sentence_transformers) (2.0.0)\n",
      "Requirement already satisfied: jinja2 in /home/mgmtadmin/.local/lib/python3.10/site-packages (from torch>=1.6.0->sentence_transformers) (3.1.2)\n",
      "Requirement already satisfied: sympy in /home/mgmtadmin/.local/lib/python3.10/site-packages (from torch>=1.6.0->sentence_transformers) (1.12)\n",
      "Requirement already satisfied: nvidia-cublas-cu11==11.10.3.66 in /home/mgmtadmin/.local/lib/python3.10/site-packages (from torch>=1.6.0->sentence_transformers) (11.10.3.66)\n",
      "Requirement already satisfied: nvidia-cuda-runtime-cu11==11.7.99 in /home/mgmtadmin/.local/lib/python3.10/site-packages (from torch>=1.6.0->sentence_transformers) (11.7.99)\n",
      "Requirement already satisfied: setuptools in /usr/lib/python3/dist-packages (from nvidia-cublas-cu11==11.10.3.66->torch>=1.6.0->sentence_transformers) (59.6.0)\n",
      "Requirement already satisfied: wheel in /usr/lib/python3/dist-packages (from nvidia-cublas-cu11==11.10.3.66->torch>=1.6.0->sentence_transformers) (0.37.1)\n",
      "Requirement already satisfied: cmake in /home/mgmtadmin/.local/lib/python3.10/site-packages (from triton==2.0.0->torch>=1.6.0->sentence_transformers) (3.26.4)\n",
      "Requirement already satisfied: lit in /home/mgmtadmin/.local/lib/python3.10/site-packages (from triton==2.0.0->torch>=1.6.0->sentence_transformers) (16.0.6)\n",
      "Requirement already satisfied: regex!=2019.12.17 in /home/mgmtadmin/.local/lib/python3.10/site-packages (from transformers<5.0.0,>=4.6.0->sentence_transformers) (2023.6.3)\n",
      "Requirement already satisfied: tokenizers!=0.11.3,<0.14,>=0.11.1 in /home/mgmtadmin/.local/lib/python3.10/site-packages (from transformers<5.0.0,>=4.6.0->sentence_transformers) (0.13.3)\n",
      "Requirement already satisfied: safetensors>=0.3.1 in /home/mgmtadmin/.local/lib/python3.10/site-packages (from transformers<5.0.0,>=4.6.0->sentence_transformers) (0.3.1)\n",
      "Requirement already satisfied: joblib in /home/mgmtadmin/.local/lib/python3.10/site-packages (from nltk->sentence_transformers) (1.2.0)\n",
      "Requirement already satisfied: click in /home/mgmtadmin/.local/lib/python3.10/site-packages (from nltk->sentence_transformers) (8.1.3)\n",
      "Requirement already satisfied: threadpoolctl>=2.0.0 in /home/mgmtadmin/.local/lib/python3.10/site-packages (from scikit-learn->sentence_transformers) (3.1.0)\n",
      "Requirement already satisfied: pillow!=8.3.*,>=5.3.0 in /home/mgmtadmin/.local/lib/python3.10/site-packages (from torchvision->sentence_transformers) (9.5.0)\n",
      "Requirement already satisfied: MarkupSafe>=2.0 in /home/mgmtadmin/.local/lib/python3.10/site-packages (from jinja2->torch>=1.6.0->sentence_transformers) (2.1.3)\n",
      "Requirement already satisfied: idna<4,>=2.5 in /usr/lib/python3/dist-packages (from requests->huggingface-hub>=0.4.0->sentence_transformers) (3.3)\n",
      "Requirement already satisfied: certifi>=2017.4.17 in /usr/lib/python3/dist-packages (from requests->huggingface-hub>=0.4.0->sentence_transformers) (2020.6.20)\n",
      "Requirement already satisfied: urllib3<3,>=1.21.1 in /usr/lib/python3/dist-packages (from requests->huggingface-hub>=0.4.0->sentence_transformers) (1.26.5)\n",
      "Requirement already satisfied: charset-normalizer<4,>=2 in /home/mgmtadmin/.local/lib/python3.10/site-packages (from requests->huggingface-hub>=0.4.0->sentence_transformers) (3.1.0)\n",
      "Requirement already satisfied: mpmath>=0.19 in /home/mgmtadmin/.local/lib/python3.10/site-packages (from sympy->torch>=1.6.0->sentence_transformers) (1.3.0)\n",
      "Defaulting to user installation because normal site-packages is not writeable\n",
      "Requirement already satisfied: plotly in /home/mgmtadmin/.local/lib/python3.10/site-packages (5.15.0)\n",
      "Requirement already satisfied: packaging in /home/mgmtadmin/.local/lib/python3.10/site-packages (from plotly) (23.1)\n",
      "Requirement already satisfied: tenacity>=6.2.0 in /home/mgmtadmin/.local/lib/python3.10/site-packages (from plotly) (8.2.2)\n",
      "Defaulting to user installation because normal site-packages is not writeable\n",
      "Requirement already satisfied: nbformat in /home/mgmtadmin/.local/lib/python3.10/site-packages (5.1.2)\n",
      "Requirement already satisfied: traitlets>=4.1 in /home/mgmtadmin/.local/lib/python3.10/site-packages (from nbformat) (5.9.0)\n",
      "Requirement already satisfied: ipython-genutils in /home/mgmtadmin/.local/lib/python3.10/site-packages (from nbformat) (0.2.0)\n",
      "Requirement already satisfied: jupyter-core in /home/mgmtadmin/.local/lib/python3.10/site-packages (from nbformat) (5.3.1)\n",
      "Requirement already satisfied: jsonschema!=2.5.0,>=2.4 in /usr/lib/python3/dist-packages (from nbformat) (3.2.0)\n",
      "Requirement already satisfied: platformdirs>=2.5 in /home/mgmtadmin/.local/lib/python3.10/site-packages (from jupyter-core->nbformat) (3.8.0)\n",
      "Defaulting to user installation because normal site-packages is not writeable\n",
      "Collecting ipywidgets\n",
      "  Downloading ipywidgets-8.0.6-py3-none-any.whl (138 kB)\n",
      "\u001b[2K     \u001b[90m━━━━━━━━━━━━━━━━━━━━━━━━━━━━━━━━━━━━━━━\u001b[0m \u001b[32m138.3/138.3 KB\u001b[0m \u001b[31m1.8 MB/s\u001b[0m eta \u001b[36m0:00:00\u001b[0ma \u001b[36m0:00:01\u001b[0m\n",
      "\u001b[?25hRequirement already satisfied: ipykernel>=4.5.1 in /home/mgmtadmin/.local/lib/python3.10/site-packages (from ipywidgets) (6.23.3)\n",
      "Requirement already satisfied: traitlets>=4.3.1 in /home/mgmtadmin/.local/lib/python3.10/site-packages (from ipywidgets) (5.9.0)\n",
      "Collecting jupyterlab-widgets~=3.0.7\n",
      "  Downloading jupyterlab_widgets-3.0.7-py3-none-any.whl (198 kB)\n",
      "\u001b[2K     \u001b[90m━━━━━━━━━━━━━━━━━━━━━━━━━━━━━━━━━━━━━━━\u001b[0m \u001b[32m198.2/198.2 KB\u001b[0m \u001b[31m8.1 MB/s\u001b[0m eta \u001b[36m0:00:00\u001b[0m\n",
      "\u001b[?25hCollecting widgetsnbextension~=4.0.7\n",
      "  Downloading widgetsnbextension-4.0.7-py3-none-any.whl (2.1 MB)\n",
      "\u001b[2K     \u001b[90m━━━━━━━━━━━━━━━━━━━━━━━━━━━━━━━━━━━━━━━━\u001b[0m \u001b[32m2.1/2.1 MB\u001b[0m \u001b[31m27.5 MB/s\u001b[0m eta \u001b[36m0:00:00\u001b[0m00:01\u001b[0m00:01\u001b[0m\n",
      "\u001b[?25hRequirement already satisfied: ipython>=6.1.0 in /home/mgmtadmin/.local/lib/python3.10/site-packages (from ipywidgets) (8.14.0)\n",
      "Requirement already satisfied: matplotlib-inline>=0.1 in /home/mgmtadmin/.local/lib/python3.10/site-packages (from ipykernel>=4.5.1->ipywidgets) (0.1.6)\n",
      "Requirement already satisfied: psutil in /home/mgmtadmin/.local/lib/python3.10/site-packages (from ipykernel>=4.5.1->ipywidgets) (5.9.5)\n",
      "Requirement already satisfied: jupyter-core!=5.0.*,>=4.12 in /home/mgmtadmin/.local/lib/python3.10/site-packages (from ipykernel>=4.5.1->ipywidgets) (5.3.1)\n",
      "Requirement already satisfied: pyzmq>=20 in /home/mgmtadmin/.local/lib/python3.10/site-packages (from ipykernel>=4.5.1->ipywidgets) (25.1.0)\n",
      "Requirement already satisfied: comm>=0.1.1 in /home/mgmtadmin/.local/lib/python3.10/site-packages (from ipykernel>=4.5.1->ipywidgets) (0.1.3)\n",
      "Requirement already satisfied: tornado>=6.1 in /home/mgmtadmin/.local/lib/python3.10/site-packages (from ipykernel>=4.5.1->ipywidgets) (6.3.2)\n",
      "Requirement already satisfied: jupyter-client>=6.1.12 in /home/mgmtadmin/.local/lib/python3.10/site-packages (from ipykernel>=4.5.1->ipywidgets) (8.3.0)\n",
      "Requirement already satisfied: debugpy>=1.6.5 in /home/mgmtadmin/.local/lib/python3.10/site-packages (from ipykernel>=4.5.1->ipywidgets) (1.6.7)\n",
      "Requirement already satisfied: nest-asyncio in /home/mgmtadmin/.local/lib/python3.10/site-packages (from ipykernel>=4.5.1->ipywidgets) (1.5.6)\n",
      "Requirement already satisfied: packaging in /home/mgmtadmin/.local/lib/python3.10/site-packages (from ipykernel>=4.5.1->ipywidgets) (23.1)\n",
      "Requirement already satisfied: decorator in /home/mgmtadmin/.local/lib/python3.10/site-packages (from ipython>=6.1.0->ipywidgets) (5.1.1)\n",
      "Requirement already satisfied: pickleshare in /home/mgmtadmin/.local/lib/python3.10/site-packages (from ipython>=6.1.0->ipywidgets) (0.7.5)\n",
      "Requirement already satisfied: jedi>=0.16 in /home/mgmtadmin/.local/lib/python3.10/site-packages (from ipython>=6.1.0->ipywidgets) (0.18.2)\n",
      "Requirement already satisfied: pexpect>4.3 in /usr/lib/python3/dist-packages (from ipython>=6.1.0->ipywidgets) (4.8.0)\n",
      "Requirement already satisfied: prompt-toolkit!=3.0.37,<3.1.0,>=3.0.30 in /home/mgmtadmin/.local/lib/python3.10/site-packages (from ipython>=6.1.0->ipywidgets) (3.0.38)\n",
      "Requirement already satisfied: pygments>=2.4.0 in /home/mgmtadmin/.local/lib/python3.10/site-packages (from ipython>=6.1.0->ipywidgets) (2.15.1)\n",
      "Requirement already satisfied: stack-data in /home/mgmtadmin/.local/lib/python3.10/site-packages (from ipython>=6.1.0->ipywidgets) (0.6.2)\n",
      "Requirement already satisfied: backcall in /home/mgmtadmin/.local/lib/python3.10/site-packages (from ipython>=6.1.0->ipywidgets) (0.2.0)\n",
      "Requirement already satisfied: parso<0.9.0,>=0.8.0 in /home/mgmtadmin/.local/lib/python3.10/site-packages (from jedi>=0.16->ipython>=6.1.0->ipywidgets) (0.8.3)\n",
      "Requirement already satisfied: python-dateutil>=2.8.2 in /home/mgmtadmin/.local/lib/python3.10/site-packages (from jupyter-client>=6.1.12->ipykernel>=4.5.1->ipywidgets) (2.8.2)\n",
      "Requirement already satisfied: platformdirs>=2.5 in /home/mgmtadmin/.local/lib/python3.10/site-packages (from jupyter-core!=5.0.*,>=4.12->ipykernel>=4.5.1->ipywidgets) (3.8.0)\n",
      "Requirement already satisfied: wcwidth in /home/mgmtadmin/.local/lib/python3.10/site-packages (from prompt-toolkit!=3.0.37,<3.1.0,>=3.0.30->ipython>=6.1.0->ipywidgets) (0.2.6)\n",
      "Requirement already satisfied: pure-eval in /home/mgmtadmin/.local/lib/python3.10/site-packages (from stack-data->ipython>=6.1.0->ipywidgets) (0.2.2)\n",
      "Requirement already satisfied: asttokens>=2.1.0 in /home/mgmtadmin/.local/lib/python3.10/site-packages (from stack-data->ipython>=6.1.0->ipywidgets) (2.2.1)\n",
      "Requirement already satisfied: executing>=1.2.0 in /home/mgmtadmin/.local/lib/python3.10/site-packages (from stack-data->ipython>=6.1.0->ipywidgets) (1.2.0)\n",
      "Requirement already satisfied: six in /usr/lib/python3/dist-packages (from asttokens>=2.1.0->stack-data->ipython>=6.1.0->ipywidgets) (1.16.0)\n",
      "Installing collected packages: widgetsnbextension, jupyterlab-widgets, ipywidgets\n",
      "Successfully installed ipywidgets-8.0.6 jupyterlab-widgets-3.0.7 widgetsnbextension-4.0.7\n"
     ]
    }
   ],
   "source": [
    "!pip install chromadb\n",
    "!pip install sentence_transformers\n",
    "!pip install plotly\n",
    "!pip install nbformat\n",
    "!pip install ipywidgets"
   ]
  },
  {
   "attachments": {},
   "cell_type": "markdown",
   "id": "9062fdcf",
   "metadata": {},
   "source": [
    "### Imports"
   ]
  },
  {
   "cell_type": "code",
   "execution_count": 3,
   "id": "7dea7ead",
   "metadata": {},
   "outputs": [],
   "source": [
    "import chromadb\n",
    "import json\n",
    "import random\n",
    "import string\n",
    "import numpy as np\n",
    "import pandas as pd\n",
    "import plotly.express as px\n",
    "import time\n",
    "\n",
    "from sklearn.decomposition import PCA\n",
    "from sklearn.manifold import TSNE\n",
    "from chromadb.utils import embedding_functions\n",
    "from datetime import datetime\n",
    "from sentence_transformers import SentenceTransformer"
   ]
  },
  {
   "attachments": {},
   "cell_type": "markdown",
   "id": "d1ee6e2d",
   "metadata": {},
   "source": [
    "### Setup the ChromaDB collection and model"
   ]
  },
  {
   "cell_type": "code",
   "execution_count": 4,
   "id": "458329b4-7b5a-4a0c-9830-b2ded3865579",
   "metadata": {},
   "outputs": [
    {
     "name": "stdout",
     "output_type": "stream",
     "text": [
      "Collection 'change_tickets' created successfully\n"
     ]
    }
   ],
   "source": [
    "try:\n",
    "    emb_fn = embedding_functions.SentenceTransformerEmbeddingFunction(model_name=\"all-mpnet-base-v2\")\n",
    "    chroma_client = chromadb.Client()\n",
    "    collection = chroma_client.get_or_create_collection(\n",
    "        name=\"change_tickets\", \n",
    "        embedding_function=emb_fn, \n",
    "        metadata={\"hnsw:space\": \"cosine\"}\n",
    "    )\n",
    "except ValueError as err:\n",
    "    print(f\"Error: Could not create collection - {err}\")\n",
    "else:\n",
    "    print(f\"Collection '{collection.name}' created successfully\")"
   ]
  },
  {
   "attachments": {},
   "cell_type": "markdown",
   "id": "825dadbd",
   "metadata": {},
   "source": [
    "### Function to generate test change tickets"
   ]
  },
  {
   "cell_type": "code",
   "execution_count": 5,
   "id": "a45ccee9-c5cf-4a18-bee9-b311d22b1c22",
   "metadata": {},
   "outputs": [],
   "source": [
    "suffix_types = ['serv', 'nodeserv', 'nodeweb']\n",
    "raw_change_tickets = [] # All generated tickets stored here\n",
    "used_ticket_numbers = set()\n",
    "app_names = set()\n",
    "\n",
    "def generate_changes(ticket_count=1000, app_count=500, sample_size=5):\n",
    "    for i in range(app_count):\n",
    "        while True:  # Keep generating names until a unique one is found\n",
    "            prefix = ''.join(random.choices(string.ascii_lowercase, k=5))\n",
    "            app_name = f'{prefix}{random.choice(suffix_types)}'\n",
    "            if app_name not in app_names:\n",
    "                app_names.add(app_name)\n",
    "                break\n",
    "    \n",
    "    for i in range(ticket_count):\n",
    "        while True:\n",
    "            ticket_number = f'CHNG{random.randint(100000, 999999)}'\n",
    "            if ticket_number not in used_ticket_numbers:\n",
    "                used_ticket_numbers.add(ticket_number)\n",
    "                break\n",
    "            \n",
    "        app_name = random.choice(list(app_names))\n",
    "        release_name = f'{app_name}-{datetime.now().strftime(\"%m%d%y%H%M%S%f\")}'\n",
    "        ticket_description = f'Recent deployment on {app_name} for manifest ID {release_name}'\n",
    "        \n",
    "        change_ticket = {\n",
    "            'ticket_number': ticket_number,\n",
    "            'ticket_description': ticket_description\n",
    "        }\n",
    "        raw_change_tickets.append(change_ticket)\n",
    "    \n",
    "    sample = random.sample(raw_change_tickets, sample_size)\n",
    "    \n",
    "    for ticket in sample:\n",
    "        print(f'{ticket[\"ticket_number\"]}: {ticket[\"ticket_description\"]}')\n",
    "    \n",
    "    return raw_change_tickets"
   ]
  },
  {
   "attachments": {},
   "cell_type": "markdown",
   "id": "b1a99478",
   "metadata": {},
   "source": [
    "### Generate test data"
   ]
  },
  {
   "cell_type": "code",
   "execution_count": 6,
   "id": "ac046de2-b677-41ad-b194-7f0b547dff76",
   "metadata": {},
   "outputs": [
    {
     "name": "stdout",
     "output_type": "stream",
     "text": [
      "CHNG986633: Recent deployment on khmrtnodeweb for manifest ID khmrtnodeweb-062723185245836349\n",
      "CHNG894967: Recent deployment on dwblfnodeweb for manifest ID dwblfnodeweb-062723185245837051\n",
      "CHNG319312: Recent deployment on rqscunodeserv for manifest ID rqscunodeserv-062723185245838554\n",
      "CHNG773502: Recent deployment on sovyjserv for manifest ID sovyjserv-062723185245834834\n",
      "CHNG612448: Recent deployment on xhduynodeserv for manifest ID xhduynodeserv-062723185245824444\n"
     ]
    }
   ],
   "source": [
    "if __name__ == '__main__':\n",
    "    change_data = generate_changes(ticket_count=1000, app_count=500, sample_size=5)"
   ]
  },
  {
   "attachments": {},
   "cell_type": "markdown",
   "id": "4cc50572",
   "metadata": {},
   "source": [
    "### Transform test data for Chroma"
   ]
  },
  {
   "cell_type": "code",
   "execution_count": 7,
   "id": "e092f53b-e98e-475a-9b30-63c372e6b4b5",
   "metadata": {},
   "outputs": [
    {
     "name": "stdout",
     "output_type": "stream",
     "text": [
      "1000\n",
      "1000\n"
     ]
    }
   ],
   "source": [
    "change_ids = []\n",
    "change_tickets = []\n",
    "\n",
    "for change in change_data:\n",
    "    change_ids.append(change['ticket_number'])\n",
    "    change_details = f\"{change['ticket_number']}: {change['ticket_description']}\"\n",
    "    change_tickets.append(change_details)\n",
    "\n",
    "print(len(change_ids))\n",
    "print(len(change_tickets))"
   ]
  },
  {
   "attachments": {},
   "cell_type": "markdown",
   "id": "e096813d",
   "metadata": {},
   "source": [
    "### Add change tickets to ChromaDB"
   ]
  },
  {
   "cell_type": "code",
   "execution_count": 8,
   "id": "f4fdcdb5-0363-4986-b68e-70ee7b79610e",
   "metadata": {},
   "outputs": [
    {
     "name": "stdout",
     "output_type": "stream",
     "text": [
      "1000\n"
     ]
    }
   ],
   "source": [
    "collection.add(\n",
    "    documents=change_tickets,\n",
    "    #metadatas=[{\"chapter\": \"3\", \"verse\": \"16\"}, {\"chapter\": \"3\", \"verse\": \"5\"}, {\"chapter\": \"29\", \"verse\": \"11\"}, ...],\n",
    "    ids=change_ids\n",
    ")\n",
    "print(collection.count())"
   ]
  },
  {
   "attachments": {},
   "cell_type": "markdown",
   "id": "106e085e",
   "metadata": {},
   "source": [
    "### Query against the database using our search string/vector"
   ]
  },
  {
   "cell_type": "code",
   "execution_count": 9,
   "id": "9c146691-8696-4da9-b08f-2f121b0107f6",
   "metadata": {},
   "outputs": [],
   "source": [
    "# Load the SentenceTransformer model\n",
    "model_name = \"all-mpnet-base-v2\"  # Replace with the desired model name\n",
    "model = SentenceTransformer(model_name)\n",
    "\n",
    "# Vectorize search string\n",
    "search_text = \"hello\"\n",
    "search_vector = model.encode([search_text])\n",
    "search_vector = [float(value) for value in search_vector[0]]\n",
    "\n",
    "results = collection.query(\n",
    "    query_embeddings = [search_vector],\n",
    "    #query_texts=[\"hello\"],\n",
    "    n_results=5, # MUST BE GREATER THAN PERPLEXITY USED IN VISUALIZATION\n",
    "    include=['documents', 'metadatas', 'embeddings'],\n",
    "    #where={\"metadata_field\": \"is_equal_to_this\"},\n",
    "    #where_document={\"$contains\":\"search_string\"}\n",
    ")\n",
    "\n",
    "#print(json.dumps(results, indent=2))"
   ]
  },
  {
   "attachments": {},
   "cell_type": "markdown",
   "id": "3315644b",
   "metadata": {},
   "source": [
    "### How do we know this isn't just doing a text search?"
   ]
  },
  {
   "cell_type": "code",
   "execution_count": 10,
   "id": "805f747e-7e91-41b0-b3c1-8ce1eaa0f856",
   "metadata": {},
   "outputs": [],
   "source": [
    "search_term = \"otars\"\n",
    "for ticket in change_tickets:\n",
    "    if search_term in ticket:\n",
    "        print(f\"Found '{search_term}' in ticket '{ticket}'\")"
   ]
  },
  {
   "attachments": {},
   "cell_type": "markdown",
   "id": "fa687472",
   "metadata": {},
   "source": [
    "### Perform dimensionality reduction with PCA & tSNE"
   ]
  },
  {
   "cell_type": "code",
   "execution_count": 11,
   "id": "3bb252a9",
   "metadata": {},
   "outputs": [],
   "source": [
    "# Get search result data\n",
    "data = {\n",
    "    'embeddings': results[\"embeddings\"][0],\n",
    "    'documents': results[\"documents\"][0],\n",
    "    'metadatas': results[\"metadatas\"][0],\n",
    "    'ids': results[\"ids\"][0]\n",
    "}\n",
    "df = pd.DataFrame.from_dict(data=data[\"embeddings\"])\n",
    "\n",
    "# Perform dimensionality reduction with PCA\n",
    "pca_50 = PCA(n_components=5)\n",
    "pca_result_50 = pca_50.fit_transform(df)\n",
    "\n",
    "# Perform dimensionality reduction with t-SNE\n",
    "tsne = TSNE(n_components=3, verbose=0, perplexity=3, n_iter=300) # To do: usage details -- PERPLEXITY AND NUMBER OF COMPONENTS MUST BE LESS THAN TOTAL RESULTS IN DATASET\n",
    "tsne_pca_results = tsne.fit_transform(pca_result_50)\n",
    "tsne_pca_results = tsne_pca_results / 3\n"
   ]
  },
  {
   "attachments": {},
   "cell_type": "markdown",
   "id": "38bc7967",
   "metadata": {},
   "source": [
    "### Prepare data for visualization"
   ]
  },
  {
   "cell_type": "code",
   "execution_count": 38,
   "id": "cfcfc9ec-56f5-4882-aca1-feec131161d9",
   "metadata": {},
   "outputs": [
    {
     "data": {
      "application/vnd.plotly.v1+json": {
       "config": {
        "plotlyServerURL": "https://plot.ly"
       },
       "data": [
        {
         "customdata": [
          [
           "CHNG891974",
           "CHNG891974: Recent deployment on tquyonodeweb for manifest ID tquyonodeweb-062723110951795046",
           1
          ],
          [
           "CHNG677145",
           "CHNG677145: Recent deployment on waabhnodeserv for manifest ID waabhnodeserv-062723110951795466",
           0
          ],
          [
           "CHNG873985",
           "CHNG873985: Recent deployment on qahznserv for manifest ID qahznserv-062723110951796715",
           3
          ],
          [
           "CHNG664297",
           "CHNG664297: Recent deployment on qahznserv for manifest ID qahznserv-062723110951800006",
           4
          ],
          [
           "CHNG210925",
           "CHNG210925: Recent deployment on qahznserv for manifest ID qahznserv-062723110951797500",
           2
          ],
          [
           "<b style=\"font-size: 14px\">hello</b>",
           "hello",
           0
          ]
         ],
         "hovertemplate": "<b>ID:</b> %{customdata[0]}<br><b>Document:</b> %{customdata[1]}<br><b>Group:</b> %{customdata[2]}<br><extra></extra>",
         "marker": {
          "color": [
           1,
           0,
           3,
           4,
           2,
           "orange"
          ],
          "colorbar": {
           "title": {
            "text": "Group"
           }
          },
          "colorscale": [
           [
            0,
            "#440154"
           ],
           [
            0.1111111111111111,
            "#482878"
           ],
           [
            0.2222222222222222,
            "#3e4989"
           ],
           [
            0.3333333333333333,
            "#31688e"
           ],
           [
            0.4444444444444444,
            "#26828e"
           ],
           [
            0.5555555555555556,
            "#1f9e89"
           ],
           [
            0.6666666666666666,
            "#35b779"
           ],
           [
            0.7777777777777778,
            "#6ece58"
           ],
           [
            0.8888888888888888,
            "#b5de2b"
           ],
           [
            1,
            "#fde725"
           ]
          ],
          "size": [
           12,
           12,
           12,
           12,
           12,
           15
          ],
          "symbol": [
           "circle",
           "circle",
           "circle",
           "circle",
           "circle",
           "diamond"
          ]
         },
         "mode": "markers",
         "type": "scatter3d",
         "x": [
          9.99006175994873,
          -15.221447944641113,
          20.110864639282227,
          7.629941940307617,
          -28.95049285888672,
          0.030639829114079475
         ],
         "y": [
          18.6418399810791,
          16.020275115966797,
          1.1626867055892944,
          -15.901747703552246,
          36.4769401550293,
          -0.0062301852740347385
         ],
         "z": [
          3.7352259159088135,
          18.0665340423584,
          -6.368571758270264,
          -7.929594039916992,
          22.00590705871582,
          -0.00212154071778059
         ]
        },
        {
         "legendgroup": "V0",
         "line": {
          "color": "grey"
         },
         "mode": "lines",
         "name": "V0",
         "showlegend": false,
         "type": "scatter3d",
         "x": [
          0.030639829114079475,
          9.99006175994873
         ],
         "y": [
          -0.0062301852740347385,
          18.6418399810791
         ],
         "z": [
          -0.00212154071778059,
          3.7352259159088135
         ]
        },
        {
         "legendgroup": "V0",
         "line": {
          "color": "grey"
         },
         "mode": "lines",
         "name": "V0",
         "showlegend": false,
         "type": "scatter3d",
         "x": [
          0.030639829114079475,
          -15.221447944641113
         ],
         "y": [
          -0.0062301852740347385,
          16.020275115966797
         ],
         "z": [
          -0.00212154071778059,
          18.0665340423584
         ]
        },
        {
         "legendgroup": "V0",
         "line": {
          "color": "grey"
         },
         "mode": "lines",
         "name": "V0",
         "showlegend": false,
         "type": "scatter3d",
         "x": [
          0.030639829114079475,
          20.110864639282227
         ],
         "y": [
          -0.0062301852740347385,
          1.1626867055892944
         ],
         "z": [
          -0.00212154071778059,
          -6.368571758270264
         ]
        },
        {
         "legendgroup": "V0",
         "line": {
          "color": "grey"
         },
         "mode": "lines",
         "name": "V0",
         "showlegend": false,
         "type": "scatter3d",
         "x": [
          0.030639829114079475,
          7.629941940307617
         ],
         "y": [
          -0.0062301852740347385,
          -15.901747703552246
         ],
         "z": [
          -0.00212154071778059,
          -7.929594039916992
         ]
        },
        {
         "legendgroup": "V0",
         "line": {
          "color": "grey"
         },
         "mode": "lines",
         "name": "V0",
         "showlegend": false,
         "type": "scatter3d",
         "x": [
          0.030639829114079475,
          -28.95049285888672
         ],
         "y": [
          -0.0062301852740347385,
          36.4769401550293
         ],
         "z": [
          -0.00212154071778059,
          22.00590705871582
         ]
        },
        {
         "legendgroup": "V0",
         "line": {
          "color": "grey"
         },
         "mode": "lines",
         "name": "V0",
         "showlegend": false,
         "type": "scatter3d",
         "x": [
          0.030639829114079475,
          0.030639829114079475
         ],
         "y": [
          -0.0062301852740347385,
          -0.0062301852740347385
         ],
         "z": [
          -0.00212154071778059,
          -0.00212154071778059
         ]
        }
       ],
       "layout": {
        "height": 768,
        "scene": {
         "annotations": [
          {
           "font": {
            "color": "white",
            "size": 10
           },
           "showarrow": true,
           "text": "CHNG891974",
           "x": 9.99006175994873,
           "xanchor": "center",
           "y": 18.6418399810791,
           "yanchor": "top",
           "z": 3.7352259159088135
          },
          {
           "font": {
            "color": "white",
            "size": 10
           },
           "showarrow": true,
           "text": "CHNG677145",
           "x": -15.221447944641113,
           "xanchor": "center",
           "y": 16.020275115966797,
           "yanchor": "top",
           "z": 18.0665340423584
          },
          {
           "font": {
            "color": "white",
            "size": 10
           },
           "showarrow": true,
           "text": "CHNG873985",
           "x": 20.110864639282227,
           "xanchor": "center",
           "y": 1.1626867055892944,
           "yanchor": "top",
           "z": -6.368571758270264
          },
          {
           "font": {
            "color": "white",
            "size": 10
           },
           "showarrow": true,
           "text": "CHNG664297",
           "x": 7.629941940307617,
           "xanchor": "center",
           "y": -15.901747703552246,
           "yanchor": "top",
           "z": -7.929594039916992
          },
          {
           "font": {
            "color": "white",
            "size": 10
           },
           "showarrow": true,
           "text": "CHNG210925",
           "x": -28.95049285888672,
           "xanchor": "center",
           "y": 36.4769401550293,
           "yanchor": "top",
           "z": 22.00590705871582
          },
          {
           "font": {
            "color": "white",
            "size": 10
           },
           "showarrow": true,
           "text": "<b style=\"font-size: 14px\">hello</b>",
           "x": 0.030639829114079475,
           "xanchor": "center",
           "y": -0.0062301852740347385,
           "yanchor": "top",
           "z": -0.00212154071778059
          }
         ],
         "xaxis": {
          "title": {
           "text": "X"
          }
         },
         "yaxis": {
          "title": {
           "text": "Y"
          }
         },
         "zaxis": {
          "title": {
           "text": "Z"
          }
         }
        },
        "template": {
         "data": {
          "bar": [
           {
            "error_x": {
             "color": "#f2f5fa"
            },
            "error_y": {
             "color": "#f2f5fa"
            },
            "marker": {
             "line": {
              "color": "rgb(17,17,17)",
              "width": 0.5
             },
             "pattern": {
              "fillmode": "overlay",
              "size": 10,
              "solidity": 0.2
             }
            },
            "type": "bar"
           }
          ],
          "barpolar": [
           {
            "marker": {
             "line": {
              "color": "rgb(17,17,17)",
              "width": 0.5
             },
             "pattern": {
              "fillmode": "overlay",
              "size": 10,
              "solidity": 0.2
             }
            },
            "type": "barpolar"
           }
          ],
          "carpet": [
           {
            "aaxis": {
             "endlinecolor": "#A2B1C6",
             "gridcolor": "#506784",
             "linecolor": "#506784",
             "minorgridcolor": "#506784",
             "startlinecolor": "#A2B1C6"
            },
            "baxis": {
             "endlinecolor": "#A2B1C6",
             "gridcolor": "#506784",
             "linecolor": "#506784",
             "minorgridcolor": "#506784",
             "startlinecolor": "#A2B1C6"
            },
            "type": "carpet"
           }
          ],
          "choropleth": [
           {
            "colorbar": {
             "outlinewidth": 0,
             "ticks": ""
            },
            "type": "choropleth"
           }
          ],
          "contour": [
           {
            "colorbar": {
             "outlinewidth": 0,
             "ticks": ""
            },
            "colorscale": [
             [
              0,
              "#0d0887"
             ],
             [
              0.1111111111111111,
              "#46039f"
             ],
             [
              0.2222222222222222,
              "#7201a8"
             ],
             [
              0.3333333333333333,
              "#9c179e"
             ],
             [
              0.4444444444444444,
              "#bd3786"
             ],
             [
              0.5555555555555556,
              "#d8576b"
             ],
             [
              0.6666666666666666,
              "#ed7953"
             ],
             [
              0.7777777777777778,
              "#fb9f3a"
             ],
             [
              0.8888888888888888,
              "#fdca26"
             ],
             [
              1,
              "#f0f921"
             ]
            ],
            "type": "contour"
           }
          ],
          "contourcarpet": [
           {
            "colorbar": {
             "outlinewidth": 0,
             "ticks": ""
            },
            "type": "contourcarpet"
           }
          ],
          "heatmap": [
           {
            "colorbar": {
             "outlinewidth": 0,
             "ticks": ""
            },
            "colorscale": [
             [
              0,
              "#0d0887"
             ],
             [
              0.1111111111111111,
              "#46039f"
             ],
             [
              0.2222222222222222,
              "#7201a8"
             ],
             [
              0.3333333333333333,
              "#9c179e"
             ],
             [
              0.4444444444444444,
              "#bd3786"
             ],
             [
              0.5555555555555556,
              "#d8576b"
             ],
             [
              0.6666666666666666,
              "#ed7953"
             ],
             [
              0.7777777777777778,
              "#fb9f3a"
             ],
             [
              0.8888888888888888,
              "#fdca26"
             ],
             [
              1,
              "#f0f921"
             ]
            ],
            "type": "heatmap"
           }
          ],
          "heatmapgl": [
           {
            "colorbar": {
             "outlinewidth": 0,
             "ticks": ""
            },
            "colorscale": [
             [
              0,
              "#0d0887"
             ],
             [
              0.1111111111111111,
              "#46039f"
             ],
             [
              0.2222222222222222,
              "#7201a8"
             ],
             [
              0.3333333333333333,
              "#9c179e"
             ],
             [
              0.4444444444444444,
              "#bd3786"
             ],
             [
              0.5555555555555556,
              "#d8576b"
             ],
             [
              0.6666666666666666,
              "#ed7953"
             ],
             [
              0.7777777777777778,
              "#fb9f3a"
             ],
             [
              0.8888888888888888,
              "#fdca26"
             ],
             [
              1,
              "#f0f921"
             ]
            ],
            "type": "heatmapgl"
           }
          ],
          "histogram": [
           {
            "marker": {
             "pattern": {
              "fillmode": "overlay",
              "size": 10,
              "solidity": 0.2
             }
            },
            "type": "histogram"
           }
          ],
          "histogram2d": [
           {
            "colorbar": {
             "outlinewidth": 0,
             "ticks": ""
            },
            "colorscale": [
             [
              0,
              "#0d0887"
             ],
             [
              0.1111111111111111,
              "#46039f"
             ],
             [
              0.2222222222222222,
              "#7201a8"
             ],
             [
              0.3333333333333333,
              "#9c179e"
             ],
             [
              0.4444444444444444,
              "#bd3786"
             ],
             [
              0.5555555555555556,
              "#d8576b"
             ],
             [
              0.6666666666666666,
              "#ed7953"
             ],
             [
              0.7777777777777778,
              "#fb9f3a"
             ],
             [
              0.8888888888888888,
              "#fdca26"
             ],
             [
              1,
              "#f0f921"
             ]
            ],
            "type": "histogram2d"
           }
          ],
          "histogram2dcontour": [
           {
            "colorbar": {
             "outlinewidth": 0,
             "ticks": ""
            },
            "colorscale": [
             [
              0,
              "#0d0887"
             ],
             [
              0.1111111111111111,
              "#46039f"
             ],
             [
              0.2222222222222222,
              "#7201a8"
             ],
             [
              0.3333333333333333,
              "#9c179e"
             ],
             [
              0.4444444444444444,
              "#bd3786"
             ],
             [
              0.5555555555555556,
              "#d8576b"
             ],
             [
              0.6666666666666666,
              "#ed7953"
             ],
             [
              0.7777777777777778,
              "#fb9f3a"
             ],
             [
              0.8888888888888888,
              "#fdca26"
             ],
             [
              1,
              "#f0f921"
             ]
            ],
            "type": "histogram2dcontour"
           }
          ],
          "mesh3d": [
           {
            "colorbar": {
             "outlinewidth": 0,
             "ticks": ""
            },
            "type": "mesh3d"
           }
          ],
          "parcoords": [
           {
            "line": {
             "colorbar": {
              "outlinewidth": 0,
              "ticks": ""
             }
            },
            "type": "parcoords"
           }
          ],
          "pie": [
           {
            "automargin": true,
            "type": "pie"
           }
          ],
          "scatter": [
           {
            "marker": {
             "line": {
              "color": "#283442"
             }
            },
            "type": "scatter"
           }
          ],
          "scatter3d": [
           {
            "line": {
             "colorbar": {
              "outlinewidth": 0,
              "ticks": ""
             }
            },
            "marker": {
             "colorbar": {
              "outlinewidth": 0,
              "ticks": ""
             }
            },
            "type": "scatter3d"
           }
          ],
          "scattercarpet": [
           {
            "marker": {
             "colorbar": {
              "outlinewidth": 0,
              "ticks": ""
             }
            },
            "type": "scattercarpet"
           }
          ],
          "scattergeo": [
           {
            "marker": {
             "colorbar": {
              "outlinewidth": 0,
              "ticks": ""
             }
            },
            "type": "scattergeo"
           }
          ],
          "scattergl": [
           {
            "marker": {
             "line": {
              "color": "#283442"
             }
            },
            "type": "scattergl"
           }
          ],
          "scattermapbox": [
           {
            "marker": {
             "colorbar": {
              "outlinewidth": 0,
              "ticks": ""
             }
            },
            "type": "scattermapbox"
           }
          ],
          "scatterpolar": [
           {
            "marker": {
             "colorbar": {
              "outlinewidth": 0,
              "ticks": ""
             }
            },
            "type": "scatterpolar"
           }
          ],
          "scatterpolargl": [
           {
            "marker": {
             "colorbar": {
              "outlinewidth": 0,
              "ticks": ""
             }
            },
            "type": "scatterpolargl"
           }
          ],
          "scatterternary": [
           {
            "marker": {
             "colorbar": {
              "outlinewidth": 0,
              "ticks": ""
             }
            },
            "type": "scatterternary"
           }
          ],
          "surface": [
           {
            "colorbar": {
             "outlinewidth": 0,
             "ticks": ""
            },
            "colorscale": [
             [
              0,
              "#0d0887"
             ],
             [
              0.1111111111111111,
              "#46039f"
             ],
             [
              0.2222222222222222,
              "#7201a8"
             ],
             [
              0.3333333333333333,
              "#9c179e"
             ],
             [
              0.4444444444444444,
              "#bd3786"
             ],
             [
              0.5555555555555556,
              "#d8576b"
             ],
             [
              0.6666666666666666,
              "#ed7953"
             ],
             [
              0.7777777777777778,
              "#fb9f3a"
             ],
             [
              0.8888888888888888,
              "#fdca26"
             ],
             [
              1,
              "#f0f921"
             ]
            ],
            "type": "surface"
           }
          ],
          "table": [
           {
            "cells": {
             "fill": {
              "color": "#506784"
             },
             "line": {
              "color": "rgb(17,17,17)"
             }
            },
            "header": {
             "fill": {
              "color": "#2a3f5f"
             },
             "line": {
              "color": "rgb(17,17,17)"
             }
            },
            "type": "table"
           }
          ]
         },
         "layout": {
          "annotationdefaults": {
           "arrowcolor": "#f2f5fa",
           "arrowhead": 0,
           "arrowwidth": 1
          },
          "autotypenumbers": "strict",
          "coloraxis": {
           "colorbar": {
            "outlinewidth": 0,
            "ticks": ""
           }
          },
          "colorscale": {
           "diverging": [
            [
             0,
             "#8e0152"
            ],
            [
             0.1,
             "#c51b7d"
            ],
            [
             0.2,
             "#de77ae"
            ],
            [
             0.3,
             "#f1b6da"
            ],
            [
             0.4,
             "#fde0ef"
            ],
            [
             0.5,
             "#f7f7f7"
            ],
            [
             0.6,
             "#e6f5d0"
            ],
            [
             0.7,
             "#b8e186"
            ],
            [
             0.8,
             "#7fbc41"
            ],
            [
             0.9,
             "#4d9221"
            ],
            [
             1,
             "#276419"
            ]
           ],
           "sequential": [
            [
             0,
             "#0d0887"
            ],
            [
             0.1111111111111111,
             "#46039f"
            ],
            [
             0.2222222222222222,
             "#7201a8"
            ],
            [
             0.3333333333333333,
             "#9c179e"
            ],
            [
             0.4444444444444444,
             "#bd3786"
            ],
            [
             0.5555555555555556,
             "#d8576b"
            ],
            [
             0.6666666666666666,
             "#ed7953"
            ],
            [
             0.7777777777777778,
             "#fb9f3a"
            ],
            [
             0.8888888888888888,
             "#fdca26"
            ],
            [
             1,
             "#f0f921"
            ]
           ],
           "sequentialminus": [
            [
             0,
             "#0d0887"
            ],
            [
             0.1111111111111111,
             "#46039f"
            ],
            [
             0.2222222222222222,
             "#7201a8"
            ],
            [
             0.3333333333333333,
             "#9c179e"
            ],
            [
             0.4444444444444444,
             "#bd3786"
            ],
            [
             0.5555555555555556,
             "#d8576b"
            ],
            [
             0.6666666666666666,
             "#ed7953"
            ],
            [
             0.7777777777777778,
             "#fb9f3a"
            ],
            [
             0.8888888888888888,
             "#fdca26"
            ],
            [
             1,
             "#f0f921"
            ]
           ]
          },
          "colorway": [
           "#636efa",
           "#EF553B",
           "#00cc96",
           "#ab63fa",
           "#FFA15A",
           "#19d3f3",
           "#FF6692",
           "#B6E880",
           "#FF97FF",
           "#FECB52"
          ],
          "font": {
           "color": "#f2f5fa"
          },
          "geo": {
           "bgcolor": "rgb(17,17,17)",
           "lakecolor": "rgb(17,17,17)",
           "landcolor": "rgb(17,17,17)",
           "showlakes": true,
           "showland": true,
           "subunitcolor": "#506784"
          },
          "hoverlabel": {
           "align": "left"
          },
          "hovermode": "closest",
          "mapbox": {
           "style": "dark"
          },
          "paper_bgcolor": "rgb(17,17,17)",
          "plot_bgcolor": "rgb(17,17,17)",
          "polar": {
           "angularaxis": {
            "gridcolor": "#506784",
            "linecolor": "#506784",
            "ticks": ""
           },
           "bgcolor": "rgb(17,17,17)",
           "radialaxis": {
            "gridcolor": "#506784",
            "linecolor": "#506784",
            "ticks": ""
           }
          },
          "scene": {
           "xaxis": {
            "backgroundcolor": "rgb(17,17,17)",
            "gridcolor": "#506784",
            "gridwidth": 2,
            "linecolor": "#506784",
            "showbackground": true,
            "ticks": "",
            "zerolinecolor": "#C8D4E3"
           },
           "yaxis": {
            "backgroundcolor": "rgb(17,17,17)",
            "gridcolor": "#506784",
            "gridwidth": 2,
            "linecolor": "#506784",
            "showbackground": true,
            "ticks": "",
            "zerolinecolor": "#C8D4E3"
           },
           "zaxis": {
            "backgroundcolor": "rgb(17,17,17)",
            "gridcolor": "#506784",
            "gridwidth": 2,
            "linecolor": "#506784",
            "showbackground": true,
            "ticks": "",
            "zerolinecolor": "#C8D4E3"
           }
          },
          "shapedefaults": {
           "line": {
            "color": "#f2f5fa"
           }
          },
          "sliderdefaults": {
           "bgcolor": "#C8D4E3",
           "bordercolor": "rgb(17,17,17)",
           "borderwidth": 1,
           "tickwidth": 0
          },
          "ternary": {
           "aaxis": {
            "gridcolor": "#506784",
            "linecolor": "#506784",
            "ticks": ""
           },
           "baxis": {
            "gridcolor": "#506784",
            "linecolor": "#506784",
            "ticks": ""
           },
           "bgcolor": "rgb(17,17,17)",
           "caxis": {
            "gridcolor": "#506784",
            "linecolor": "#506784",
            "ticks": ""
           }
          },
          "title": {
           "x": 0.05
          },
          "updatemenudefaults": {
           "bgcolor": "#506784",
           "borderwidth": 0
          },
          "xaxis": {
           "automargin": true,
           "gridcolor": "#283442",
           "linecolor": "#506784",
           "ticks": "",
           "title": {
            "standoff": 15
           },
           "zerolinecolor": "#283442",
           "zerolinewidth": 2
          },
          "yaxis": {
           "automargin": true,
           "gridcolor": "#283442",
           "linecolor": "#506784",
           "ticks": "",
           "title": {
            "standoff": 15
           },
           "zerolinecolor": "#283442",
           "zerolinewidth": 2
          }
         }
        },
        "width": 1024
       }
      },
      "text/html": [
       "<div>                            <div id=\"a387e9ce-5902-41ed-8c04-4a142efd4912\" class=\"plotly-graph-div\" style=\"height:768px; width:1024px;\"></div>            <script type=\"text/javascript\">                require([\"plotly\"], function(Plotly) {                    window.PLOTLYENV=window.PLOTLYENV || {};                                    if (document.getElementById(\"a387e9ce-5902-41ed-8c04-4a142efd4912\")) {                    Plotly.newPlot(                        \"a387e9ce-5902-41ed-8c04-4a142efd4912\",                        [{\"customdata\":[[\"CHNG891974\",\"CHNG891974: Recent deployment on tquyonodeweb for manifest ID tquyonodeweb-062723110951795046\",1],[\"CHNG677145\",\"CHNG677145: Recent deployment on waabhnodeserv for manifest ID waabhnodeserv-062723110951795466\",0],[\"CHNG873985\",\"CHNG873985: Recent deployment on qahznserv for manifest ID qahznserv-062723110951796715\",3],[\"CHNG664297\",\"CHNG664297: Recent deployment on qahznserv for manifest ID qahznserv-062723110951800006\",4],[\"CHNG210925\",\"CHNG210925: Recent deployment on qahznserv for manifest ID qahznserv-062723110951797500\",2],[\"\\u003cb style=\\\"font-size: 14px\\\"\\u003ehello\\u003c\\u002fb\\u003e\",\"hello\",0]],\"hovertemplate\":\"\\u003cb\\u003eID:\\u003c\\u002fb\\u003e %{customdata[0]}\\u003cbr\\u003e\\u003cb\\u003eDocument:\\u003c\\u002fb\\u003e %{customdata[1]}\\u003cbr\\u003e\\u003cb\\u003eGroup:\\u003c\\u002fb\\u003e %{customdata[2]}\\u003cbr\\u003e\\u003cextra\\u003e\\u003c\\u002fextra\\u003e\",\"marker\":{\"color\":[1,0,3,4,2,\"orange\"],\"colorbar\":{\"title\":{\"text\":\"Group\"}},\"colorscale\":[[0.0,\"#440154\"],[0.1111111111111111,\"#482878\"],[0.2222222222222222,\"#3e4989\"],[0.3333333333333333,\"#31688e\"],[0.4444444444444444,\"#26828e\"],[0.5555555555555556,\"#1f9e89\"],[0.6666666666666666,\"#35b779\"],[0.7777777777777778,\"#6ece58\"],[0.8888888888888888,\"#b5de2b\"],[1.0,\"#fde725\"]],\"size\":[12,12,12,12,12,15],\"symbol\":[\"circle\",\"circle\",\"circle\",\"circle\",\"circle\",\"diamond\"]},\"mode\":\"markers\",\"x\":[9.99006175994873,-15.221447944641113,20.110864639282227,7.629941940307617,-28.95049285888672,0.030639829114079475],\"y\":[18.6418399810791,16.020275115966797,1.1626867055892944,-15.901747703552246,36.4769401550293,-0.0062301852740347385],\"z\":[3.7352259159088135,18.0665340423584,-6.368571758270264,-7.929594039916992,22.00590705871582,-0.00212154071778059],\"type\":\"scatter3d\"},{\"legendgroup\":\"V0\",\"line\":{\"color\":\"grey\"},\"mode\":\"lines\",\"name\":\"V0\",\"showlegend\":false,\"x\":[0.030639829114079475,9.99006175994873],\"y\":[-0.0062301852740347385,18.6418399810791],\"z\":[-0.00212154071778059,3.7352259159088135],\"type\":\"scatter3d\"},{\"legendgroup\":\"V0\",\"line\":{\"color\":\"grey\"},\"mode\":\"lines\",\"name\":\"V0\",\"showlegend\":false,\"x\":[0.030639829114079475,-15.221447944641113],\"y\":[-0.0062301852740347385,16.020275115966797],\"z\":[-0.00212154071778059,18.0665340423584],\"type\":\"scatter3d\"},{\"legendgroup\":\"V0\",\"line\":{\"color\":\"grey\"},\"mode\":\"lines\",\"name\":\"V0\",\"showlegend\":false,\"x\":[0.030639829114079475,20.110864639282227],\"y\":[-0.0062301852740347385,1.1626867055892944],\"z\":[-0.00212154071778059,-6.368571758270264],\"type\":\"scatter3d\"},{\"legendgroup\":\"V0\",\"line\":{\"color\":\"grey\"},\"mode\":\"lines\",\"name\":\"V0\",\"showlegend\":false,\"x\":[0.030639829114079475,7.629941940307617],\"y\":[-0.0062301852740347385,-15.901747703552246],\"z\":[-0.00212154071778059,-7.929594039916992],\"type\":\"scatter3d\"},{\"legendgroup\":\"V0\",\"line\":{\"color\":\"grey\"},\"mode\":\"lines\",\"name\":\"V0\",\"showlegend\":false,\"x\":[0.030639829114079475,-28.95049285888672],\"y\":[-0.0062301852740347385,36.4769401550293],\"z\":[-0.00212154071778059,22.00590705871582],\"type\":\"scatter3d\"},{\"legendgroup\":\"V0\",\"line\":{\"color\":\"grey\"},\"mode\":\"lines\",\"name\":\"V0\",\"showlegend\":false,\"x\":[0.030639829114079475,0.030639829114079475],\"y\":[-0.0062301852740347385,-0.0062301852740347385],\"z\":[-0.00212154071778059,-0.00212154071778059],\"type\":\"scatter3d\"}],                        {\"template\":{\"data\":{\"barpolar\":[{\"marker\":{\"line\":{\"color\":\"rgb(17,17,17)\",\"width\":0.5},\"pattern\":{\"fillmode\":\"overlay\",\"size\":10,\"solidity\":0.2}},\"type\":\"barpolar\"}],\"bar\":[{\"error_x\":{\"color\":\"#f2f5fa\"},\"error_y\":{\"color\":\"#f2f5fa\"},\"marker\":{\"line\":{\"color\":\"rgb(17,17,17)\",\"width\":0.5},\"pattern\":{\"fillmode\":\"overlay\",\"size\":10,\"solidity\":0.2}},\"type\":\"bar\"}],\"carpet\":[{\"aaxis\":{\"endlinecolor\":\"#A2B1C6\",\"gridcolor\":\"#506784\",\"linecolor\":\"#506784\",\"minorgridcolor\":\"#506784\",\"startlinecolor\":\"#A2B1C6\"},\"baxis\":{\"endlinecolor\":\"#A2B1C6\",\"gridcolor\":\"#506784\",\"linecolor\":\"#506784\",\"minorgridcolor\":\"#506784\",\"startlinecolor\":\"#A2B1C6\"},\"type\":\"carpet\"}],\"choropleth\":[{\"colorbar\":{\"outlinewidth\":0,\"ticks\":\"\"},\"type\":\"choropleth\"}],\"contourcarpet\":[{\"colorbar\":{\"outlinewidth\":0,\"ticks\":\"\"},\"type\":\"contourcarpet\"}],\"contour\":[{\"colorbar\":{\"outlinewidth\":0,\"ticks\":\"\"},\"colorscale\":[[0.0,\"#0d0887\"],[0.1111111111111111,\"#46039f\"],[0.2222222222222222,\"#7201a8\"],[0.3333333333333333,\"#9c179e\"],[0.4444444444444444,\"#bd3786\"],[0.5555555555555556,\"#d8576b\"],[0.6666666666666666,\"#ed7953\"],[0.7777777777777778,\"#fb9f3a\"],[0.8888888888888888,\"#fdca26\"],[1.0,\"#f0f921\"]],\"type\":\"contour\"}],\"heatmapgl\":[{\"colorbar\":{\"outlinewidth\":0,\"ticks\":\"\"},\"colorscale\":[[0.0,\"#0d0887\"],[0.1111111111111111,\"#46039f\"],[0.2222222222222222,\"#7201a8\"],[0.3333333333333333,\"#9c179e\"],[0.4444444444444444,\"#bd3786\"],[0.5555555555555556,\"#d8576b\"],[0.6666666666666666,\"#ed7953\"],[0.7777777777777778,\"#fb9f3a\"],[0.8888888888888888,\"#fdca26\"],[1.0,\"#f0f921\"]],\"type\":\"heatmapgl\"}],\"heatmap\":[{\"colorbar\":{\"outlinewidth\":0,\"ticks\":\"\"},\"colorscale\":[[0.0,\"#0d0887\"],[0.1111111111111111,\"#46039f\"],[0.2222222222222222,\"#7201a8\"],[0.3333333333333333,\"#9c179e\"],[0.4444444444444444,\"#bd3786\"],[0.5555555555555556,\"#d8576b\"],[0.6666666666666666,\"#ed7953\"],[0.7777777777777778,\"#fb9f3a\"],[0.8888888888888888,\"#fdca26\"],[1.0,\"#f0f921\"]],\"type\":\"heatmap\"}],\"histogram2dcontour\":[{\"colorbar\":{\"outlinewidth\":0,\"ticks\":\"\"},\"colorscale\":[[0.0,\"#0d0887\"],[0.1111111111111111,\"#46039f\"],[0.2222222222222222,\"#7201a8\"],[0.3333333333333333,\"#9c179e\"],[0.4444444444444444,\"#bd3786\"],[0.5555555555555556,\"#d8576b\"],[0.6666666666666666,\"#ed7953\"],[0.7777777777777778,\"#fb9f3a\"],[0.8888888888888888,\"#fdca26\"],[1.0,\"#f0f921\"]],\"type\":\"histogram2dcontour\"}],\"histogram2d\":[{\"colorbar\":{\"outlinewidth\":0,\"ticks\":\"\"},\"colorscale\":[[0.0,\"#0d0887\"],[0.1111111111111111,\"#46039f\"],[0.2222222222222222,\"#7201a8\"],[0.3333333333333333,\"#9c179e\"],[0.4444444444444444,\"#bd3786\"],[0.5555555555555556,\"#d8576b\"],[0.6666666666666666,\"#ed7953\"],[0.7777777777777778,\"#fb9f3a\"],[0.8888888888888888,\"#fdca26\"],[1.0,\"#f0f921\"]],\"type\":\"histogram2d\"}],\"histogram\":[{\"marker\":{\"pattern\":{\"fillmode\":\"overlay\",\"size\":10,\"solidity\":0.2}},\"type\":\"histogram\"}],\"mesh3d\":[{\"colorbar\":{\"outlinewidth\":0,\"ticks\":\"\"},\"type\":\"mesh3d\"}],\"parcoords\":[{\"line\":{\"colorbar\":{\"outlinewidth\":0,\"ticks\":\"\"}},\"type\":\"parcoords\"}],\"pie\":[{\"automargin\":true,\"type\":\"pie\"}],\"scatter3d\":[{\"line\":{\"colorbar\":{\"outlinewidth\":0,\"ticks\":\"\"}},\"marker\":{\"colorbar\":{\"outlinewidth\":0,\"ticks\":\"\"}},\"type\":\"scatter3d\"}],\"scattercarpet\":[{\"marker\":{\"colorbar\":{\"outlinewidth\":0,\"ticks\":\"\"}},\"type\":\"scattercarpet\"}],\"scattergeo\":[{\"marker\":{\"colorbar\":{\"outlinewidth\":0,\"ticks\":\"\"}},\"type\":\"scattergeo\"}],\"scattergl\":[{\"marker\":{\"line\":{\"color\":\"#283442\"}},\"type\":\"scattergl\"}],\"scattermapbox\":[{\"marker\":{\"colorbar\":{\"outlinewidth\":0,\"ticks\":\"\"}},\"type\":\"scattermapbox\"}],\"scatterpolargl\":[{\"marker\":{\"colorbar\":{\"outlinewidth\":0,\"ticks\":\"\"}},\"type\":\"scatterpolargl\"}],\"scatterpolar\":[{\"marker\":{\"colorbar\":{\"outlinewidth\":0,\"ticks\":\"\"}},\"type\":\"scatterpolar\"}],\"scatter\":[{\"marker\":{\"line\":{\"color\":\"#283442\"}},\"type\":\"scatter\"}],\"scatterternary\":[{\"marker\":{\"colorbar\":{\"outlinewidth\":0,\"ticks\":\"\"}},\"type\":\"scatterternary\"}],\"surface\":[{\"colorbar\":{\"outlinewidth\":0,\"ticks\":\"\"},\"colorscale\":[[0.0,\"#0d0887\"],[0.1111111111111111,\"#46039f\"],[0.2222222222222222,\"#7201a8\"],[0.3333333333333333,\"#9c179e\"],[0.4444444444444444,\"#bd3786\"],[0.5555555555555556,\"#d8576b\"],[0.6666666666666666,\"#ed7953\"],[0.7777777777777778,\"#fb9f3a\"],[0.8888888888888888,\"#fdca26\"],[1.0,\"#f0f921\"]],\"type\":\"surface\"}],\"table\":[{\"cells\":{\"fill\":{\"color\":\"#506784\"},\"line\":{\"color\":\"rgb(17,17,17)\"}},\"header\":{\"fill\":{\"color\":\"#2a3f5f\"},\"line\":{\"color\":\"rgb(17,17,17)\"}},\"type\":\"table\"}]},\"layout\":{\"annotationdefaults\":{\"arrowcolor\":\"#f2f5fa\",\"arrowhead\":0,\"arrowwidth\":1},\"autotypenumbers\":\"strict\",\"coloraxis\":{\"colorbar\":{\"outlinewidth\":0,\"ticks\":\"\"}},\"colorscale\":{\"diverging\":[[0,\"#8e0152\"],[0.1,\"#c51b7d\"],[0.2,\"#de77ae\"],[0.3,\"#f1b6da\"],[0.4,\"#fde0ef\"],[0.5,\"#f7f7f7\"],[0.6,\"#e6f5d0\"],[0.7,\"#b8e186\"],[0.8,\"#7fbc41\"],[0.9,\"#4d9221\"],[1,\"#276419\"]],\"sequential\":[[0.0,\"#0d0887\"],[0.1111111111111111,\"#46039f\"],[0.2222222222222222,\"#7201a8\"],[0.3333333333333333,\"#9c179e\"],[0.4444444444444444,\"#bd3786\"],[0.5555555555555556,\"#d8576b\"],[0.6666666666666666,\"#ed7953\"],[0.7777777777777778,\"#fb9f3a\"],[0.8888888888888888,\"#fdca26\"],[1.0,\"#f0f921\"]],\"sequentialminus\":[[0.0,\"#0d0887\"],[0.1111111111111111,\"#46039f\"],[0.2222222222222222,\"#7201a8\"],[0.3333333333333333,\"#9c179e\"],[0.4444444444444444,\"#bd3786\"],[0.5555555555555556,\"#d8576b\"],[0.6666666666666666,\"#ed7953\"],[0.7777777777777778,\"#fb9f3a\"],[0.8888888888888888,\"#fdca26\"],[1.0,\"#f0f921\"]]},\"colorway\":[\"#636efa\",\"#EF553B\",\"#00cc96\",\"#ab63fa\",\"#FFA15A\",\"#19d3f3\",\"#FF6692\",\"#B6E880\",\"#FF97FF\",\"#FECB52\"],\"font\":{\"color\":\"#f2f5fa\"},\"geo\":{\"bgcolor\":\"rgb(17,17,17)\",\"lakecolor\":\"rgb(17,17,17)\",\"landcolor\":\"rgb(17,17,17)\",\"showlakes\":true,\"showland\":true,\"subunitcolor\":\"#506784\"},\"hoverlabel\":{\"align\":\"left\"},\"hovermode\":\"closest\",\"mapbox\":{\"style\":\"dark\"},\"paper_bgcolor\":\"rgb(17,17,17)\",\"plot_bgcolor\":\"rgb(17,17,17)\",\"polar\":{\"angularaxis\":{\"gridcolor\":\"#506784\",\"linecolor\":\"#506784\",\"ticks\":\"\"},\"bgcolor\":\"rgb(17,17,17)\",\"radialaxis\":{\"gridcolor\":\"#506784\",\"linecolor\":\"#506784\",\"ticks\":\"\"}},\"scene\":{\"xaxis\":{\"backgroundcolor\":\"rgb(17,17,17)\",\"gridcolor\":\"#506784\",\"gridwidth\":2,\"linecolor\":\"#506784\",\"showbackground\":true,\"ticks\":\"\",\"zerolinecolor\":\"#C8D4E3\"},\"yaxis\":{\"backgroundcolor\":\"rgb(17,17,17)\",\"gridcolor\":\"#506784\",\"gridwidth\":2,\"linecolor\":\"#506784\",\"showbackground\":true,\"ticks\":\"\",\"zerolinecolor\":\"#C8D4E3\"},\"zaxis\":{\"backgroundcolor\":\"rgb(17,17,17)\",\"gridcolor\":\"#506784\",\"gridwidth\":2,\"linecolor\":\"#506784\",\"showbackground\":true,\"ticks\":\"\",\"zerolinecolor\":\"#C8D4E3\"}},\"shapedefaults\":{\"line\":{\"color\":\"#f2f5fa\"}},\"sliderdefaults\":{\"bgcolor\":\"#C8D4E3\",\"bordercolor\":\"rgb(17,17,17)\",\"borderwidth\":1,\"tickwidth\":0},\"ternary\":{\"aaxis\":{\"gridcolor\":\"#506784\",\"linecolor\":\"#506784\",\"ticks\":\"\"},\"baxis\":{\"gridcolor\":\"#506784\",\"linecolor\":\"#506784\",\"ticks\":\"\"},\"bgcolor\":\"rgb(17,17,17)\",\"caxis\":{\"gridcolor\":\"#506784\",\"linecolor\":\"#506784\",\"ticks\":\"\"}},\"title\":{\"x\":0.05},\"updatemenudefaults\":{\"bgcolor\":\"#506784\",\"borderwidth\":0},\"xaxis\":{\"automargin\":true,\"gridcolor\":\"#283442\",\"linecolor\":\"#506784\",\"ticks\":\"\",\"title\":{\"standoff\":15},\"zerolinecolor\":\"#283442\",\"zerolinewidth\":2},\"yaxis\":{\"automargin\":true,\"gridcolor\":\"#283442\",\"linecolor\":\"#506784\",\"ticks\":\"\",\"title\":{\"standoff\":15},\"zerolinecolor\":\"#283442\",\"zerolinewidth\":2}}},\"scene\":{\"xaxis\":{\"title\":{\"text\":\"X\"}},\"yaxis\":{\"title\":{\"text\":\"Y\"}},\"zaxis\":{\"title\":{\"text\":\"Z\"}},\"annotations\":[{\"font\":{\"color\":\"white\",\"size\":10},\"showarrow\":true,\"text\":\"CHNG891974\",\"x\":9.99006175994873,\"xanchor\":\"center\",\"y\":18.6418399810791,\"yanchor\":\"top\",\"z\":3.7352259159088135},{\"font\":{\"color\":\"white\",\"size\":10},\"showarrow\":true,\"text\":\"CHNG677145\",\"x\":-15.221447944641113,\"xanchor\":\"center\",\"y\":16.020275115966797,\"yanchor\":\"top\",\"z\":18.0665340423584},{\"font\":{\"color\":\"white\",\"size\":10},\"showarrow\":true,\"text\":\"CHNG873985\",\"x\":20.110864639282227,\"xanchor\":\"center\",\"y\":1.1626867055892944,\"yanchor\":\"top\",\"z\":-6.368571758270264},{\"font\":{\"color\":\"white\",\"size\":10},\"showarrow\":true,\"text\":\"CHNG664297\",\"x\":7.629941940307617,\"xanchor\":\"center\",\"y\":-15.901747703552246,\"yanchor\":\"top\",\"z\":-7.929594039916992},{\"font\":{\"color\":\"white\",\"size\":10},\"showarrow\":true,\"text\":\"CHNG210925\",\"x\":-28.95049285888672,\"xanchor\":\"center\",\"y\":36.4769401550293,\"yanchor\":\"top\",\"z\":22.00590705871582},{\"font\":{\"color\":\"white\",\"size\":10},\"showarrow\":true,\"text\":\"\\u003cb style=\\\"font-size: 14px\\\"\\u003ehello\\u003c\\u002fb\\u003e\",\"x\":0.030639829114079475,\"xanchor\":\"center\",\"y\":-0.0062301852740347385,\"yanchor\":\"top\",\"z\":-0.00212154071778059}]},\"width\":1024,\"height\":768},                        {\"responsive\": true}                    ).then(function(){\n",
       "                            \n",
       "var gd = document.getElementById('a387e9ce-5902-41ed-8c04-4a142efd4912');\n",
       "var x = new MutationObserver(function (mutations, observer) {{\n",
       "        var display = window.getComputedStyle(gd).display;\n",
       "        if (!display || display === 'none') {{\n",
       "            console.log([gd, 'removed!']);\n",
       "            Plotly.purge(gd);\n",
       "            observer.disconnect();\n",
       "        }}\n",
       "}});\n",
       "\n",
       "// Listen for the removal of the full notebook cells\n",
       "var notebookContainer = gd.closest('#notebook-container');\n",
       "if (notebookContainer) {{\n",
       "    x.observe(notebookContainer, {childList: true});\n",
       "}}\n",
       "\n",
       "// Listen for the clearing of the current output cell\n",
       "var outputEl = gd.closest('.output');\n",
       "if (outputEl) {{\n",
       "    x.observe(outputEl, {childList: true});\n",
       "}}\n",
       "\n",
       "                        })                };                });            </script>        </div>"
      ]
     },
     "metadata": {},
     "output_type": "display_data"
    }
   ],
   "source": [
    "# Prepare data for visualization\n",
    "groups = np.argmax(pca_result_50, axis=1)\n",
    "import plotly.graph_objects as go\n",
    "\n",
    "points = []\n",
    "\n",
    "for position, document, metadata, id, group in zip(tsne_pca_results.tolist(), data[\"documents\"], data[\"metadatas\"], data[\"ids\"], groups.tolist()):\n",
    "    point = {\n",
    "        'position_x': position[0],\n",
    "        'position_y': position[1],\n",
    "        'position_z': position[2],\n",
    "        'document': document,\n",
    "        'metadata': metadata,\n",
    "        'id': id,\n",
    "        'group': group\n",
    "    }\n",
    "    points.append(point)\n",
    "\n",
    "# Add a point to identify the search\n",
    "search_point = {\n",
    "    'position_x': search_vector[0],\n",
    "    'position_y': search_vector[1],\n",
    "    'position_z': search_vector[2],\n",
    "    'document': search_text,\n",
    "    'metadata': None,\n",
    "    'id': f'<b style=\"font-size: 14px\">{search_text}</b>',\n",
    "    'group': 0\n",
    "}\n",
    "\n",
    "points.append(search_point)\n",
    "\n",
    "# Define traces\n",
    "traces = []\n",
    "\n",
    "# add search results trace\n",
    "traces.append(\n",
    "    go.Scatter3d(\n",
    "        x=[point['position_x'] for point in points],\n",
    "        y=[point['position_y'] for point in points],\n",
    "        z=[point['position_z'] for point in points],\n",
    "        mode='markers',\n",
    "        marker=dict(\n",
    "            color=[point['group'] if point != search_point else 'orange' for point in points],\n",
    "            symbol=['circle' if point != search_point else 'diamond' for point in points],  # Set symbol as 'x' for the search point\n",
    "            size=[12] * (len(points) - 1) + [15],\n",
    "            colorscale='Viridis',\n",
    "            colorbar=dict(title='Group')\n",
    "        ),\n",
    "        customdata=[(point['id'], point['document'], point['group']) for point in points],\n",
    "        hovertemplate=\n",
    "            '<b>ID:</b> %{customdata[0]}<br>'\n",
    "            '<b>Document:</b> %{customdata[1]}<br>'\n",
    "            '<b>Group:</b> %{customdata[2]}<br>'\n",
    "            '<extra></extra>',\n",
    "    )\n",
    ")\n",
    "\n",
    "# Add relationships trace\n",
    "for point in points:\n",
    "    traces.append(\n",
    "        go.Scatter3d(x=[search_point['position_x'],point['position_x']],\n",
    "             y=[search_point['position_y'],point['position_y']],\n",
    "             z=[search_point['position_z'],point['position_z']],\n",
    "             name=\"V0\",\n",
    "             legendgroup=\"V0\",\n",
    "             showlegend=False,\n",
    "             mode=\"lines\",\n",
    "             line=dict(color=\"grey\"))\n",
    "    )\n",
    "\n",
    "# Add traces to figure\n",
    "fig = go.Figure(data=traces)\n",
    "\n",
    "# Add annotations for ID labels\n",
    "annotations = []\n",
    "font_size = 10\n",
    "for point in points:\n",
    "    annotation = go.layout.scene.Annotation(\n",
    "        x=point['position_x'],\n",
    "        y=point['position_y'],\n",
    "        z=point['position_z'],\n",
    "        xanchor='center',\n",
    "        yanchor='top',\n",
    "        text=point['id'],\n",
    "        showarrow=True,\n",
    "        font=dict(size=font_size, color='white')\n",
    "    )\n",
    "    annotations.append(annotation)\n",
    "\n",
    "# Set plot layout options\n",
    "fig.update_layout(\n",
    "    scene=dict(\n",
    "        xaxis=dict(title='X'),\n",
    "        yaxis=dict(title='Y'),\n",
    "        zaxis=dict(title='Z'),\n",
    "    ),\n",
    "    width=1024,\n",
    "    height=768,\n",
    "    template='plotly_dark',\n",
    "    scene_annotations=annotations,\n",
    ")\n",
    "\n",
    "fig.show()"
   ]
  },
  {
   "cell_type": "code",
   "execution_count": null,
   "id": "59e631f8",
   "metadata": {},
   "outputs": [],
   "source": []
  }
 ],
 "metadata": {
  "kernelspec": {
   "display_name": "Python 3 (ipykernel)",
   "language": "python",
   "name": "python3"
  },
  "language_info": {
   "codemirror_mode": {
    "name": "ipython",
    "version": 3
   },
   "file_extension": ".py",
   "mimetype": "text/x-python",
   "name": "python",
   "nbconvert_exporter": "python",
   "pygments_lexer": "ipython3",
   "version": "3.10.6"
  }
 },
 "nbformat": 4,
 "nbformat_minor": 5
}

{
 "cells": [
  {
   "attachments": {},
   "cell_type": "markdown",
   "id": "52c3e1b1",
   "metadata": {},
   "source": [
    "### Installs"
   ]
  },
  {
   "cell_type": "code",
   "execution_count": 2,
   "id": "03c899ac-a8aa-4309-894b-13fd4c84e748",
   "metadata": {},
   "outputs": [
    {
     "name": "stdout",
     "output_type": "stream",
     "text": [
      "Requirement already satisfied: chromadb in /opt/homebrew/lib/python3.11/site-packages (0.3.26)\n",
      "Requirement already satisfied: pandas>=1.3 in /opt/homebrew/lib/python3.11/site-packages (from chromadb) (2.0.2)\n",
      "Requirement already satisfied: requests>=2.28 in /opt/homebrew/lib/python3.11/site-packages (from chromadb) (2.31.0)\n",
      "Requirement already satisfied: pydantic>=1.9 in /opt/homebrew/lib/python3.11/site-packages (from chromadb) (1.10.9)\n",
      "Requirement already satisfied: hnswlib>=0.7 in /opt/homebrew/lib/python3.11/site-packages (from chromadb) (0.7.0)\n",
      "Requirement already satisfied: clickhouse-connect>=0.5.7 in /opt/homebrew/lib/python3.11/site-packages (from chromadb) (0.6.4)\n",
      "Requirement already satisfied: duckdb>=0.7.1 in /opt/homebrew/lib/python3.11/site-packages (from chromadb) (0.8.1)\n",
      "Requirement already satisfied: fastapi>=0.85.1 in /opt/homebrew/lib/python3.11/site-packages (from chromadb) (0.98.0)\n",
      "Requirement already satisfied: uvicorn[standard]>=0.18.3 in /opt/homebrew/lib/python3.11/site-packages (from chromadb) (0.22.0)\n",
      "Requirement already satisfied: numpy>=1.21.6 in /opt/homebrew/lib/python3.11/site-packages (from chromadb) (1.25.0)\n",
      "Requirement already satisfied: posthog>=2.4.0 in /opt/homebrew/lib/python3.11/site-packages (from chromadb) (3.0.1)\n",
      "Requirement already satisfied: typing-extensions>=4.5.0 in /opt/homebrew/lib/python3.11/site-packages (from chromadb) (4.6.3)\n",
      "Requirement already satisfied: pulsar-client>=3.1.0 in /opt/homebrew/lib/python3.11/site-packages (from chromadb) (3.2.0)\n",
      "Requirement already satisfied: onnxruntime>=1.14.1 in /opt/homebrew/lib/python3.11/site-packages (from chromadb) (1.15.1)\n",
      "Requirement already satisfied: tokenizers>=0.13.2 in /opt/homebrew/lib/python3.11/site-packages (from chromadb) (0.13.3)\n",
      "Requirement already satisfied: tqdm>=4.65.0 in /opt/homebrew/lib/python3.11/site-packages (from chromadb) (4.65.0)\n",
      "Requirement already satisfied: overrides>=7.3.1 in /opt/homebrew/lib/python3.11/site-packages (from chromadb) (7.3.1)\n",
      "Requirement already satisfied: certifi in /opt/homebrew/lib/python3.11/site-packages (from clickhouse-connect>=0.5.7->chromadb) (2023.5.7)\n",
      "Requirement already satisfied: urllib3>=1.26 in /opt/homebrew/lib/python3.11/site-packages (from clickhouse-connect>=0.5.7->chromadb) (2.0.3)\n",
      "Requirement already satisfied: pytz in /opt/homebrew/lib/python3.11/site-packages (from clickhouse-connect>=0.5.7->chromadb) (2023.3)\n",
      "Requirement already satisfied: zstandard in /opt/homebrew/lib/python3.11/site-packages (from clickhouse-connect>=0.5.7->chromadb) (0.21.0)\n",
      "Requirement already satisfied: lz4 in /opt/homebrew/lib/python3.11/site-packages (from clickhouse-connect>=0.5.7->chromadb) (4.3.2)\n",
      "Requirement already satisfied: starlette<0.28.0,>=0.27.0 in /opt/homebrew/lib/python3.11/site-packages (from fastapi>=0.85.1->chromadb) (0.27.0)\n",
      "Requirement already satisfied: coloredlogs in /opt/homebrew/lib/python3.11/site-packages (from onnxruntime>=1.14.1->chromadb) (15.0.1)\n",
      "Requirement already satisfied: flatbuffers in /opt/homebrew/lib/python3.11/site-packages (from onnxruntime>=1.14.1->chromadb) (23.5.26)\n",
      "Requirement already satisfied: packaging in /Users/jonfairbanks/Library/Python/3.11/lib/python/site-packages (from onnxruntime>=1.14.1->chromadb) (23.1)\n",
      "Requirement already satisfied: protobuf in /opt/homebrew/lib/python3.11/site-packages (from onnxruntime>=1.14.1->chromadb) (4.23.3)\n",
      "Requirement already satisfied: sympy in /opt/homebrew/lib/python3.11/site-packages (from onnxruntime>=1.14.1->chromadb) (1.12)\n",
      "Requirement already satisfied: python-dateutil>=2.8.2 in /Users/jonfairbanks/Library/Python/3.11/lib/python/site-packages (from pandas>=1.3->chromadb) (2.8.2)\n",
      "Requirement already satisfied: tzdata>=2022.1 in /opt/homebrew/lib/python3.11/site-packages (from pandas>=1.3->chromadb) (2023.3)\n",
      "Requirement already satisfied: six>=1.5 in /Users/jonfairbanks/Library/Python/3.11/lib/python/site-packages (from posthog>=2.4.0->chromadb) (1.16.0)\n",
      "Requirement already satisfied: monotonic>=1.5 in /opt/homebrew/lib/python3.11/site-packages (from posthog>=2.4.0->chromadb) (1.6)\n",
      "Requirement already satisfied: backoff>=1.10.0 in /opt/homebrew/lib/python3.11/site-packages (from posthog>=2.4.0->chromadb) (2.2.1)\n",
      "Requirement already satisfied: charset-normalizer<4,>=2 in /opt/homebrew/lib/python3.11/site-packages (from requests>=2.28->chromadb) (3.1.0)\n",
      "Requirement already satisfied: idna<4,>=2.5 in /opt/homebrew/lib/python3.11/site-packages (from requests>=2.28->chromadb) (3.4)\n",
      "Requirement already satisfied: click>=7.0 in /opt/homebrew/lib/python3.11/site-packages (from uvicorn[standard]>=0.18.3->chromadb) (8.1.3)\n",
      "Requirement already satisfied: h11>=0.8 in /opt/homebrew/lib/python3.11/site-packages (from uvicorn[standard]>=0.18.3->chromadb) (0.14.0)\n",
      "Requirement already satisfied: httptools>=0.5.0 in /opt/homebrew/lib/python3.11/site-packages (from uvicorn[standard]>=0.18.3->chromadb) (0.5.0)\n",
      "Requirement already satisfied: python-dotenv>=0.13 in /opt/homebrew/lib/python3.11/site-packages (from uvicorn[standard]>=0.18.3->chromadb) (1.0.0)\n",
      "Requirement already satisfied: pyyaml>=5.1 in /opt/homebrew/lib/python3.11/site-packages (from uvicorn[standard]>=0.18.3->chromadb) (6.0)\n",
      "Requirement already satisfied: uvloop!=0.15.0,!=0.15.1,>=0.14.0 in /opt/homebrew/lib/python3.11/site-packages (from uvicorn[standard]>=0.18.3->chromadb) (0.17.0)\n",
      "Requirement already satisfied: watchfiles>=0.13 in /opt/homebrew/lib/python3.11/site-packages (from uvicorn[standard]>=0.18.3->chromadb) (0.19.0)\n",
      "Requirement already satisfied: websockets>=10.4 in /opt/homebrew/lib/python3.11/site-packages (from uvicorn[standard]>=0.18.3->chromadb) (11.0.3)\n",
      "Requirement already satisfied: anyio<5,>=3.4.0 in /opt/homebrew/lib/python3.11/site-packages (from starlette<0.28.0,>=0.27.0->fastapi>=0.85.1->chromadb) (3.7.0)\n",
      "Requirement already satisfied: humanfriendly>=9.1 in /opt/homebrew/lib/python3.11/site-packages (from coloredlogs->onnxruntime>=1.14.1->chromadb) (10.0)\n",
      "Requirement already satisfied: mpmath>=0.19 in /opt/homebrew/lib/python3.11/site-packages (from sympy->onnxruntime>=1.14.1->chromadb) (1.3.0)\n",
      "Requirement already satisfied: sniffio>=1.1 in /opt/homebrew/lib/python3.11/site-packages (from anyio<5,>=3.4.0->starlette<0.28.0,>=0.27.0->fastapi>=0.85.1->chromadb) (1.3.0)\n",
      "Requirement already satisfied: sentence_transformers in /opt/homebrew/lib/python3.11/site-packages (2.2.2)\n",
      "Requirement already satisfied: transformers<5.0.0,>=4.6.0 in /opt/homebrew/lib/python3.11/site-packages (from sentence_transformers) (4.30.2)\n",
      "Requirement already satisfied: tqdm in /opt/homebrew/lib/python3.11/site-packages (from sentence_transformers) (4.65.0)\n",
      "Requirement already satisfied: torch>=1.6.0 in /opt/homebrew/lib/python3.11/site-packages (from sentence_transformers) (2.0.1)\n",
      "Requirement already satisfied: torchvision in /opt/homebrew/lib/python3.11/site-packages (from sentence_transformers) (0.15.2)\n",
      "Requirement already satisfied: numpy in /opt/homebrew/lib/python3.11/site-packages (from sentence_transformers) (1.25.0)\n",
      "Requirement already satisfied: scikit-learn in /opt/homebrew/lib/python3.11/site-packages (from sentence_transformers) (1.2.2)\n",
      "Requirement already satisfied: scipy in /opt/homebrew/lib/python3.11/site-packages (from sentence_transformers) (1.10.1)\n",
      "Requirement already satisfied: nltk in /opt/homebrew/lib/python3.11/site-packages (from sentence_transformers) (3.8.1)\n",
      "Requirement already satisfied: sentencepiece in /opt/homebrew/lib/python3.11/site-packages (from sentence_transformers) (0.1.99)\n",
      "Requirement already satisfied: huggingface-hub>=0.4.0 in /opt/homebrew/lib/python3.11/site-packages (from sentence_transformers) (0.15.1)\n",
      "Requirement already satisfied: filelock in /opt/homebrew/lib/python3.11/site-packages (from huggingface-hub>=0.4.0->sentence_transformers) (3.12.2)\n",
      "Requirement already satisfied: fsspec in /opt/homebrew/lib/python3.11/site-packages (from huggingface-hub>=0.4.0->sentence_transformers) (2023.6.0)\n",
      "Requirement already satisfied: requests in /opt/homebrew/lib/python3.11/site-packages (from huggingface-hub>=0.4.0->sentence_transformers) (2.31.0)\n",
      "Requirement already satisfied: pyyaml>=5.1 in /opt/homebrew/lib/python3.11/site-packages (from huggingface-hub>=0.4.0->sentence_transformers) (6.0)\n",
      "Requirement already satisfied: typing-extensions>=3.7.4.3 in /opt/homebrew/lib/python3.11/site-packages (from huggingface-hub>=0.4.0->sentence_transformers) (4.6.3)\n",
      "Requirement already satisfied: packaging>=20.9 in /Users/jonfairbanks/Library/Python/3.11/lib/python/site-packages (from huggingface-hub>=0.4.0->sentence_transformers) (23.1)\n",
      "Requirement already satisfied: sympy in /opt/homebrew/lib/python3.11/site-packages (from torch>=1.6.0->sentence_transformers) (1.12)\n",
      "Requirement already satisfied: networkx in /opt/homebrew/lib/python3.11/site-packages (from torch>=1.6.0->sentence_transformers) (3.1)\n",
      "Requirement already satisfied: jinja2 in /opt/homebrew/lib/python3.11/site-packages (from torch>=1.6.0->sentence_transformers) (3.1.2)\n",
      "Requirement already satisfied: regex!=2019.12.17 in /opt/homebrew/lib/python3.11/site-packages (from transformers<5.0.0,>=4.6.0->sentence_transformers) (2023.6.3)\n",
      "Requirement already satisfied: tokenizers!=0.11.3,<0.14,>=0.11.1 in /opt/homebrew/lib/python3.11/site-packages (from transformers<5.0.0,>=4.6.0->sentence_transformers) (0.13.3)\n",
      "Requirement already satisfied: safetensors>=0.3.1 in /opt/homebrew/lib/python3.11/site-packages (from transformers<5.0.0,>=4.6.0->sentence_transformers) (0.3.1)\n",
      "Requirement already satisfied: click in /opt/homebrew/lib/python3.11/site-packages (from nltk->sentence_transformers) (8.1.3)\n",
      "Requirement already satisfied: joblib in /opt/homebrew/lib/python3.11/site-packages (from nltk->sentence_transformers) (1.2.0)\n",
      "Requirement already satisfied: threadpoolctl>=2.0.0 in /opt/homebrew/lib/python3.11/site-packages (from scikit-learn->sentence_transformers) (3.1.0)\n",
      "Requirement already satisfied: pillow!=8.3.*,>=5.3.0 in /opt/homebrew/lib/python3.11/site-packages (from torchvision->sentence_transformers) (9.5.0)\n",
      "Requirement already satisfied: MarkupSafe>=2.0 in /opt/homebrew/lib/python3.11/site-packages (from jinja2->torch>=1.6.0->sentence_transformers) (2.1.3)\n",
      "Requirement already satisfied: charset-normalizer<4,>=2 in /opt/homebrew/lib/python3.11/site-packages (from requests->huggingface-hub>=0.4.0->sentence_transformers) (3.1.0)\n",
      "Requirement already satisfied: idna<4,>=2.5 in /opt/homebrew/lib/python3.11/site-packages (from requests->huggingface-hub>=0.4.0->sentence_transformers) (3.4)\n",
      "Requirement already satisfied: urllib3<3,>=1.21.1 in /opt/homebrew/lib/python3.11/site-packages (from requests->huggingface-hub>=0.4.0->sentence_transformers) (2.0.3)\n",
      "Requirement already satisfied: certifi>=2017.4.17 in /opt/homebrew/lib/python3.11/site-packages (from requests->huggingface-hub>=0.4.0->sentence_transformers) (2023.5.7)\n",
      "Requirement already satisfied: mpmath>=0.19 in /opt/homebrew/lib/python3.11/site-packages (from sympy->torch>=1.6.0->sentence_transformers) (1.3.0)\n",
      "Requirement already satisfied: plotly in /opt/homebrew/lib/python3.11/site-packages (5.15.0)\n",
      "Requirement already satisfied: tenacity>=6.2.0 in /opt/homebrew/lib/python3.11/site-packages (from plotly) (8.2.2)\n",
      "Requirement already satisfied: packaging in /Users/jonfairbanks/Library/Python/3.11/lib/python/site-packages (from plotly) (23.1)\n",
      "Requirement already satisfied: nbformat in /opt/homebrew/lib/python3.11/site-packages (5.9.0)\n",
      "Requirement already satisfied: fastjsonschema in /opt/homebrew/lib/python3.11/site-packages (from nbformat) (2.17.1)\n",
      "Requirement already satisfied: jsonschema>=2.6 in /opt/homebrew/lib/python3.11/site-packages (from nbformat) (4.17.3)\n",
      "Requirement already satisfied: jupyter-core in /Users/jonfairbanks/Library/Python/3.11/lib/python/site-packages (from nbformat) (5.3.1)\n",
      "Requirement already satisfied: traitlets>=5.1 in /Users/jonfairbanks/Library/Python/3.11/lib/python/site-packages (from nbformat) (5.9.0)\n",
      "Requirement already satisfied: attrs>=17.4.0 in /opt/homebrew/lib/python3.11/site-packages (from jsonschema>=2.6->nbformat) (23.1.0)\n",
      "Requirement already satisfied: pyrsistent!=0.17.0,!=0.17.1,!=0.17.2,>=0.14.0 in /opt/homebrew/lib/python3.11/site-packages (from jsonschema>=2.6->nbformat) (0.19.3)\n",
      "Requirement already satisfied: platformdirs>=2.5 in /Users/jonfairbanks/Library/Python/3.11/lib/python/site-packages (from jupyter-core->nbformat) (3.8.0)\n"
     ]
    }
   ],
   "source": [
    "!pip install chromadb\n",
    "!pip install sentence_transformers\n",
    "!pip install plotly\n",
    "!pip install nbformat"
   ]
  },
  {
   "attachments": {},
   "cell_type": "markdown",
   "id": "9062fdcf",
   "metadata": {},
   "source": [
    "### Imports"
   ]
  },
  {
   "cell_type": "code",
   "execution_count": 3,
   "id": "7dea7ead",
   "metadata": {},
   "outputs": [
    {
     "name": "stderr",
     "output_type": "stream",
     "text": [
      "/opt/homebrew/lib/python3.11/site-packages/tqdm/auto.py:21: TqdmWarning: IProgress not found. Please update jupyter and ipywidgets. See https://ipywidgets.readthedocs.io/en/stable/user_install.html\n",
      "  from .autonotebook import tqdm as notebook_tqdm\n"
     ]
    }
   ],
   "source": [
    "import chromadb\n",
    "import json\n",
    "import random\n",
    "import string\n",
    "import numpy as np\n",
    "import pandas as pd\n",
    "import plotly.express as px\n",
    "import time\n",
    "\n",
    "from sklearn.decomposition import PCA\n",
    "from sklearn.manifold import TSNE\n",
    "from chromadb.utils import embedding_functions\n",
    "from datetime import datetime\n",
    "from sentence_transformers import SentenceTransformer"
   ]
  },
  {
   "attachments": {},
   "cell_type": "markdown",
   "id": "d1ee6e2d",
   "metadata": {},
   "source": [
    "### Setup the ChromaDB collection and model"
   ]
  },
  {
   "cell_type": "code",
   "execution_count": 4,
   "id": "458329b4-7b5a-4a0c-9830-b2ded3865579",
   "metadata": {},
   "outputs": [
    {
     "name": "stdout",
     "output_type": "stream",
     "text": [
      "Collection 'change_tickets' created successfully\n"
     ]
    }
   ],
   "source": [
    "try:\n",
    "    emb_fn = embedding_functions.SentenceTransformerEmbeddingFunction(model_name=\"all-mpnet-base-v2\")\n",
    "    chroma_client = chromadb.Client()\n",
    "    collection = chroma_client.get_or_create_collection(\n",
    "        name=\"change_tickets\", \n",
    "        embedding_function=emb_fn, \n",
    "        metadata={\"hnsw:space\": \"cosine\"}\n",
    "    )\n",
    "except ValueError as err:\n",
    "    print(f\"Error: Could not create collection - {err}\")\n",
    "else:\n",
    "    print(f\"Collection '{collection.name}' created successfully\")"
   ]
  },
  {
   "attachments": {},
   "cell_type": "markdown",
   "id": "825dadbd",
   "metadata": {},
   "source": [
    "### Function to generate test change tickets"
   ]
  },
  {
   "cell_type": "code",
   "execution_count": 5,
   "id": "a45ccee9-c5cf-4a18-bee9-b311d22b1c22",
   "metadata": {},
   "outputs": [],
   "source": [
    "suffix_types = ['serv', 'nodeserv', 'nodeweb']\n",
    "raw_change_tickets = [] # All generated tickets stored here\n",
    "used_ticket_numbers = set()\n",
    "app_names = set()\n",
    "\n",
    "def generate_changes(ticket_count=1000, app_count=500, sample_size=5):\n",
    "    for i in range(app_count):\n",
    "        while True:  # Keep generating names until a unique one is found\n",
    "            prefix = ''.join(random.choices(string.ascii_lowercase, k=5))\n",
    "            app_name = f'{prefix}{random.choice(suffix_types)}'\n",
    "            if app_name not in app_names:\n",
    "                app_names.add(app_name)\n",
    "                break\n",
    "    \n",
    "    for i in range(ticket_count):\n",
    "        while True:\n",
    "            ticket_number = f'CHNG{random.randint(100000, 999999)}'\n",
    "            if ticket_number not in used_ticket_numbers:\n",
    "                used_ticket_numbers.add(ticket_number)\n",
    "                break\n",
    "            \n",
    "        app_name = random.choice(list(app_names))\n",
    "        release_name = f'{app_name}-{datetime.now().strftime(\"%m%d%y%H%M%S%f\")}'\n",
    "        ticket_description = f'Recent deployment on {app_name} for manifest ID {release_name}'\n",
    "        \n",
    "        change_ticket = {\n",
    "            'ticket_number': ticket_number,\n",
    "            'ticket_description': ticket_description\n",
    "        }\n",
    "        raw_change_tickets.append(change_ticket)\n",
    "    \n",
    "    sample = random.sample(raw_change_tickets, sample_size)\n",
    "    \n",
    "    for ticket in sample:\n",
    "        print(f'{ticket[\"ticket_number\"]}: {ticket[\"ticket_description\"]}')\n",
    "    \n",
    "    return raw_change_tickets"
   ]
  },
  {
   "attachments": {},
   "cell_type": "markdown",
   "id": "b1a99478",
   "metadata": {},
   "source": [
    "### Generate test data"
   ]
  },
  {
   "cell_type": "code",
   "execution_count": 6,
   "id": "ac046de2-b677-41ad-b194-7f0b547dff76",
   "metadata": {},
   "outputs": [
    {
     "name": "stdout",
     "output_type": "stream",
     "text": [
      "CHNG748980: Recent deployment on gaczxserv for manifest ID gaczxserv-062623234552754078\n",
      "CHNG870892: Recent deployment on ywoaynodeserv for manifest ID ywoaynodeserv-062623234552758217\n",
      "CHNG420628: Recent deployment on uxtvinodeweb for manifest ID uxtvinodeweb-062623234552756085\n",
      "CHNG624143: Recent deployment on pypxnnodeserv for manifest ID pypxnnodeserv-062623234552756316\n",
      "CHNG653450: Recent deployment on tfymtnodeweb for manifest ID tfymtnodeweb-062623234552756392\n"
     ]
    }
   ],
   "source": [
    "if __name__ == '__main__':\n",
    "    change_data = generate_changes(ticket_count=1000, app_count=500, sample_size=5)"
   ]
  },
  {
   "attachments": {},
   "cell_type": "markdown",
   "id": "4cc50572",
   "metadata": {},
   "source": [
    "### Transform test data for Chroma"
   ]
  },
  {
   "cell_type": "code",
   "execution_count": 7,
   "id": "e092f53b-e98e-475a-9b30-63c372e6b4b5",
   "metadata": {},
   "outputs": [
    {
     "name": "stdout",
     "output_type": "stream",
     "text": [
      "1000\n",
      "1000\n"
     ]
    }
   ],
   "source": [
    "change_ids = []\n",
    "change_tickets = []\n",
    "\n",
    "for change in change_data:\n",
    "    change_ids.append(change['ticket_number'])\n",
    "    change_details = f\"{change['ticket_number']}: {change['ticket_description']}\"\n",
    "    change_tickets.append(change_details)\n",
    "\n",
    "print(len(change_ids))\n",
    "print(len(change_tickets))"
   ]
  },
  {
   "attachments": {},
   "cell_type": "markdown",
   "id": "e096813d",
   "metadata": {},
   "source": [
    "### Add change tickets to ChromaDB"
   ]
  },
  {
   "cell_type": "code",
   "execution_count": 8,
   "id": "f4fdcdb5-0363-4986-b68e-70ee7b79610e",
   "metadata": {},
   "outputs": [
    {
     "name": "stdout",
     "output_type": "stream",
     "text": [
      "1000\n"
     ]
    }
   ],
   "source": [
    "collection.add(\n",
    "    documents=change_tickets,\n",
    "    #metadatas=[{\"chapter\": \"3\", \"verse\": \"16\"}, {\"chapter\": \"3\", \"verse\": \"5\"}, {\"chapter\": \"29\", \"verse\": \"11\"}, ...],\n",
    "    ids=change_ids\n",
    ")\n",
    "print(collection.count())"
   ]
  },
  {
   "attachments": {},
   "cell_type": "markdown",
   "id": "106e085e",
   "metadata": {},
   "source": [
    "### Query against the database using our search string/vector"
   ]
  },
  {
   "cell_type": "code",
   "execution_count": 17,
   "id": "9c146691-8696-4da9-b08f-2f121b0107f6",
   "metadata": {},
   "outputs": [],
   "source": [
    "# Load the SentenceTransformer model\n",
    "model_name = \"all-mpnet-base-v2\"  # Replace with the desired model name\n",
    "model = SentenceTransformer(model_name)\n",
    "\n",
    "# Vectorize search string\n",
    "search_text = \"hello\"\n",
    "search_vector = model.encode([search_text])\n",
    "search_vector = [float(value) for value in search_vector[0]]\n",
    "\n",
    "results = collection.query(\n",
    "    query_embeddings = [search_vector],\n",
    "    #query_texts=[\"hello\"],\n",
    "    n_results=5, # MUST BE GREATER THAN PERPLEXITY USED IN VISUALIZATION\n",
    "    include=['documents', 'metadatas', 'embeddings'],\n",
    "    #where={\"metadata_field\": \"is_equal_to_this\"},\n",
    "    #where_document={\"$contains\":\"search_string\"}\n",
    ")\n",
    "\n",
    "#print(json.dumps(results, indent=2))"
   ]
  },
  {
   "attachments": {},
   "cell_type": "markdown",
   "id": "3315644b",
   "metadata": {},
   "source": [
    "### How do we know this isn't just doing a text search?"
   ]
  },
  {
   "cell_type": "code",
   "execution_count": 10,
   "id": "805f747e-7e91-41b0-b3c1-8ce1eaa0f856",
   "metadata": {},
   "outputs": [],
   "source": [
    "search_term = \"otars\"\n",
    "for ticket in change_tickets:\n",
    "    if search_term in ticket:\n",
    "        print(f\"Found '{search_term}' in ticket '{ticket}'\")"
   ]
  },
  {
   "attachments": {},
   "cell_type": "markdown",
   "id": "fa687472",
   "metadata": {},
   "source": [
    "### Perform dimensionality reduction with PCA"
   ]
  },
  {
   "cell_type": "code",
   "execution_count": 19,
   "id": "3bb252a9",
   "metadata": {},
   "outputs": [],
   "source": [
    "# Get search result data\n",
    "data = {\n",
    "    'embeddings': results[\"embeddings\"][0],\n",
    "    'documents': results[\"documents\"][0],\n",
    "    'metadatas': results[\"metadatas\"][0],\n",
    "    'ids': results[\"ids\"][0]\n",
    "}\n",
    "df = pd.DataFrame.from_dict(data=data[\"embeddings\"])\n",
    "\n",
    "# Perform dimensionality reduction with PCA\n",
    "pca_50 = PCA(n_components=5)\n",
    "pca_result_50 = pca_50.fit_transform(df)\n",
    "\n",
    "# Perform dimensionality reduction with t-SNE\n",
    "tsne = TSNE(n_components=3, verbose=0, perplexity=3, n_iter=300) # To do: usage details -- PERPLEXITY AND NUMBER OF COMPONENTS MUST BE LESS THAN TOTAL RESULTS IN DATASET\n",
    "tsne_pca_results = tsne.fit_transform(pca_result_50)\n",
    "tsne_pca_results = tsne_pca_results / 3\n"
   ]
  },
  {
   "attachments": {},
   "cell_type": "markdown",
   "id": "38bc7967",
   "metadata": {},
   "source": [
    "### Prepare data for visualization"
   ]
  },
  {
   "cell_type": "code",
   "execution_count": 68,
   "id": "cfcfc9ec-56f5-4882-aca1-feec131161d9",
   "metadata": {},
   "outputs": [
    {
     "data": {
      "application/vnd.plotly.v1+json": {
       "config": {
        "plotlyServerURL": "https://plot.ly"
       },
       "data": [
        {
         "customdata": [
          [
           "CHNG138015",
           "CHNG138015: Recent deployment on qrsauserv for manifest ID qrsauserv-062623234552756186",
           1
          ],
          [
           "CHNG794476",
           "CHNG794476: Recent deployment on qjieynodeweb for manifest ID qjieynodeweb-062623234552756721",
           2
          ],
          [
           "CHNG906699",
           "CHNG906699: Recent deployment on qzavdnodeserv for manifest ID qzavdnodeserv-062623234552754638",
           0
          ],
          [
           "CHNG311786",
           "CHNG311786: Recent deployment on qzavdnodeserv for manifest ID qzavdnodeserv-062623234552756288",
           0
          ],
          [
           "CHNG917255",
           "CHNG917255: Recent deployment on qpbknnodeweb for manifest ID qpbknnodeweb-062623234552758242",
           4
          ],
          [
           "<b style=\"font-size: 14px\">hello</b>",
           "hello",
           0
          ]
         ],
         "hovertemplate": "<b>ID:</b> %{customdata[0]}<br><b>Document:</b> %{customdata[1]}<br><b>Group:</b> %{customdata[2]}<br><extra></extra>",
         "marker": {
          "color": [
           1,
           2,
           0,
           0,
           4,
           "orange"
          ],
          "colorbar": {
           "title": {
            "text": "Group"
           }
          },
          "colorscale": [
           [
            0,
            "#440154"
           ],
           [
            0.1111111111111111,
            "#482878"
           ],
           [
            0.2222222222222222,
            "#3e4989"
           ],
           [
            0.3333333333333333,
            "#31688e"
           ],
           [
            0.4444444444444444,
            "#26828e"
           ],
           [
            0.5555555555555556,
            "#1f9e89"
           ],
           [
            0.6666666666666666,
            "#35b779"
           ],
           [
            0.7777777777777778,
            "#6ece58"
           ],
           [
            0.8888888888888888,
            "#b5de2b"
           ],
           [
            1,
            "#fde725"
           ]
          ],
          "size": [
           12,
           12,
           12,
           12,
           12,
           15
          ],
          "symbol": [
           "circle",
           "circle",
           "circle",
           "circle",
           "circle",
           "diamond"
          ]
         },
         "mode": "markers",
         "type": "scatter3d",
         "x": [
          -7.6476054191589355,
          -115.7033920288086,
          8.192575454711914,
          -9.350936889648438,
          181.65765380859375,
          0.030639691278338432
         ],
         "y": [
          -21.407682418823242,
          -160.98631286621094,
          -26.22130012512207,
          22.11297035217285,
          191.1207275390625,
          -0.006230113096535206
         ],
         "z": [
          4.590569496154785,
          100.76801300048828,
          -82.81361389160156,
          57.2213020324707,
          -199.60752868652344,
          -0.0021215451415628195
         ]
        }
       ],
       "layout": {
        "height": 768,
        "scene": {
         "annotations": [
          {
           "font": {
            "color": "white",
            "size": 10
           },
           "showarrow": true,
           "text": "CHNG138015",
           "x": -7.6476054191589355,
           "xanchor": "center",
           "y": -21.407682418823242,
           "yanchor": "top",
           "z": 4.590569496154785
          },
          {
           "font": {
            "color": "white",
            "size": 10
           },
           "showarrow": true,
           "text": "CHNG794476",
           "x": -115.7033920288086,
           "xanchor": "center",
           "y": -160.98631286621094,
           "yanchor": "top",
           "z": 100.76801300048828
          },
          {
           "font": {
            "color": "white",
            "size": 10
           },
           "showarrow": true,
           "text": "CHNG906699",
           "x": 8.192575454711914,
           "xanchor": "center",
           "y": -26.22130012512207,
           "yanchor": "top",
           "z": -82.81361389160156
          },
          {
           "font": {
            "color": "white",
            "size": 10
           },
           "showarrow": true,
           "text": "CHNG311786",
           "x": -9.350936889648438,
           "xanchor": "center",
           "y": 22.11297035217285,
           "yanchor": "top",
           "z": 57.2213020324707
          },
          {
           "font": {
            "color": "white",
            "size": 10
           },
           "showarrow": true,
           "text": "CHNG917255",
           "x": 181.65765380859375,
           "xanchor": "center",
           "y": 191.1207275390625,
           "yanchor": "top",
           "z": -199.60752868652344
          },
          {
           "font": {
            "color": "white",
            "size": 10
           },
           "showarrow": true,
           "text": "<b style=\"font-size: 14px\">hello</b>",
           "x": 0.030639691278338432,
           "xanchor": "center",
           "y": -0.006230113096535206,
           "yanchor": "top",
           "z": -0.0021215451415628195
          }
         ],
         "xaxis": {
          "title": {
           "text": "X"
          }
         },
         "yaxis": {
          "title": {
           "text": "Y"
          }
         },
         "zaxis": {
          "title": {
           "text": "Z"
          }
         }
        },
        "template": {
         "data": {
          "bar": [
           {
            "error_x": {
             "color": "#f2f5fa"
            },
            "error_y": {
             "color": "#f2f5fa"
            },
            "marker": {
             "line": {
              "color": "rgb(17,17,17)",
              "width": 0.5
             },
             "pattern": {
              "fillmode": "overlay",
              "size": 10,
              "solidity": 0.2
             }
            },
            "type": "bar"
           }
          ],
          "barpolar": [
           {
            "marker": {
             "line": {
              "color": "rgb(17,17,17)",
              "width": 0.5
             },
             "pattern": {
              "fillmode": "overlay",
              "size": 10,
              "solidity": 0.2
             }
            },
            "type": "barpolar"
           }
          ],
          "carpet": [
           {
            "aaxis": {
             "endlinecolor": "#A2B1C6",
             "gridcolor": "#506784",
             "linecolor": "#506784",
             "minorgridcolor": "#506784",
             "startlinecolor": "#A2B1C6"
            },
            "baxis": {
             "endlinecolor": "#A2B1C6",
             "gridcolor": "#506784",
             "linecolor": "#506784",
             "minorgridcolor": "#506784",
             "startlinecolor": "#A2B1C6"
            },
            "type": "carpet"
           }
          ],
          "choropleth": [
           {
            "colorbar": {
             "outlinewidth": 0,
             "ticks": ""
            },
            "type": "choropleth"
           }
          ],
          "contour": [
           {
            "colorbar": {
             "outlinewidth": 0,
             "ticks": ""
            },
            "colorscale": [
             [
              0,
              "#0d0887"
             ],
             [
              0.1111111111111111,
              "#46039f"
             ],
             [
              0.2222222222222222,
              "#7201a8"
             ],
             [
              0.3333333333333333,
              "#9c179e"
             ],
             [
              0.4444444444444444,
              "#bd3786"
             ],
             [
              0.5555555555555556,
              "#d8576b"
             ],
             [
              0.6666666666666666,
              "#ed7953"
             ],
             [
              0.7777777777777778,
              "#fb9f3a"
             ],
             [
              0.8888888888888888,
              "#fdca26"
             ],
             [
              1,
              "#f0f921"
             ]
            ],
            "type": "contour"
           }
          ],
          "contourcarpet": [
           {
            "colorbar": {
             "outlinewidth": 0,
             "ticks": ""
            },
            "type": "contourcarpet"
           }
          ],
          "heatmap": [
           {
            "colorbar": {
             "outlinewidth": 0,
             "ticks": ""
            },
            "colorscale": [
             [
              0,
              "#0d0887"
             ],
             [
              0.1111111111111111,
              "#46039f"
             ],
             [
              0.2222222222222222,
              "#7201a8"
             ],
             [
              0.3333333333333333,
              "#9c179e"
             ],
             [
              0.4444444444444444,
              "#bd3786"
             ],
             [
              0.5555555555555556,
              "#d8576b"
             ],
             [
              0.6666666666666666,
              "#ed7953"
             ],
             [
              0.7777777777777778,
              "#fb9f3a"
             ],
             [
              0.8888888888888888,
              "#fdca26"
             ],
             [
              1,
              "#f0f921"
             ]
            ],
            "type": "heatmap"
           }
          ],
          "heatmapgl": [
           {
            "colorbar": {
             "outlinewidth": 0,
             "ticks": ""
            },
            "colorscale": [
             [
              0,
              "#0d0887"
             ],
             [
              0.1111111111111111,
              "#46039f"
             ],
             [
              0.2222222222222222,
              "#7201a8"
             ],
             [
              0.3333333333333333,
              "#9c179e"
             ],
             [
              0.4444444444444444,
              "#bd3786"
             ],
             [
              0.5555555555555556,
              "#d8576b"
             ],
             [
              0.6666666666666666,
              "#ed7953"
             ],
             [
              0.7777777777777778,
              "#fb9f3a"
             ],
             [
              0.8888888888888888,
              "#fdca26"
             ],
             [
              1,
              "#f0f921"
             ]
            ],
            "type": "heatmapgl"
           }
          ],
          "histogram": [
           {
            "marker": {
             "pattern": {
              "fillmode": "overlay",
              "size": 10,
              "solidity": 0.2
             }
            },
            "type": "histogram"
           }
          ],
          "histogram2d": [
           {
            "colorbar": {
             "outlinewidth": 0,
             "ticks": ""
            },
            "colorscale": [
             [
              0,
              "#0d0887"
             ],
             [
              0.1111111111111111,
              "#46039f"
             ],
             [
              0.2222222222222222,
              "#7201a8"
             ],
             [
              0.3333333333333333,
              "#9c179e"
             ],
             [
              0.4444444444444444,
              "#bd3786"
             ],
             [
              0.5555555555555556,
              "#d8576b"
             ],
             [
              0.6666666666666666,
              "#ed7953"
             ],
             [
              0.7777777777777778,
              "#fb9f3a"
             ],
             [
              0.8888888888888888,
              "#fdca26"
             ],
             [
              1,
              "#f0f921"
             ]
            ],
            "type": "histogram2d"
           }
          ],
          "histogram2dcontour": [
           {
            "colorbar": {
             "outlinewidth": 0,
             "ticks": ""
            },
            "colorscale": [
             [
              0,
              "#0d0887"
             ],
             [
              0.1111111111111111,
              "#46039f"
             ],
             [
              0.2222222222222222,
              "#7201a8"
             ],
             [
              0.3333333333333333,
              "#9c179e"
             ],
             [
              0.4444444444444444,
              "#bd3786"
             ],
             [
              0.5555555555555556,
              "#d8576b"
             ],
             [
              0.6666666666666666,
              "#ed7953"
             ],
             [
              0.7777777777777778,
              "#fb9f3a"
             ],
             [
              0.8888888888888888,
              "#fdca26"
             ],
             [
              1,
              "#f0f921"
             ]
            ],
            "type": "histogram2dcontour"
           }
          ],
          "mesh3d": [
           {
            "colorbar": {
             "outlinewidth": 0,
             "ticks": ""
            },
            "type": "mesh3d"
           }
          ],
          "parcoords": [
           {
            "line": {
             "colorbar": {
              "outlinewidth": 0,
              "ticks": ""
             }
            },
            "type": "parcoords"
           }
          ],
          "pie": [
           {
            "automargin": true,
            "type": "pie"
           }
          ],
          "scatter": [
           {
            "marker": {
             "line": {
              "color": "#283442"
             }
            },
            "type": "scatter"
           }
          ],
          "scatter3d": [
           {
            "line": {
             "colorbar": {
              "outlinewidth": 0,
              "ticks": ""
             }
            },
            "marker": {
             "colorbar": {
              "outlinewidth": 0,
              "ticks": ""
             }
            },
            "type": "scatter3d"
           }
          ],
          "scattercarpet": [
           {
            "marker": {
             "colorbar": {
              "outlinewidth": 0,
              "ticks": ""
             }
            },
            "type": "scattercarpet"
           }
          ],
          "scattergeo": [
           {
            "marker": {
             "colorbar": {
              "outlinewidth": 0,
              "ticks": ""
             }
            },
            "type": "scattergeo"
           }
          ],
          "scattergl": [
           {
            "marker": {
             "line": {
              "color": "#283442"
             }
            },
            "type": "scattergl"
           }
          ],
          "scattermapbox": [
           {
            "marker": {
             "colorbar": {
              "outlinewidth": 0,
              "ticks": ""
             }
            },
            "type": "scattermapbox"
           }
          ],
          "scatterpolar": [
           {
            "marker": {
             "colorbar": {
              "outlinewidth": 0,
              "ticks": ""
             }
            },
            "type": "scatterpolar"
           }
          ],
          "scatterpolargl": [
           {
            "marker": {
             "colorbar": {
              "outlinewidth": 0,
              "ticks": ""
             }
            },
            "type": "scatterpolargl"
           }
          ],
          "scatterternary": [
           {
            "marker": {
             "colorbar": {
              "outlinewidth": 0,
              "ticks": ""
             }
            },
            "type": "scatterternary"
           }
          ],
          "surface": [
           {
            "colorbar": {
             "outlinewidth": 0,
             "ticks": ""
            },
            "colorscale": [
             [
              0,
              "#0d0887"
             ],
             [
              0.1111111111111111,
              "#46039f"
             ],
             [
              0.2222222222222222,
              "#7201a8"
             ],
             [
              0.3333333333333333,
              "#9c179e"
             ],
             [
              0.4444444444444444,
              "#bd3786"
             ],
             [
              0.5555555555555556,
              "#d8576b"
             ],
             [
              0.6666666666666666,
              "#ed7953"
             ],
             [
              0.7777777777777778,
              "#fb9f3a"
             ],
             [
              0.8888888888888888,
              "#fdca26"
             ],
             [
              1,
              "#f0f921"
             ]
            ],
            "type": "surface"
           }
          ],
          "table": [
           {
            "cells": {
             "fill": {
              "color": "#506784"
             },
             "line": {
              "color": "rgb(17,17,17)"
             }
            },
            "header": {
             "fill": {
              "color": "#2a3f5f"
             },
             "line": {
              "color": "rgb(17,17,17)"
             }
            },
            "type": "table"
           }
          ]
         },
         "layout": {
          "annotationdefaults": {
           "arrowcolor": "#f2f5fa",
           "arrowhead": 0,
           "arrowwidth": 1
          },
          "autotypenumbers": "strict",
          "coloraxis": {
           "colorbar": {
            "outlinewidth": 0,
            "ticks": ""
           }
          },
          "colorscale": {
           "diverging": [
            [
             0,
             "#8e0152"
            ],
            [
             0.1,
             "#c51b7d"
            ],
            [
             0.2,
             "#de77ae"
            ],
            [
             0.3,
             "#f1b6da"
            ],
            [
             0.4,
             "#fde0ef"
            ],
            [
             0.5,
             "#f7f7f7"
            ],
            [
             0.6,
             "#e6f5d0"
            ],
            [
             0.7,
             "#b8e186"
            ],
            [
             0.8,
             "#7fbc41"
            ],
            [
             0.9,
             "#4d9221"
            ],
            [
             1,
             "#276419"
            ]
           ],
           "sequential": [
            [
             0,
             "#0d0887"
            ],
            [
             0.1111111111111111,
             "#46039f"
            ],
            [
             0.2222222222222222,
             "#7201a8"
            ],
            [
             0.3333333333333333,
             "#9c179e"
            ],
            [
             0.4444444444444444,
             "#bd3786"
            ],
            [
             0.5555555555555556,
             "#d8576b"
            ],
            [
             0.6666666666666666,
             "#ed7953"
            ],
            [
             0.7777777777777778,
             "#fb9f3a"
            ],
            [
             0.8888888888888888,
             "#fdca26"
            ],
            [
             1,
             "#f0f921"
            ]
           ],
           "sequentialminus": [
            [
             0,
             "#0d0887"
            ],
            [
             0.1111111111111111,
             "#46039f"
            ],
            [
             0.2222222222222222,
             "#7201a8"
            ],
            [
             0.3333333333333333,
             "#9c179e"
            ],
            [
             0.4444444444444444,
             "#bd3786"
            ],
            [
             0.5555555555555556,
             "#d8576b"
            ],
            [
             0.6666666666666666,
             "#ed7953"
            ],
            [
             0.7777777777777778,
             "#fb9f3a"
            ],
            [
             0.8888888888888888,
             "#fdca26"
            ],
            [
             1,
             "#f0f921"
            ]
           ]
          },
          "colorway": [
           "#636efa",
           "#EF553B",
           "#00cc96",
           "#ab63fa",
           "#FFA15A",
           "#19d3f3",
           "#FF6692",
           "#B6E880",
           "#FF97FF",
           "#FECB52"
          ],
          "font": {
           "color": "#f2f5fa"
          },
          "geo": {
           "bgcolor": "rgb(17,17,17)",
           "lakecolor": "rgb(17,17,17)",
           "landcolor": "rgb(17,17,17)",
           "showlakes": true,
           "showland": true,
           "subunitcolor": "#506784"
          },
          "hoverlabel": {
           "align": "left"
          },
          "hovermode": "closest",
          "mapbox": {
           "style": "dark"
          },
          "paper_bgcolor": "rgb(17,17,17)",
          "plot_bgcolor": "rgb(17,17,17)",
          "polar": {
           "angularaxis": {
            "gridcolor": "#506784",
            "linecolor": "#506784",
            "ticks": ""
           },
           "bgcolor": "rgb(17,17,17)",
           "radialaxis": {
            "gridcolor": "#506784",
            "linecolor": "#506784",
            "ticks": ""
           }
          },
          "scene": {
           "xaxis": {
            "backgroundcolor": "rgb(17,17,17)",
            "gridcolor": "#506784",
            "gridwidth": 2,
            "linecolor": "#506784",
            "showbackground": true,
            "ticks": "",
            "zerolinecolor": "#C8D4E3"
           },
           "yaxis": {
            "backgroundcolor": "rgb(17,17,17)",
            "gridcolor": "#506784",
            "gridwidth": 2,
            "linecolor": "#506784",
            "showbackground": true,
            "ticks": "",
            "zerolinecolor": "#C8D4E3"
           },
           "zaxis": {
            "backgroundcolor": "rgb(17,17,17)",
            "gridcolor": "#506784",
            "gridwidth": 2,
            "linecolor": "#506784",
            "showbackground": true,
            "ticks": "",
            "zerolinecolor": "#C8D4E3"
           }
          },
          "shapedefaults": {
           "line": {
            "color": "#f2f5fa"
           }
          },
          "sliderdefaults": {
           "bgcolor": "#C8D4E3",
           "bordercolor": "rgb(17,17,17)",
           "borderwidth": 1,
           "tickwidth": 0
          },
          "ternary": {
           "aaxis": {
            "gridcolor": "#506784",
            "linecolor": "#506784",
            "ticks": ""
           },
           "baxis": {
            "gridcolor": "#506784",
            "linecolor": "#506784",
            "ticks": ""
           },
           "bgcolor": "rgb(17,17,17)",
           "caxis": {
            "gridcolor": "#506784",
            "linecolor": "#506784",
            "ticks": ""
           }
          },
          "title": {
           "x": 0.05
          },
          "updatemenudefaults": {
           "bgcolor": "#506784",
           "borderwidth": 0
          },
          "xaxis": {
           "automargin": true,
           "gridcolor": "#283442",
           "linecolor": "#506784",
           "ticks": "",
           "title": {
            "standoff": 15
           },
           "zerolinecolor": "#283442",
           "zerolinewidth": 2
          },
          "yaxis": {
           "automargin": true,
           "gridcolor": "#283442",
           "linecolor": "#506784",
           "ticks": "",
           "title": {
            "standoff": 15
           },
           "zerolinecolor": "#283442",
           "zerolinewidth": 2
          }
         }
        },
        "width": 1024
       }
      }
     },
     "metadata": {},
     "output_type": "display_data"
    }
   ],
   "source": [
    "# Prepare data for visualization\n",
    "groups = np.argmax(pca_result_50, axis=1)\n",
    "import plotly.graph_objects as go\n",
    "\n",
    "points = []\n",
    "\n",
    "for position, document, metadata, id, group in zip(tsne_pca_results.tolist(), data[\"documents\"], data[\"metadatas\"], data[\"ids\"], groups.tolist()):\n",
    "    point = {\n",
    "        'position_x': position[0],\n",
    "        'position_y': position[1],\n",
    "        'position_z': position[2],\n",
    "        'document': document,\n",
    "        'metadata': metadata,\n",
    "        'id': id,\n",
    "        'group': group\n",
    "    }\n",
    "    points.append(point)\n",
    "\n",
    "# Add a point to identify the search\n",
    "search_point = {\n",
    "    'position_x': search_vector[0],\n",
    "    'position_y': search_vector[1],\n",
    "    'position_z': search_vector[2],\n",
    "    'document': search_text,\n",
    "    'metadata': None,\n",
    "    'id': f'<b style=\"font-size: 14px\">{search_text}</b>',\n",
    "    'group': 0\n",
    "}\n",
    "\n",
    "points.append(search_point)\n",
    "\n",
    "# Generate data for hovertemplate\n",
    "fig = go.Figure(data=[\n",
    "    go.Scatter3d(\n",
    "        x=[point['position_x'] for point in points],\n",
    "        y=[point['position_y'] for point in points],\n",
    "        z=[point['position_z'] for point in points],\n",
    "        mode='markers',\n",
    "        marker=dict(\n",
    "            color=[point['group'] if point != search_point else 'orange' for point in points],\n",
    "            symbol=['circle' if point != search_point else 'diamond' for point in points],  # Set symbol as 'x' for the search point\n",
    "            size=[12] * (len(points) - 1) + [15],\n",
    "            colorscale='Viridis',\n",
    "            colorbar=dict(title='Group')\n",
    "        ),\n",
    "        customdata=[(point['id'], point['document'], point['group']) for point in points],\n",
    "        hovertemplate=\n",
    "            '<b>ID:</b> %{customdata[0]}<br>'\n",
    "            '<b>Document:</b> %{customdata[1]}<br>'\n",
    "            '<b>Group:</b> %{customdata[2]}<br>'\n",
    "            '<extra></extra>',\n",
    "    )\n",
    "])\n",
    "\n",
    "# Add annotations for ID labels\n",
    "annotations = []\n",
    "font_size = 10\n",
    "for point in points:\n",
    "    annotation = go.layout.scene.Annotation(\n",
    "        x=point['position_x'],\n",
    "        y=point['position_y'],\n",
    "        z=point['position_z'],\n",
    "        xanchor='center',\n",
    "        yanchor='top',\n",
    "        text=point['id'],\n",
    "        showarrow=True,\n",
    "        font=dict(size=font_size, color='white')\n",
    "    )\n",
    "    annotations.append(annotation)\n",
    "\n",
    "# Set plot layout options\n",
    "fig.update_layout(\n",
    "    scene=dict(\n",
    "        xaxis=dict(title='X'),\n",
    "        yaxis=dict(title='Y'),\n",
    "        zaxis=dict(title='Z'),\n",
    "    ),\n",
    "    width=1024,\n",
    "    height=768,\n",
    "    template='plotly_dark',\n",
    "    scene_annotations=annotations,\n",
    ")\n",
    "\n",
    "fig.show()"
   ]
  },
  {
   "cell_type": "code",
   "execution_count": null,
   "id": "59e631f8",
   "metadata": {},
   "outputs": [],
   "source": []
  }
 ],
 "metadata": {
  "kernelspec": {
   "display_name": "Python 3 (ipykernel)",
   "language": "python",
   "name": "python3"
  },
  "language_info": {
   "codemirror_mode": {
    "name": "ipython",
    "version": 3
   },
   "file_extension": ".py",
   "mimetype": "text/x-python",
   "name": "python",
   "nbconvert_exporter": "python",
   "pygments_lexer": "ipython3",
   "version": "3.11.3"
  }
 },
 "nbformat": 4,
 "nbformat_minor": 5
}

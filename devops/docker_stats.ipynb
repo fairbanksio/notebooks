{
 "cells": [
  {
   "cell_type": "code",
   "execution_count": null,
   "id": "2ebeeb25-3a8c-4023-b756-bebae5699093",
   "metadata": {},
   "outputs": [],
   "source": [
    "%pip install hvac"
   ]
  },
  {
   "cell_type": "code",
   "execution_count": null,
   "id": "e65d0f4e-c921-44f3-b48c-61f083ab5c1b",
   "metadata": {
    "tags": []
   },
   "outputs": [],
   "source": [
    "import hvac\n",
    "import matplotlib.pyplot as plt\n",
    "import os\n",
    "import requests"
   ]
  },
  {
   "cell_type": "code",
   "execution_count": null,
   "id": "82502535-48b9-4b4e-8eff-16accd194c89",
   "metadata": {
    "tags": []
   },
   "outputs": [],
   "source": [
    "client = hvac.Client(\n",
    "    url=os.getenv('VAULT_API'),\n",
    "    token=os.getenv('VAULT_TOKEN'),\n",
    ")\n",
    "\n",
    "print(client.is_authenticated())"
   ]
  },
  {
   "cell_type": "code",
   "execution_count": null,
   "id": "6c2e0f0f-23f7-46cc-bcbb-d99c59206b81",
   "metadata": {
    "tags": []
   },
   "outputs": [],
   "source": [
    "PATH='docker-fairbanksio'\n",
    "#PATH='docker-jonfairbanks'"
   ]
  },
  {
   "cell_type": "code",
   "execution_count": null,
   "id": "c6da0c55-2cbe-4cae-bfbe-31c9e4030060",
   "metadata": {
    "tags": []
   },
   "outputs": [],
   "source": [
    "username=None\n",
    "access_token=None"
   ]
  },
  {
   "cell_type": "code",
   "execution_count": null,
   "id": "fb103539-15bb-4fc9-868f-1bb7d74449f4",
   "metadata": {
    "tags": []
   },
   "outputs": [],
   "source": [
    "try:\n",
    "    secret_resp = client.secrets.kv.v2.read_secret_version(\n",
    "        mount_point='kv', \n",
    "        path=PATH, \n",
    "        raise_on_deleted_version=False\n",
    "    )\n",
    "    \n",
    "    if secret_resp['data'] is not None:\n",
    "        secret_value = secret_resp['data']['data']\n",
    "        username = secret_value['DOCKER_USERNAME']\n",
    "        access_token = secret_value['DOCKER_ACCESS_TOKEN_TEST']\n",
    "    else:\n",
    "        print(\"The secret does not exist.\")\n",
    "except hvac.exceptions.InvalidPath:\n",
    "    print(\"The path is invalid or the permission is denied.\")\n",
    "except hvac.exceptions.Forbidden:\n",
    "    print(\"The permission is denied.\")\n",
    "except hvac.exceptions.VaultError as e:\n",
    "    print(f\"Vault error occurred: {e}\")"
   ]
  },
  {
   "cell_type": "code",
   "execution_count": null,
   "id": "07a7ac07-e216-4ef1-944c-23de392bd3b8",
   "metadata": {
    "tags": []
   },
   "outputs": [],
   "source": [
    "# Get the total number of images\n",
    "headers = {\"Authorization\": f\"Bearer {access_token}\"}\n",
    "response = requests.get(\n",
    "    f\"https://hub.docker.com/v2/repositories/{username}/?page_size=1\",\n",
    "    headers=headers,\n",
    ")\n",
    "total_count = response.json()[\"count\"]\n",
    "print(f\"Found {total_count} Docker images\")"
   ]
  },
  {
   "cell_type": "code",
   "execution_count": null,
   "id": "1fe9dd85-b5a9-4d49-9b0d-f6dd12da3d44",
   "metadata": {},
   "outputs": [],
   "source": [
    "# Loop through all pages of images\n",
    "page_size = 100\n",
    "all_images = []\n",
    "for page in range(1, (total_count // page_size) + 2):\n",
    "    response = requests.get(\n",
    "        f\"https://hub.docker.com/v2/repositories/{username}/?page_size={page_size}&page={page}\",\n",
    "        headers=headers,\n",
    "    )\n",
    "    data = response.json()[\"results\"]\n",
    "    all_images.extend(data)\n",
    "\n",
    "# Sort the images based on the number of pulls\n",
    "sorted_images = sorted(all_images, key=lambda x: x[\"pull_count\"], reverse=True)\n",
    "\n",
    "# Print the sorted images\n",
    "for image in sorted_images:\n",
    "    repo_name = image[\"name\"]\n",
    "    namespace = image[\"namespace\"]\n",
    "    repo_url = f\"https://hub.docker.com/r/{namespace}/{repo_name}\"\n",
    "    repo_pulls = image[\"pull_count\"]\n",
    "    print(f\"{namespace}/{repo_name} -- {repo_pulls:,} pulls\")\n"
   ]
  },
  {
   "cell_type": "code",
   "execution_count": null,
   "id": "4457c8e5-aaef-4102-a192-c07fb06e317a",
   "metadata": {},
   "outputs": [],
   "source": [
    "# Get data for top 10 images\n",
    "top_10 = sorted_images[:10]\n",
    "labels = [f'{image[\"namespace\"]}/{image[\"name\"]}' for image in top_10]\n",
    "pull_counts = [image[\"pull_count\"] for image in top_10]"
   ]
  },
  {
   "cell_type": "code",
   "execution_count": null,
   "id": "7cc20051-c4fd-4ac5-88a2-baddb7025cf3",
   "metadata": {
    "tags": []
   },
   "outputs": [],
   "source": [
    "# Create horizontal bar chart\n",
    "fig, ax = plt.subplots(figsize=(8, 5))\n",
    "ax.barh(labels, pull_counts)\n",
    "ax.set_xlabel(\"Number of Pulls\")\n",
    "ax.set_ylabel(\"Image\")\n",
    "ax.invert_yaxis()  # labels read top-to-bottom\n",
    "ax.set_title(\"Top 10 Most Downloaded Docker Images\")\n",
    "plt.tight_layout()\n",
    "plt.show()"
   ]
  },
  {
   "cell_type": "code",
   "execution_count": null,
   "id": "713f8ad3-2a8c-4423-8aa2-a63e4409a523",
   "metadata": {},
   "outputs": [],
   "source": []
  }
 ],
 "metadata": {
  "kernelspec": {
   "display_name": "Python 3 (ipykernel)",
   "language": "python",
   "name": "python3"
  },
  "language_info": {
   "codemirror_mode": {
    "name": "ipython",
    "version": 3
   },
   "file_extension": ".py",
   "mimetype": "text/x-python",
   "name": "python",
   "nbconvert_exporter": "python",
   "pygments_lexer": "ipython3",
   "version": "3.10.10"
  }
 },
 "nbformat": 4,
 "nbformat_minor": 5
}

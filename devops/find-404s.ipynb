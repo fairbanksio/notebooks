{
 "cells": [
  {
   "cell_type": "code",
   "execution_count": null,
   "id": "dcb75fca-881f-4f2a-9da5-5ee50664109d",
   "metadata": {},
   "outputs": [],
   "source": [
    "import requests\n",
    "from bs4 import BeautifulSoup"
   ]
  },
  {
   "cell_type": "code",
   "execution_count": null,
   "id": "cd83379f-4713-4883-9b8c-2d97d9f34f6c",
   "metadata": {},
   "outputs": [],
   "source": [
    "def find_404_errors(url, referer=None):\n",
    "    print(f\"Checking {url}\")\n",
    "    try:\n",
    "        response = requests.get(url)\n",
    "        if response.status_code == 404:\n",
    "            print(\"404 Error on\", referer, \":\", url)\n",
    "        else:\n",
    "            soup = BeautifulSoup(response.content, 'html.parser')\n",
    "            links = soup.find_all('a')\n",
    "            for link in links:\n",
    "                href = link.get('href')\n",
    "                if href.startswith('/') or href.startswith(url):\n",
    "                    # Construct the absolute URL if the link is relative\n",
    "                    if href.startswith('/'):\n",
    "                        href = url + href\n",
    "                    find_404_errors(href, url)\n",
    "    except requests.exceptions.RequestException:\n",
    "        print(\"An error occurred while processing:\", url)"
   ]
  },
  {
   "cell_type": "code",
   "execution_count": null,
   "id": "2b08c194-8368-4724-84fb-151084b81976",
   "metadata": {},
   "outputs": [],
   "source": [
    "# Example usage\n",
    "start_url = 'https://engadget.com'\n",
    "find_404_errors(start_url)"
   ]
  },
  {
   "cell_type": "code",
   "execution_count": null,
   "id": "c3078f39-dd63-4c85-abdb-705941cef295",
   "metadata": {},
   "outputs": [],
   "source": []
  }
 ],
 "metadata": {
  "kernelspec": {
   "display_name": "Python 3 (ipykernel)",
   "language": "python",
   "name": "python3"
  },
  "language_info": {
   "codemirror_mode": {
    "name": "ipython",
    "version": 3
   },
   "file_extension": ".py",
   "mimetype": "text/x-python",
   "name": "python",
   "nbconvert_exporter": "python",
   "pygments_lexer": "ipython3",
   "version": "3.10.11"
  }
 },
 "nbformat": 4,
 "nbformat_minor": 5
}

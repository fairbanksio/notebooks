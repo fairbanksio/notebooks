{
 "cells": [
  {
   "cell_type": "code",
   "execution_count": null,
   "id": "e7ada387-0f58-4aa0-a06e-e90cf3f0cccf",
   "metadata": {
    "tags": []
   },
   "outputs": [],
   "source": [
    "import hvac\n",
    "import os\n",
    "import requests\n",
    "\n",
    "from dotenv import load_dotenv\n",
    "\n",
    "load_dotenv()"
   ]
  },
  {
   "cell_type": "code",
   "execution_count": null,
   "id": "e466b095-d81a-4d06-9e70-a2c66ea693e9",
   "metadata": {
    "tags": []
   },
   "outputs": [],
   "source": [
    "client = hvac.Client(\n",
    "    url=os.getenv('VAULT_API'),\n",
    "    token=os.getenv('VAULT_TOKEN'),\n",
    ")\n",
    "\n",
    "# print(client.is_authenticated())\n",
    "\n",
    "try:\n",
    "    secret_resp = client.secrets.kv.v2.read_secret_version(\n",
    "        mount_point='kv', \n",
    "        path='slack', \n",
    "        raise_on_deleted_version=False\n",
    "    )\n",
    "    \n",
    "    if secret_resp['data'] is not None:\n",
    "        secret_values = secret_resp['data']['data']\n",
    "        for secret, value in secret_values.items():\n",
    "            slack_webhook_url = secret_values['SLACK_WEBHOOK_URL']\n",
    "    else:\n",
    "        print(\"The secret does not exist.\")\n",
    "except hvac.exceptions.InvalidPath:\n",
    "    print(\"The path is invalid or the permission is denied.\")\n",
    "except hvac.exceptions.Forbidden:\n",
    "    print(\"The permission is denied.\")\n",
    "except hvac.exceptions.VaultError as e:\n",
    "    print(f\"Vault error occurred: {e}\")"
   ]
  },
  {
   "cell_type": "code",
   "execution_count": null,
   "id": "8c846edb-d6de-4bc2-a214-7b6f04f88005",
   "metadata": {
    "tags": []
   },
   "outputs": [],
   "source": [
    "url_list = [\n",
    "    'https://fairbanks.io',\n",
    "    'https://fairbanks.dev',\n",
    "    'https://fbnks.io',\n",
    "    'https://bsord.io',\n",
    "    'https://f5.news'\n",
    "]\n",
    "\n",
    "for url in url_list:\n",
    "    url_resp = requests.get(url)\n",
    "    if(url_resp.status_code == 200 or url_resp.status_code == 201):\n",
    "        #print(f\"{url} responded with HTTP 2xx as expected\")\n",
    "        pass\n",
    "    else:\n",
    "        print(f\"{url} request error -- HTTP {url_resp.status_code}\")\n",
    "        headers = { \"Content-Type\": \"application/json\" }\n",
    "        msg_body = f\":warning: {url} failed to load successfully! :warning:\"\n",
    "        body = { \"text\": msg_body }\n",
    "        #call a webhook\n",
    "        response = requests.post(slack_webhook_url, json=body, headers=headers)"
   ]
  },
  {
   "cell_type": "code",
   "execution_count": null,
   "id": "0510d40b-56f4-4d0a-9621-481654579c17",
   "metadata": {},
   "outputs": [],
   "source": []
  }
 ],
 "metadata": {
  "kernelspec": {
   "display_name": "Python 3 (ipykernel)",
   "language": "python",
   "name": "python3"
  },
  "language_info": {
   "codemirror_mode": {
    "name": "ipython",
    "version": 3
   },
   "file_extension": ".py",
   "mimetype": "text/x-python",
   "name": "python",
   "nbconvert_exporter": "python",
   "pygments_lexer": "ipython3",
   "version": "3.10.10"
  }
 },
 "nbformat": 4,
 "nbformat_minor": 5
}

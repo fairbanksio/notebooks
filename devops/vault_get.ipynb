{
 "cells": [
  {
   "cell_type": "code",
   "execution_count": null,
   "id": "2a65c696-c44a-4384-a22d-5f13372c3d19",
   "metadata": {
    "tags": []
   },
   "outputs": [],
   "source": [
    "%pip install hvac"
   ]
  },
  {
   "cell_type": "code",
   "execution_count": null,
   "id": "87699556-5c9e-4b5e-8d99-8d59d1e4d324",
   "metadata": {
    "tags": []
   },
   "outputs": [],
   "source": [
    "import hvac\n",
    "import os"
   ]
  },
  {
   "cell_type": "code",
   "execution_count": null,
   "id": "9bd37710-5873-492f-8ac7-e70a579023d4",
   "metadata": {
    "tags": []
   },
   "outputs": [],
   "source": [
    "client = hvac.Client(\n",
    "    url=os.getenv('VAULT_API'),\n",
    "    token=os.getenv('VAULT_TOKEN'),\n",
    ")\n",
    "\n",
    "print(client.is_authenticated())"
   ]
  },
  {
   "cell_type": "code",
   "execution_count": null,
   "id": "b24e360f-abc5-4b0f-a3bd-5b0d47ac9cdc",
   "metadata": {
    "tags": []
   },
   "outputs": [],
   "source": [
    "PATH='langchain-bot'"
   ]
  },
  {
   "cell_type": "code",
   "execution_count": null,
   "id": "82a574c8-8761-4cf3-b480-8287f15e0561",
   "metadata": {
    "tags": []
   },
   "outputs": [],
   "source": [
    "try:\n",
    "    secret_resp = client.secrets.kv.v2.read_secret_version(\n",
    "        mount_point='kv', \n",
    "        path=PATH, \n",
    "        raise_on_deleted_version=False\n",
    "    )\n",
    "    \n",
    "    if secret_resp['data'] is not None:\n",
    "        secret_value = secret_resp['data']['data']\n",
    "        for secret, value in secret_value.items():\n",
    "            print(secret, value)\n",
    "            os.environ[str(secret)] = str(value)\n",
    "    else:\n",
    "        print(\"The secret does not exist.\")\n",
    "except hvac.exceptions.InvalidPath:\n",
    "    print(\"The path is invalid or the permission is denied.\")\n",
    "except hvac.exceptions.Forbidden:\n",
    "    print(\"The permission is denied.\")\n",
    "except hvac.exceptions.VaultError as e:\n",
    "    print(f\"Vault error occurred: {e}\")"
   ]
  },
  {
   "cell_type": "code",
   "execution_count": null,
   "id": "6e7771e5-00d3-404b-a9f1-42c39f8bcd02",
   "metadata": {},
   "outputs": [],
   "source": []
  }
 ],
 "metadata": {
  "kernelspec": {
   "display_name": "Python 3 (ipykernel)",
   "language": "python",
   "name": "python3"
  },
  "language_info": {
   "codemirror_mode": {
    "name": "ipython",
    "version": 3
   },
   "file_extension": ".py",
   "mimetype": "text/x-python",
   "name": "python",
   "nbconvert_exporter": "python",
   "pygments_lexer": "ipython3",
   "version": "3.10.10"
  }
 },
 "nbformat": 4,
 "nbformat_minor": 5
}

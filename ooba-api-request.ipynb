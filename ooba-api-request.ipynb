{
 "cells": [
  {
   "cell_type": "code",
   "execution_count": 4,
   "metadata": {},
   "outputs": [
    {
     "name": "stdout",
     "output_type": "stream",
     "text": [
      "In order to make homemade bread, follow these steps:\n",
      "1) Preheat your oven to 375°F (190°C).\n",
      "2) Mix together flour, salt, and yeast in a large bowl.\n",
      "3) Add water and oil to the mixture and stir until well combined.\n",
      "4) Knead the dough on a clean surface for about 8-10 minutes or until it becomes smooth and elastic.\n",
      "5) Place the dough in an oiled bowl, cover with plastic wrap, and let it rise in a warm place for about an hour or until it doubles in size.\n",
      "6) Punch down the dough and shape it into loaves or rolls as desired.\n",
      "7) Place the bread in a greased baking pan and let it rise again for another 30 minutes.\n",
      "8) Bake the bread for 25-30 minutes or until it is golden brown.\n",
      "9) Remove the bread from the oven and let it cool before slicing and serving.\n"
     ]
    }
   ],
   "source": [
    "import requests\n",
    "\n",
    "# For local streaming, the websockets are hosted without ssl - http://\n",
    "HOST = '192.168.4.5:5000'\n",
    "URI = f'http://{HOST}/api/v1/generate'\n",
    "\n",
    "\n",
    "def run(prompt):\n",
    "    request = {\n",
    "        'prompt': prompt,\n",
    "        'max_new_tokens': 250,\n",
    "        'preset': 'simple-1',  \n",
    "    }\n",
    "\n",
    "    response = requests.post(URI, json=request)\n",
    "\n",
    "    if response.status_code == 200:\n",
    "        result = response.json()['results'][0]['text']\n",
    "        print(prompt + result)\n",
    "\n",
    "\n",
    "if __name__ == '__main__':\n",
    "    prompt = \"In order to make homemade bread, follow these steps:\\n1)\"\n",
    "    run(prompt)\n"
   ]
  },
  {
   "cell_type": "markdown",
   "metadata": {},
   "source": []
  }
 ],
 "metadata": {
  "kernelspec": {
   "display_name": "Python 3",
   "language": "python",
   "name": "python3"
  },
  "language_info": {
   "codemirror_mode": {
    "name": "ipython",
    "version": 3
   },
   "file_extension": ".py",
   "mimetype": "text/x-python",
   "name": "python",
   "nbconvert_exporter": "python",
   "pygments_lexer": "ipython3",
   "version": "3.9.6"
  },
  "orig_nbformat": 4
 },
 "nbformat": 4,
 "nbformat_minor": 2
}

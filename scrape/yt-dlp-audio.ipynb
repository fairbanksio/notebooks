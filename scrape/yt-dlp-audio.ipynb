{
 "cells": [
  {
   "cell_type": "code",
   "execution_count": null,
   "id": "c27e273d-a973-4e9e-9650-33f5394311d1",
   "metadata": {},
   "outputs": [],
   "source": [
    "%pip install -qq -U yt-dlp"
   ]
  },
  {
   "cell_type": "code",
   "execution_count": null,
   "id": "ea918ec8-6c00-411f-ba38-df8c5f6d79ff",
   "metadata": {},
   "outputs": [],
   "source": [
    "import yt_dlp\n",
    "\n",
    "URLS = ['https://www.youtube.com/playlist?list=PL8mG-RkN2uTw7PhlnAr4pZZz2QubIbujH']\n",
    "\n",
    "ydl_opts = {\n",
    "    'download_archive': 'archive.txt',\n",
    "    'format': 'm4a/bestaudio/best',\n",
    "    'writesubtitles': False, # Download manually uploaded subtitles\n",
    "    'writeautomaticsub': False, # Download automatically generated subtitles\n",
    "    'writethumbnail': True, # Download the video thumbnail to disk\n",
    "    'playlistend': 10,\n",
    "    'postprocessors': [\n",
    "        {\n",
    "            'key': 'FFmpegExtractAudio',\n",
    "            'preferredcodec': 'flac',\n",
    "        },\n",
    "        {\n",
    "            'key': 'EmbedThumbnail',  # Embed cover image as cover art\n",
    "        }\n",
    "    ]\n",
    "}\n",
    "\n",
    "with yt_dlp.YoutubeDL(ydl_opts) as ydl:\n",
    "    error_code = ydl.download(URLS)"
   ]
  },
  {
   "cell_type": "code",
   "execution_count": null,
   "id": "a8179fc8-d853-427a-b463-503a0694b138",
   "metadata": {},
   "outputs": [],
   "source": []
  }
 ],
 "metadata": {
  "kernelspec": {
   "display_name": "Python 3 (ipykernel)",
   "language": "python",
   "name": "python3"
  },
  "language_info": {
   "codemirror_mode": {
    "name": "ipython",
    "version": 3
   },
   "file_extension": ".py",
   "mimetype": "text/x-python",
   "name": "python",
   "nbconvert_exporter": "python",
   "pygments_lexer": "ipython3",
   "version": "3.11.4"
  }
 },
 "nbformat": 4,
 "nbformat_minor": 5
}

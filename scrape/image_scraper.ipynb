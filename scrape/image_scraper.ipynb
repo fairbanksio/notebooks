{
 "cells": [
  {
   "cell_type": "markdown",
   "id": "bfaee08d-ba73-4709-aa25-d190a8dbfe6a",
   "metadata": {},
   "source": [
    "# Website Image Scraper"
   ]
  },
  {
   "cell_type": "markdown",
   "id": "86e5af23-5012-419c-8c00-b84ef993b593",
   "metadata": {
    "tags": []
   },
   "source": [
    "### Install & Import Dependencies"
   ]
  },
  {
   "cell_type": "code",
   "execution_count": null,
   "id": "6d3aa5f6-6a0c-4fdc-becb-0db070ba32ab",
   "metadata": {
    "tags": []
   },
   "outputs": [],
   "source": [
    "%pip install -q -U requests bs4 Pillow selenium"
   ]
  },
  {
   "cell_type": "code",
   "execution_count": null,
   "id": "42620ef0-c5c0-47ca-8450-555f4663364f",
   "metadata": {
    "tags": []
   },
   "outputs": [],
   "source": [
    "import imghdr\n",
    "import os\n",
    "import requests\n",
    "from bs4 import BeautifulSoup\n",
    "from IPython.display import HTML, display"
   ]
  },
  {
   "cell_type": "markdown",
   "id": "15bde022-005e-47c7-a8b0-9f0f33880409",
   "metadata": {
    "tags": []
   },
   "source": [
    "### Create `download_images(url, filename_length)` function"
   ]
  },
  {
   "cell_type": "code",
   "execution_count": null,
   "id": "8ab4e493-0540-467b-a91f-f194793885a4",
   "metadata": {
    "tags": []
   },
   "outputs": [],
   "source": [
    "def download_images(url, max_filename_length=100):\n",
    "    response = requests.get(url)\n",
    "    soup = BeautifulSoup(response.content, 'html.parser')\n",
    "\n",
    "    # Get the domain name from the URL\n",
    "    domain = url.split('//')[-1].split('/')[0]\n",
    "\n",
    "    # Create a directory for the images with the domain name\n",
    "    image_dir = f'{domain}'\n",
    "    if not os.path.exists(image_dir):\n",
    "        os.makedirs(image_dir)\n",
    "\n",
    "    downloaded_images_count = 0\n",
    "    for img in soup.find_all('img'):\n",
    "        img_url = img.get('src')\n",
    "        if not img_url.startswith('http'):\n",
    "            img_url = url + '/' + img_url\n",
    "\n",
    "        img_data = requests.get(img_url).content\n",
    "        img_name = os.path.splitext(os.path.splitext(img_url.split('/')[-1])[0])[0]\n",
    "        if len(img_name) > max_filename_length:\n",
    "            img_name = img_name[:max_filename_length]\n",
    "\n",
    "        # Use the imghdr module to get the file type of the image\n",
    "        img_type = imghdr.what(None, h=img_data)\n",
    "\n",
    "        # If the file type couldn't be determined, use 'jpg' as the default\n",
    "        if img_type is None:\n",
    "            img_type = 'jpeg'\n",
    "\n",
    "        img_path = os.path.join(image_dir, img_name + '.' + img_type)\n",
    "\n",
    "        try:\n",
    "            with open(img_path, 'wb') as f:\n",
    "                f.write(img_data)\n",
    "                downloaded_images_count += 1\n",
    "        except Exception as e:\n",
    "            print(f\"Failed to download {img_name} - {e}\")\n",
    "\n",
    "    print(f\"Downloaded {downloaded_images_count} images from {url} to /{image_dir}\")\n",
    "    \n",
    "    return image_dir"
   ]
  },
  {
   "cell_type": "markdown",
   "id": "c59e3b55-236e-4da1-a78d-b67c1843ca82",
   "metadata": {
    "tags": []
   },
   "source": [
    "### Set URL to scrape"
   ]
  },
  {
   "cell_type": "code",
   "execution_count": null,
   "id": "01eadb93-df73-4c08-a3c5-c85a8d943d33",
   "metadata": {
    "tags": []
   },
   "outputs": [],
   "source": [
    "url = 'https://engadget.com'\n",
    "image_dir = download_images(url)"
   ]
  },
  {
   "cell_type": "markdown",
   "id": "74c1f78b-d1fc-4ff5-bfc1-925c80748e6d",
   "metadata": {
    "tags": []
   },
   "source": [
    "### Get a list of images sorted by file-size"
   ]
  },
  {
   "cell_type": "code",
   "execution_count": null,
   "id": "d482fc8a-163e-4b8e-906b-d96e8e7b8a27",
   "metadata": {},
   "outputs": [],
   "source": [
    "img_files = sorted([f for f in os.listdir(image_dir) if os.path.isfile(os.path.join(image_dir, f))],\n",
    "                     key=lambda f: os.path.getsize(os.path.join(image_dir, f)),\n",
    "                     reverse=True)\n",
    "\n",
    "print(f\"Found {len(img_files)} images in {image_dir}\")"
   ]
  },
  {
   "cell_type": "markdown",
   "id": "4ea725fa-1039-4a62-851c-e3c5cda4146c",
   "metadata": {
    "tags": []
   },
   "source": [
    "### Create an HTML table with the images as cells"
   ]
  },
  {
   "cell_type": "code",
   "execution_count": null,
   "id": "1a240427-d86e-4e4a-8786-b153812858f6",
   "metadata": {
    "tags": []
   },
   "outputs": [],
   "source": [
    "table = '<table>'\n",
    "for i, image_file in enumerate(img_files):\n",
    "    if i % 3 == 0:\n",
    "        table += '<tr>'\n",
    "\n",
    "    table += f'<td><img src=\"{os.path.join(image_dir, image_file)}\" style=\"width: 200px;\"></td>'\n",
    "\n",
    "    if i % 3 == 2:\n",
    "        table += '</tr>'\n",
    "\n",
    "table += '</table>'"
   ]
  },
  {
   "cell_type": "markdown",
   "id": "b4c22d58-2b89-48e8-8682-628f47a6e19a",
   "metadata": {
    "tags": []
   },
   "source": [
    "### Display the image table"
   ]
  },
  {
   "cell_type": "code",
   "execution_count": null,
   "id": "01b7a369-cbc1-4e47-8b79-a8f7abb7e07b",
   "metadata": {
    "tags": []
   },
   "outputs": [],
   "source": [
    "display(HTML(table))"
   ]
  },
  {
   "cell_type": "code",
   "execution_count": null,
   "id": "37f43721-13bd-424b-ab74-19d3f974b02d",
   "metadata": {},
   "outputs": [],
   "source": []
  }
 ],
 "metadata": {
  "kernelspec": {
   "display_name": "Python 3 (ipykernel)",
   "language": "python",
   "name": "python3"
  },
  "language_info": {
   "codemirror_mode": {
    "name": "ipython",
    "version": 3
   },
   "file_extension": ".py",
   "mimetype": "text/x-python",
   "name": "python",
   "nbconvert_exporter": "python",
   "pygments_lexer": "ipython3",
   "version": "3.11.7"
  }
 },
 "nbformat": 4,
 "nbformat_minor": 5
}

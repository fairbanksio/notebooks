{
 "cells": [
  {
   "cell_type": "markdown",
   "metadata": {},
   "source": [
    "# Scrolller Scraper\n",
    "\n",
    "[Scrolller](https://scrolller.com) allows subreddits to be viewed using a scrollable, Instagram like interface."
   ]
  },
  {
   "cell_type": "markdown",
   "metadata": {},
   "source": [
    "### Imports"
   ]
  },
  {
   "cell_type": "code",
   "execution_count": null,
   "metadata": {},
   "outputs": [],
   "source": [
    "import os\n",
    "import requests\n",
    "import concurrent.futures"
   ]
  },
  {
   "cell_type": "markdown",
   "metadata": {},
   "source": [
    "### Configs"
   ]
  },
  {
   "cell_type": "code",
   "execution_count": null,
   "metadata": {},
   "outputs": [],
   "source": [
    "SUBREDDITS = [\n",
    "    '/r/audi',\n",
    "    '/r/bmw',\n",
    "    '/r/porsche',\n",
    "    '/r/spotted'\n",
    "]"
   ]
  },
  {
   "cell_type": "markdown",
   "metadata": {},
   "source": [
    "### Helper Functions"
   ]
  },
  {
   "cell_type": "code",
   "execution_count": null,
   "metadata": {},
   "outputs": [],
   "source": [
    "def fetch_subreddit_data(subreddit_url):\n",
    "    url = 'https://api.scrolller.com/api/v2/graphql'\n",
    "\n",
    "    headers = {\n",
    "        'authority': 'api.scrolller.com',\n",
    "        'accept': '*/*',\n",
    "        'accept-language': 'en-US,en;q=0.9',\n",
    "        'content-type': 'text/plain;charset=UTF-8',\n",
    "        'origin': 'https://scrolller.com',\n",
    "        'user-agent': 'Mozilla/5.0 (Macintosh; Intel Mac OS X 10_15_7) AppleWebKit/537.36 (KHTML, like Gecko) Chrome/121.0.0.0 Safari/537.36'\n",
    "    }\n",
    "\n",
    "    data = {\n",
    "        \"query\": \" query SubredditQuery( $url: String! $filter: SubredditPostFilter $iterator: String ) { getSubreddit(url: $url) { children( limit: 500 iterator: $iterator filter: $filter disabledHosts: null ) { iterator items { __typename id url title subredditId subredditTitle subredditUrl redditPath albumUrl hasAudio fullLengthSource mediaSources { url width height } } } } } \",\n",
    "        \"variables\": {\n",
    "            \"url\": subreddit_url\n",
    "        },\n",
    "    }\n",
    "\n",
    "    try:\n",
    "        response = requests.post(url, headers=headers, json=data)\n",
    "        response.raise_for_status()  # Raise an exception for HTTP errors\n",
    "        response_data = response.json()\n",
    "        return response_data['data']['getSubreddit']['children']['items']\n",
    "    except requests.exceptions.RequestException as err:\n",
    "        print(f\"Error making request: {err}\")\n",
    "        return []\n",
    "    except KeyError as err:\n",
    "        print(f\"Error accessing response data: {err}\")\n",
    "        return []\n",
    "    except Exception as err:\n",
    "        print(f\"Unhandled error: {err}\")\n",
    "        return []"
   ]
  },
  {
   "cell_type": "code",
   "execution_count": null,
   "metadata": {},
   "outputs": [],
   "source": [
    "def prioritize_mp4(media_sources):\n",
    "    for source in media_sources:\n",
    "        if source['url'].endswith('.mp4'):\n",
    "            return source['url']\n",
    "    return media_sources[0]['url']"
   ]
  },
  {
   "cell_type": "code",
   "execution_count": null,
   "metadata": {},
   "outputs": [],
   "source": [
    "def download_media(post, folder_path):    \n",
    "    # Sort mediaSources by image dimensions in descending order\n",
    "    media_sources = sorted(post['mediaSources'], key=lambda x: x['width'] * x['height'], reverse=True)\n",
    "    largest_media_url = prioritize_mp4(media_sources)\n",
    "    \n",
    "    file_name = largest_media_url.split('/')[-1]\n",
    "    file_path = os.path.join(folder_path, file_name)\n",
    "    \n",
    "    if not os.path.exists(file_path):\n",
    "        media_response = requests.get(largest_media_url)\n",
    "        with open(file_path, 'wb') as f:\n",
    "            f.write(media_response.content)\n",
    "        print(f\"'{post['title']}' saved:\", file_path)\n",
    "        print()\n",
    "    else:\n",
    "        print(f\"Skipping '{post['title']}' ... file already exists: {file_path}\")\n",
    "        print()"
   ]
  },
  {
   "cell_type": "markdown",
   "metadata": {},
   "source": [
    "### Create Folders & Download Media"
   ]
  },
  {
   "cell_type": "code",
   "execution_count": null,
   "metadata": {},
   "outputs": [],
   "source": [
    "for subreddit in SUBREDDITS:\n",
    "    subreddit_name = subreddit.split('/')[-1]\n",
    "    folder_path = f\"./scrolller/{subreddit_name}\"\n",
    "    if not os.path.exists(folder_path):\n",
    "        os.makedirs(folder_path)\n",
    "\n",
    "    posts = fetch_subreddit_data(subreddit)\n",
    "    \n",
    "    # Multi-threaded execution\n",
    "    with concurrent.futures.ThreadPoolExecutor() as executor:\n",
    "        executor.map(download_media, posts, [folder_path] * len(posts))\n",
    "\n",
    "print(\"Downloads Complete!\")"
   ]
  }
 ],
 "metadata": {
  "kernelspec": {
   "display_name": "Python 3",
   "language": "python",
   "name": "python3"
  },
  "language_info": {
   "codemirror_mode": {
    "name": "ipython",
    "version": 3
   },
   "file_extension": ".py",
   "mimetype": "text/x-python",
   "name": "python",
   "nbconvert_exporter": "python",
   "pygments_lexer": "ipython3",
   "version": "3.11.7"
  }
 },
 "nbformat": 4,
 "nbformat_minor": 2
}

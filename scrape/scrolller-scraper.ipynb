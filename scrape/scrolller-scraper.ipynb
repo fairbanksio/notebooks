{
 "cells": [
  {
   "cell_type": "markdown",
   "metadata": {},
   "source": [
    "# Scrolller Scraper\n",
    "\n",
    "[Scrolller](https://scrolller.com) allows subreddits to be viewed using a scrollable, Instagram like interface."
   ]
  },
  {
   "cell_type": "markdown",
   "metadata": {},
   "source": [
    "### Imports"
   ]
  },
  {
   "cell_type": "code",
   "execution_count": 7,
   "metadata": {},
   "outputs": [],
   "source": [
    "import os\n",
    "import requests\n",
    "import json\n",
    "import concurrent.futures"
   ]
  },
  {
   "cell_type": "markdown",
   "metadata": {},
   "source": [
    "### Configs"
   ]
  },
  {
   "cell_type": "code",
   "execution_count": 8,
   "metadata": {},
   "outputs": [],
   "source": [
    "SUBREDDITS = [\n",
    "    '/r/audi',\n",
    "    '/r/bmw',\n",
    "    '/r/porsche',\n",
    "    '/r/spotted'\n",
    "]"
   ]
  },
  {
   "cell_type": "markdown",
   "metadata": {},
   "source": [
    "### Helper Functions"
   ]
  },
  {
   "cell_type": "code",
   "execution_count": 9,
   "metadata": {},
   "outputs": [],
   "source": [
    "def fetch_subreddit_data(subreddit_url):\n",
    "    url = 'https://api.scrolller.com/api/v2/graphql'\n",
    "\n",
    "    headers = {\n",
    "        'authority': 'api.scrolller.com',\n",
    "        'accept': '*/*',\n",
    "        'accept-language': 'en-US,en;q=0.9',\n",
    "        'content-type': 'text/plain;charset=UTF-8',\n",
    "        'origin': 'https://scrolller.com',\n",
    "        'user-agent': 'Mozilla/5.0 (Macintosh; Intel Mac OS X 10_15_7) AppleWebKit/537.36 (KHTML, like Gecko) Chrome/121.0.0.0 Safari/537.36'\n",
    "    }\n",
    "\n",
    "    data = {\n",
    "        \"query\": \" query SubredditQuery( $url: String! $filter: SubredditPostFilter $iterator: String ) { getSubreddit(url: $url) { children( limit: $limit iterator: $iterator filter: $filter disabledHosts: null ) { iterator items { __typename id url title subredditId subredditTitle subredditUrl redditPath albumUrl hasAudio fullLengthSource mediaSources { url width height } } } } } \",\n",
    "        \"variables\": {\n",
    "            \"url\": subreddit_url,\n",
    "            \"limit\": 500\n",
    "        },\n",
    "    }\n",
    "\n",
    "    try:\n",
    "        response = requests.post(url, headers=headers, json=data)\n",
    "        response_data = json.loads(response.text)\n",
    "    except Exception as err:\n",
    "        print(f\"Error getting request data: {err}\")\n",
    "\n",
    "    return response_data['data']['getSubreddit']['children']['items']"
   ]
  },
  {
   "cell_type": "code",
   "execution_count": 10,
   "metadata": {},
   "outputs": [],
   "source": [
    "def prioritize_mp4(media_sources):\n",
    "    for source in media_sources:\n",
    "        if source['url'].endswith('.mp4'):\n",
    "            return source['url']\n",
    "    return media_sources[0]['url']"
   ]
  },
  {
   "cell_type": "code",
   "execution_count": 11,
   "metadata": {},
   "outputs": [],
   "source": [
    "def download_media(post, folder_path):    \n",
    "    # Sort mediaSources by image dimensions in descending order\n",
    "    media_sources = sorted(post['mediaSources'], key=lambda x: x['width'] * x['height'], reverse=True)\n",
    "    largest_media_url = prioritize_mp4(media_sources)\n",
    "    \n",
    "    file_name = largest_media_url.split('/')[-1]\n",
    "    file_path = os.path.join(folder_path, file_name)\n",
    "    \n",
    "    if not os.path.exists(file_path):\n",
    "        media_response = requests.get(largest_media_url)\n",
    "        with open(file_path, 'wb') as f:\n",
    "            f.write(media_response.content)\n",
    "        print(f\"'{post['title']}' saved:\", file_path)\n",
    "        print()\n",
    "    else:\n",
    "        print(f\"Skipping '{post['title']}' ... file already exists: {file_path}\")\n",
    "        print()"
   ]
  },
  {
   "cell_type": "markdown",
   "metadata": {},
   "source": [
    "### Create Folders & Download Media"
   ]
  },
  {
   "cell_type": "code",
   "execution_count": 12,
   "metadata": {},
   "outputs": [
    {
     "ename": "KeyError",
     "evalue": "'data'",
     "output_type": "error",
     "traceback": [
      "\u001b[0;31m---------------------------------------------------------------------------\u001b[0m",
      "\u001b[0;31mKeyError\u001b[0m                                  Traceback (most recent call last)",
      "Cell \u001b[0;32mIn[12], line 7\u001b[0m\n\u001b[1;32m      4\u001b[0m \u001b[38;5;28;01mif\u001b[39;00m \u001b[38;5;129;01mnot\u001b[39;00m os\u001b[38;5;241m.\u001b[39mpath\u001b[38;5;241m.\u001b[39mexists(folder_path):\n\u001b[1;32m      5\u001b[0m     os\u001b[38;5;241m.\u001b[39mmakedirs(folder_path)\n\u001b[0;32m----> 7\u001b[0m posts \u001b[38;5;241m=\u001b[39m \u001b[43mfetch_subreddit_data\u001b[49m\u001b[43m(\u001b[49m\u001b[43msubreddit\u001b[49m\u001b[43m)\u001b[49m\n\u001b[1;32m      9\u001b[0m \u001b[38;5;66;03m# Multi-threaded execution\u001b[39;00m\n\u001b[1;32m     10\u001b[0m \u001b[38;5;28;01mwith\u001b[39;00m concurrent\u001b[38;5;241m.\u001b[39mfutures\u001b[38;5;241m.\u001b[39mThreadPoolExecutor() \u001b[38;5;28;01mas\u001b[39;00m executor:\n",
      "Cell \u001b[0;32mIn[9], line 27\u001b[0m, in \u001b[0;36mfetch_subreddit_data\u001b[0;34m(subreddit_url)\u001b[0m\n\u001b[1;32m     24\u001b[0m \u001b[38;5;28;01mexcept\u001b[39;00m \u001b[38;5;167;01mException\u001b[39;00m \u001b[38;5;28;01mas\u001b[39;00m err:\n\u001b[1;32m     25\u001b[0m     \u001b[38;5;28mprint\u001b[39m(\u001b[38;5;124mf\u001b[39m\u001b[38;5;124m\"\u001b[39m\u001b[38;5;124mError getting request data: \u001b[39m\u001b[38;5;132;01m{\u001b[39;00merr\u001b[38;5;132;01m}\u001b[39;00m\u001b[38;5;124m\"\u001b[39m)\n\u001b[0;32m---> 27\u001b[0m \u001b[38;5;28;01mreturn\u001b[39;00m \u001b[43mresponse_data\u001b[49m\u001b[43m[\u001b[49m\u001b[38;5;124;43m'\u001b[39;49m\u001b[38;5;124;43mdata\u001b[39;49m\u001b[38;5;124;43m'\u001b[39;49m\u001b[43m]\u001b[49m[\u001b[38;5;124m'\u001b[39m\u001b[38;5;124mgetSubreddit\u001b[39m\u001b[38;5;124m'\u001b[39m][\u001b[38;5;124m'\u001b[39m\u001b[38;5;124mchildren\u001b[39m\u001b[38;5;124m'\u001b[39m][\u001b[38;5;124m'\u001b[39m\u001b[38;5;124mitems\u001b[39m\u001b[38;5;124m'\u001b[39m]\n",
      "\u001b[0;31mKeyError\u001b[0m: 'data'"
     ]
    }
   ],
   "source": [
    "for subreddit in SUBREDDITS:\n",
    "    subreddit_name = subreddit.split('/')[-1]\n",
    "    folder_path = f\"./scrolller/{subreddit_name}\"\n",
    "    if not os.path.exists(folder_path):\n",
    "        os.makedirs(folder_path)\n",
    "\n",
    "    posts = fetch_subreddit_data(subreddit)\n",
    "    \n",
    "    # Multi-threaded execution\n",
    "    with concurrent.futures.ThreadPoolExecutor() as executor:\n",
    "        executor.map(download_media, posts, [folder_path] * len(posts))\n",
    "\n",
    "print(\"Downloads Complete!\")"
   ]
  }
 ],
 "metadata": {
  "kernelspec": {
   "display_name": "Python 3",
   "language": "python",
   "name": "python3"
  },
  "language_info": {
   "codemirror_mode": {
    "name": "ipython",
    "version": 3
   },
   "file_extension": ".py",
   "mimetype": "text/x-python",
   "name": "python",
   "nbconvert_exporter": "python",
   "pygments_lexer": "ipython3",
   "version": "3.11.7"
  }
 },
 "nbformat": 4,
 "nbformat_minor": 2
}

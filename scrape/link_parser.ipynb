{
 "cells": [
  {
   "cell_type": "code",
   "execution_count": null,
   "id": "3a144e8f-2c71-4721-b688-b7d29722fb41",
   "metadata": {
    "tags": []
   },
   "outputs": [],
   "source": [
    "%pip install requests bs4"
   ]
  },
  {
   "cell_type": "code",
   "execution_count": null,
   "id": "e2d09f5b-e494-457e-af89-9e7c05524cb9",
   "metadata": {
    "tags": []
   },
   "outputs": [],
   "source": [
    "from bs4 import BeautifulSoup\n",
    "import requests\n",
    "import re"
   ]
  },
  {
   "cell_type": "code",
   "execution_count": null,
   "id": "ca2c3b13-b44e-4947-bc3c-1051217cc3fb",
   "metadata": {
    "tags": []
   },
   "outputs": [],
   "source": [
    "URL = 'https://fairbanks.io'"
   ]
  },
  {
   "cell_type": "code",
   "execution_count": null,
   "id": "445a467c-16fa-49c9-82b1-82cf2a206e70",
   "metadata": {
    "tags": []
   },
   "outputs": [],
   "source": [
    "def getHTMLdocument(url):\n",
    "    response = requests.get(url)\n",
    "    return response.text"
   ]
  },
  {
   "cell_type": "code",
   "execution_count": null,
   "id": "3cb14697-eba0-4c56-af2a-a8a7bb3c5c19",
   "metadata": {},
   "outputs": [],
   "source": [
    "html_doc = getHTMLdocument(URL)\n",
    "soup = BeautifulSoup(html_doc, 'html.parser')"
   ]
  },
  {
   "cell_type": "code",
   "execution_count": null,
   "id": "63ed6961-5946-4d59-9829-f42ad5244ce8",
   "metadata": {
    "tags": []
   },
   "outputs": [],
   "source": [
    "for link in soup.find_all('a', attrs={'href': re.compile(\"^http(s)://\")}):\n",
    "    print(link.get('href'))"
   ]
  }
 ],
 "metadata": {
  "kernelspec": {
   "display_name": "Python 3 (ipykernel)",
   "language": "python",
   "name": "python3"
  },
  "language_info": {
   "codemirror_mode": {
    "name": "ipython",
    "version": 3
   },
   "file_extension": ".py",
   "mimetype": "text/x-python",
   "name": "python",
   "nbconvert_exporter": "python",
   "pygments_lexer": "ipython3",
   "version": "3.10.10"
  }
 },
 "nbformat": 4,
 "nbformat_minor": 5
}

{
 "cells": [
  {
   "cell_type": "code",
   "execution_count": null,
   "id": "6a882f7c-827e-404c-9f0f-829e920f294f",
   "metadata": {
    "tags": []
   },
   "outputs": [],
   "source": [
    "%pip install selenium"
   ]
  },
  {
   "cell_type": "code",
   "execution_count": null,
   "id": "cdd81661-d3bc-4f47-97b9-c695fa3a5131",
   "metadata": {
    "tags": []
   },
   "outputs": [],
   "source": [
    "from selenium import webdriver\n",
    "from selenium.webdriver.chrome.options import Options\n",
    "from selenium.webdriver.common.by import By"
   ]
  },
  {
   "cell_type": "code",
   "execution_count": null,
   "id": "233a3b80-3167-4f66-8d41-a4e81258be77",
   "metadata": {
    "tags": []
   },
   "outputs": [],
   "source": [
    "chrome_options = Options()\n",
    "chrome_options.add_argument(\"--no-sandbox\")\n",
    "chrome_options.add_argument(\"--headless\")\n",
    "chrome_options.add_argument(\"--window-size=1920,1080\")"
   ]
  },
  {
   "cell_type": "code",
   "execution_count": null,
   "id": "b8d48327-8bfb-4a19-a79f-318d382a8667",
   "metadata": {
    "tags": []
   },
   "outputs": [],
   "source": [
    "# Setup Browserless remote driver instance\n",
    "driver = webdriver.Remote(\n",
    "    command_executor=\"http://192.168.4.2:3000/webdriver\",\n",
    "    options=chrome_options\n",
    ")\n",
    "\n",
    "# Navigate to the webpage\n",
    "driver.get(\"https://unsplash.com\")\n",
    "\n",
    "# Wait for the page to finish loading\n",
    "driver.implicitly_wait(15)\n",
    "\n",
    "# Find the body element\n",
    "body = driver.find_element(By.TAG_NAME, \"body\")\n",
    "\n",
    "# Find all links on the page\n",
    "links = body.find_elements(By.TAG_NAME, \"a\")\n",
    "\n",
    "# Print all links\n",
    "print(\"Found Links:\")\n",
    "for link in links:\n",
    "    try:\n",
    "        print(f\"- {link.get_attribute('href')}\")\n",
    "    except Exception:\n",
    "        continue\n",
    "print()\n",
    "\n",
    "# Get console logs\n",
    "logs = driver.get_log(\"browser\")\n",
    "\n",
    "# Print console logs\n",
    "print(\"Console Logs:\")\n",
    "for log in logs:\n",
    "    print(log)\n",
    "print()\n",
    "    \n",
    "# Take a screenshot of the page and save it to a file\n",
    "driver.save_screenshot(\"screenshot.png\")\n",
    "print(\"Session Screenshot Saved!\\n\")\n",
    "\n",
    "# Close the browser\n",
    "driver.quit()"
   ]
  },
  {
   "cell_type": "code",
   "execution_count": null,
   "id": "4c11d2d8-950e-405c-99e0-d8afe8a97519",
   "metadata": {},
   "outputs": [],
   "source": []
  }
 ],
 "metadata": {
  "kernelspec": {
   "display_name": "Python 3 (ipykernel)",
   "language": "python",
   "name": "python3"
  },
  "language_info": {
   "codemirror_mode": {
    "name": "ipython",
    "version": 3
   },
   "file_extension": ".py",
   "mimetype": "text/x-python",
   "name": "python",
   "nbconvert_exporter": "python",
   "pygments_lexer": "ipython3",
   "version": "3.10.10"
  }
 },
 "nbformat": 4,
 "nbformat_minor": 5
}

{
 "cells": [
  {
   "cell_type": "code",
   "execution_count": null,
   "id": "ea55be44-2e7d-45d9-998f-246eda7cd62c",
   "metadata": {},
   "outputs": [],
   "source": [
    "%pip install feedparser"
   ]
  },
  {
   "cell_type": "code",
   "execution_count": null,
   "id": "d54f5dbe-c010-48b8-bd6c-49e28a0838e4",
   "metadata": {},
   "outputs": [],
   "source": [
    "import feedparser\n",
    "\n",
    "def read_rss_feed(url):\n",
    "    # Parse the RSS feed\n",
    "    feed = feedparser.parse(url)\n",
    "\n",
    "    if 'title' in feed.feed:\n",
    "        print(\"Feed Title:\", feed.feed.title)\n",
    "    if 'description' in feed.feed:\n",
    "        print(\"Feed Description:\", feed.feed.description)\n",
    "\n",
    "    # Iterate over the entries in the feed\n",
    "    for entry in feed.entries:\n",
    "        print(\"\\nEntry Title:\", entry.title)\n",
    "        if 'description' in entry:\n",
    "            print(\"Entry Description:\", entry.description)\n",
    "        if 'published' in entry:\n",
    "            print(\"Published Date:\", entry.published)\n",
    "        if 'link' in entry:\n",
    "            print(\"Entry Link:\", entry.link)\n",
    "\n",
    "        print(\"-----------------------------\")\n",
    "\n",
    "# Example usage\n",
    "rss_url = 'https://rss.nytimes.com/services/xml/rss/nyt/HomePage.xml'\n",
    "read_rss_feed(rss_url)\n"
   ]
  },
  {
   "cell_type": "code",
   "execution_count": null,
   "id": "39160ae5-9a6c-4bf2-b8a5-997f676506ef",
   "metadata": {},
   "outputs": [],
   "source": []
  }
 ],
 "metadata": {
  "kernelspec": {
   "display_name": "Python 3 (ipykernel)",
   "language": "python",
   "name": "python3"
  },
  "language_info": {
   "codemirror_mode": {
    "name": "ipython",
    "version": 3
   },
   "file_extension": ".py",
   "mimetype": "text/x-python",
   "name": "python",
   "nbconvert_exporter": "python",
   "pygments_lexer": "ipython3",
   "version": "3.10.11"
  }
 },
 "nbformat": 4,
 "nbformat_minor": 5
}

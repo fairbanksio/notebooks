{
 "cells": [
  {
   "cell_type": "markdown",
   "id": "778ac846-25bc-429e-938b-7719a51de594",
   "metadata": {},
   "source": [
    "### Install Dependencies"
   ]
  },
  {
   "cell_type": "code",
   "execution_count": null,
   "id": "12d37c95-e99a-4ce4-a26d-dc9d7005fa96",
   "metadata": {},
   "outputs": [],
   "source": [
    "%pip install -qq -U torch torchaudio ffmpeg"
   ]
  },
  {
   "cell_type": "markdown",
   "id": "c3ba6f5d-7b6c-411f-95c7-7eb2cf331abd",
   "metadata": {},
   "source": [
    "### Install whisperx"
   ]
  },
  {
   "cell_type": "code",
   "execution_count": null,
   "id": "881ae0ae-d8ee-4e76-9aac-76435027691f",
   "metadata": {},
   "outputs": [],
   "source": [
    "%pip install -qq faster-whisper"
   ]
  },
  {
   "cell_type": "markdown",
   "id": "2cf00595-61e1-4c09-b716-a498c1f821f9",
   "metadata": {},
   "source": [
    "### Listen to Audio"
   ]
  },
  {
   "cell_type": "code",
   "execution_count": null,
   "id": "9903d708-7640-4ec7-b44f-ba88f654ea0c",
   "metadata": {},
   "outputs": [],
   "source": [
    "from faster_whisper import WhisperModel\n",
    "\n",
    "model_size = \"large-v2\"\n",
    "\n",
    "# Run on GPU with FP16\n",
    "# model = WhisperModel(model_size, device=\"cuda\", compute_type=\"float16\")\n",
    "\n",
    "# Run on GPU with INT8\n",
    "# model = WhisperModel(model_size, device=\"cuda\", compute_type=\"int8_float16\")\n",
    "\n",
    "# Run on CPU with INT8\n",
    "model = WhisperModel(model_size, device=\"cpu\", compute_type=\"int8\")\n",
    "\n",
    "segments, info = model.transcribe(\"/home/jovyan/whisperx/Nvidia Knows This Sucks [2yqXobMV6-Q].mp3\", beam_size=5, language='en')\n",
    "\n",
    "for segment in segments:\n",
    "    print(\"[%.2fs -> %.2fs] %s\" % (segment.start, segment.end, segment.text))"
   ]
  },
  {
   "cell_type": "code",
   "execution_count": null,
   "id": "02a68737-0397-4b7f-9294-ee883c0acf2c",
   "metadata": {},
   "outputs": [],
   "source": []
  }
 ],
 "metadata": {
  "kernelspec": {
   "display_name": "Python 3 (ipykernel)",
   "language": "python",
   "name": "python3"
  },
  "language_info": {
   "codemirror_mode": {
    "name": "ipython",
    "version": 3
   },
   "file_extension": ".py",
   "mimetype": "text/x-python",
   "name": "python",
   "nbconvert_exporter": "python",
   "pygments_lexer": "ipython3",
   "version": "3.10.11"
  }
 },
 "nbformat": 4,
 "nbformat_minor": 5
}

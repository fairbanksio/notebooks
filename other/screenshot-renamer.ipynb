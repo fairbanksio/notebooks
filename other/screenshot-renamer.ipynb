{
 "cells": [
  {
   "cell_type": "code",
   "execution_count": null,
   "metadata": {},
   "outputs": [],
   "source": [
    "%pip install -q -U ollama"
   ]
  },
  {
   "cell_type": "code",
   "execution_count": null,
   "metadata": {},
   "outputs": [],
   "source": [
    "import os\n",
    "import json\n",
    "\n",
    "from ollama import Client as Ollama"
   ]
  },
  {
   "cell_type": "code",
   "execution_count": null,
   "metadata": {},
   "outputs": [],
   "source": [
    "OLLAMA_ENDPOINT = \"http://192.168.4.5:11434\"\n",
    "OLLAMA_MODEL = \"llava:34b\" # llava:7b, llava:13b, llava:34b\n",
    "INPUT_DIR = \"./input\"\n",
    "OUTPUT_DIR = \"./output\"\n",
    "\n",
    "PROMPT = \"You are a helpful assistant tasked with suggesting a relevant filename based on the content of a given image. Your response should be a raw JSON object with a single key-value pair. The key should be 'filename' and the value should be the suggested name for the file without an extension. Do not include any additional information or explanations in your response, just return the filename in the required format.\""
   ]
  },
  {
   "cell_type": "code",
   "execution_count": null,
   "metadata": {},
   "outputs": [],
   "source": [
    "def get_image_files(dir):\n",
    "    \"\"\"\n",
    "    Returns a list of all image files (jpg, jpeg, png) in the given directory.\n",
    "\n",
    "    Args:\n",
    "        directory (str): The path to the directory to search for image files.\n",
    "\n",
    "    Returns:\n",
    "        list: A list of strings, each representing an absolute file path to an image file.\n",
    "    \"\"\"\n",
    "    image_types = ['jpg', 'jpeg', 'png']\n",
    "    image_files = []\n",
    "\n",
    "    # Loop through all files in the given directory\n",
    "    for filename in os.listdir(dir):\n",
    "        # Check if the file has an image type extension\n",
    "        file_ext = filename.split('.')[-1]\n",
    "        if file_ext.lower() in image_types:\n",
    "            # If so, add its absolute path to the list of image files\n",
    "            image_files.append(os.path.join(dir, filename))\n",
    "\n",
    "    return image_files"
   ]
  },
  {
   "cell_type": "code",
   "execution_count": null,
   "metadata": {},
   "outputs": [],
   "source": [
    "def generate_filename(file_path):\n",
    "    ollama = Ollama(host=OLLAMA_ENDPOINT)\n",
    "    try:\n",
    "        resp = ollama.chat(\n",
    "            model=OLLAMA_MODEL,\n",
    "            messages=[\n",
    "                {\n",
    "                    'role': 'user',\n",
    "                    'content': PROMPT,\n",
    "                    'images': [\"./image.png\"]\n",
    "                },\n",
    "                {\n",
    "                    'role': 'assistant',\n",
    "                    'content': '{ \"filename\": \"a-blue-sports-car-driving-in-the-mountains\" }'\n",
    "                },\n",
    "                {\n",
    "                    'role': 'user',\n",
    "                    'content': PROMPT,\n",
    "                    'images': [ file_path ]\n",
    "                }\n",
    "            ]\n",
    "        )\n",
    "        response = json.loads(resp['message']['content'])\n",
    "        filename = response['filename']\n",
    "        return filename\n",
    "    except Exception as err:\n",
    "        print(f\"Error processing {file_path}: {err}\")\n",
    "        print()"
   ]
  },
  {
   "cell_type": "code",
   "execution_count": null,
   "metadata": {},
   "outputs": [],
   "source": [
    "image_files = get_image_files(INPUT_DIR)\n",
    "\n",
    "for file in image_files:\n",
    "    file_ext = file.split('.')[-1]\n",
    "    filename = generate_filename(file)\n",
    "    new_filename = f\"{OUTPUT_DIR}/{filename}.{file_ext}\"\n",
    "    print(f\"Old Filename: {file}\")\n",
    "    print(f\"New Filename: {new_filename}\")\n",
    "    print()"
   ]
  }
 ],
 "metadata": {
  "kernelspec": {
   "display_name": "Python 3 (ipykernel)",
   "language": "python",
   "name": "python3"
  },
  "language_info": {
   "codemirror_mode": {
    "name": "ipython",
    "version": 3
   },
   "file_extension": ".py",
   "mimetype": "text/x-python",
   "name": "python",
   "nbconvert_exporter": "python",
   "pygments_lexer": "ipython3",
   "version": "3.9.6"
  }
 },
 "nbformat": 4,
 "nbformat_minor": 2
}

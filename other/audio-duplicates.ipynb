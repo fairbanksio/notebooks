{
 "cells": [
  {
   "cell_type": "code",
   "execution_count": 1,
   "metadata": {},
   "outputs": [
    {
     "name": "stdout",
     "output_type": "stream",
     "text": [
      "Note: you may need to restart the kernel to use updated packages.\n"
     ]
    }
   ],
   "source": [
    "%pip install -q -U eyed3 pydub"
   ]
  },
  {
   "cell_type": "code",
   "execution_count": 2,
   "metadata": {},
   "outputs": [],
   "source": [
    "import os\n",
    "import filecmp\n",
    "from pydub import AudioSegment\n",
    "import eyed3"
   ]
  },
  {
   "cell_type": "code",
   "execution_count": 3,
   "metadata": {},
   "outputs": [],
   "source": [
    "def get_audio_properties(file_path):\n",
    "    # Get track length in milliseconds\n",
    "    audio = AudioSegment.from_file(file_path)\n",
    "    track_length = len(audio)\n",
    "\n",
    "    # Get ID3 tags\n",
    "    audiofile = eyed3.load(file_path)\n",
    "    if audiofile is not None and audiofile.tag is not None:\n",
    "        title = audiofile.tag.title\n",
    "        artist = audiofile.tag.artist\n",
    "        album = audiofile.tag.album\n",
    "        return title, artist, album, track_length\n",
    "    else:\n",
    "        return None, None, None, track_length"
   ]
  },
  {
   "cell_type": "code",
   "execution_count": 4,
   "metadata": {},
   "outputs": [],
   "source": [
    "def find_duplicates(folder1, folder2):\n",
    "    # Get the list of files in each folder\n",
    "    files1 = [f for f in os.listdir(folder1) if os.path.isfile(os.path.join(folder1, f))]\n",
    "    files2 = [f for f in os.listdir(folder2) if os.path.isfile(os.path.join(folder2, f))]\n",
    "    \n",
    "    # Initialize a dictionary to store file properties (title, artist, album, track length)\n",
    "    file_properties = {}\n",
    "\n",
    "    # Populate file properties dictionary for folder 1\n",
    "    for file in files1:\n",
    "        file_path = os.path.join(folder1, file)\n",
    "        title, artist, album, track_length = get_audio_properties(file_path)\n",
    "        file_properties[file] = (title, artist, album, track_length)\n",
    "\n",
    "    # Initialize a list to store duplicate filenames\n",
    "    duplicates = []\n",
    "\n",
    "    # Compare each file in folder2 with files in folder1\n",
    "    for file2 in files2:\n",
    "        file2_path = os.path.join(folder2, file2)\n",
    "        title2, artist2, album2, track_length2 = get_audio_properties(file2_path)\n",
    "        for file1, (title1, artist1, album1, track_length1) in file_properties.items():\n",
    "            if title1 == title2 and artist1 == artist2 and album1 == album2 and track_length1 == track_length2:\n",
    "                duplicates.append((file1, file2))\n",
    "                break\n",
    "    \n",
    "    return duplicates"
   ]
  },
  {
   "cell_type": "code",
   "execution_count": null,
   "metadata": {},
   "outputs": [],
   "source": [
    "# Example usage:\n",
    "folder1_path = '/path/to/first/folder'\n",
    "folder2_path = '/path/to/second/folder'\n",
    "\n",
    "duplicate_files = find_duplicates(folder1_path, folder2_path)\n",
    "\n",
    "if duplicate_files:\n",
    "    print(\"Duplicates found:\")\n",
    "    for file1, file2 in duplicate_files:\n",
    "        print(f\"{file1} in folder1 is a duplicate of {file2} in folder2.\")\n",
    "else:\n",
    "    print(\"No duplicates found.\")"
   ]
  }
 ],
 "metadata": {
  "kernelspec": {
   "display_name": "Python 3",
   "language": "python",
   "name": "python3"
  },
  "language_info": {
   "codemirror_mode": {
    "name": "ipython",
    "version": 3
   },
   "file_extension": ".py",
   "mimetype": "text/x-python",
   "name": "python",
   "nbconvert_exporter": "python",
   "pygments_lexer": "ipython3",
   "version": "3.11.4"
  }
 },
 "nbformat": 4,
 "nbformat_minor": 2
}

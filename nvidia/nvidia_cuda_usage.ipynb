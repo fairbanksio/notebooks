{
 "cells": [
  {
   "cell_type": "code",
   "execution_count": null,
   "id": "42eb3e07-b244-4f1c-a404-200592f87310",
   "metadata": {
    "tags": []
   },
   "outputs": [],
   "source": [
    "%pip install -qq -U torch"
   ]
  },
  {
   "cell_type": "code",
   "execution_count": null,
   "id": "20641b7f-0955-4920-925f-1ebc040c3b68",
   "metadata": {
    "tags": []
   },
   "outputs": [],
   "source": [
    "import torch"
   ]
  },
  {
   "cell_type": "code",
   "execution_count": null,
   "id": "4d3a19e8-0d7f-4ec4-9e72-d6136bf0c008",
   "metadata": {
    "tags": []
   },
   "outputs": [],
   "source": [
    "# setting device on GPU if available, else CPU\n",
    "device = torch.device('cuda' if torch.cuda.is_available() else 'cpu')\n",
    "print('Using device:', device)\n",
    "print()\n",
    "\n",
    "#Additional Info when using cuda\n",
    "if device.type == 'cuda':\n",
    "    print(torch.cuda.get_device_name(0))\n",
    "    print()\n",
    "    print('Torch Memory Usage:')\n",
    "    print('Allocated:', round(torch.cuda.memory_allocated(0)/1024**3,1), 'GB')\n",
    "    print('Cached:   ', round(torch.cuda.memory_reserved(0)/1024**3,1), 'GB')"
   ]
  },
  {
   "cell_type": "code",
   "execution_count": null,
   "id": "b89e2b0f-a67d-4d79-b346-fbbad3638436",
   "metadata": {},
   "outputs": [],
   "source": []
  }
 ],
 "metadata": {
  "kernelspec": {
   "display_name": "Python 3 (ipykernel)",
   "language": "python",
   "name": "python3"
  },
  "language_info": {
   "codemirror_mode": {
    "name": "ipython",
    "version": 3
   },
   "file_extension": ".py",
   "mimetype": "text/x-python",
   "name": "python",
   "nbconvert_exporter": "python",
   "pygments_lexer": "ipython3",
   "version": "3.10.11"
  }
 },
 "nbformat": 4,
 "nbformat_minor": 5
}

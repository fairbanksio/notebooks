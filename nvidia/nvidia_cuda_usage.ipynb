{
 "cells": [
  {
   "cell_type": "code",
   "execution_count": 2,
   "id": "42eb3e07-b244-4f1c-a404-200592f87310",
   "metadata": {
    "tags": []
   },
   "outputs": [
    {
     "name": "stdout",
     "output_type": "stream",
     "text": [
      "\u001b[31mERROR: Exception:\n",
      "Traceback (most recent call last):\n",
      "  File \"/opt/conda/lib/python3.10/site-packages/pip/_internal/cli/base_command.py\", line 169, in exc_logging_wrapper\n",
      "    status = run_func(*args)\n",
      "  File \"/opt/conda/lib/python3.10/site-packages/pip/_internal/cli/req_command.py\", line 248, in wrapper\n",
      "    return func(self, options, args)\n",
      "  File \"/opt/conda/lib/python3.10/site-packages/pip/_internal/commands/install.py\", line 449, in run\n",
      "    installed = install_given_reqs(\n",
      "  File \"/opt/conda/lib/python3.10/site-packages/pip/_internal/req/__init__.py\", line 72, in install_given_reqs\n",
      "    requirement.install(\n",
      "  File \"/opt/conda/lib/python3.10/site-packages/pip/_internal/req/req_install.py\", line 800, in install\n",
      "    install_wheel(\n",
      "  File \"/opt/conda/lib/python3.10/site-packages/pip/_internal/operations/install/wheel.py\", line 731, in install_wheel\n",
      "    _install_wheel(\n",
      "  File \"/opt/conda/lib/python3.10/site-packages/pip/_internal/operations/install/wheel.py\", line 591, in _install_wheel\n",
      "    file.save()\n",
      "  File \"/opt/conda/lib/python3.10/site-packages/pip/_internal/operations/install/wheel.py\", line 390, in save\n",
      "    shutil.copyfileobj(f, dest)\n",
      "  File \"/opt/conda/lib/python3.10/shutil.py\", line 195, in copyfileobj\n",
      "    buf = fsrc_read(length)\n",
      "  File \"/opt/conda/lib/python3.10/zipfile.py\", line 927, in read\n",
      "    data = self._read1(n)\n",
      "  File \"/opt/conda/lib/python3.10/zipfile.py\", line 1003, in _read1\n",
      "    data = self._decompressor.decompress(data, n)\n",
      "zlib.error: Error -3 while decompressing data: invalid block type\u001b[0m\u001b[31m\n",
      "\u001b[0mNote: you may need to restart the kernel to use updated packages.\n"
     ]
    }
   ],
   "source": [
    "%pip install -qq -U torch"
   ]
  },
  {
   "cell_type": "code",
   "execution_count": 1,
   "id": "20641b7f-0955-4920-925f-1ebc040c3b68",
   "metadata": {
    "tags": []
   },
   "outputs": [
    {
     "ename": "ModuleNotFoundError",
     "evalue": "No module named 'torch'",
     "output_type": "error",
     "traceback": [
      "\u001b[0;31m---------------------------------------------------------------------------\u001b[0m",
      "\u001b[0;31mModuleNotFoundError\u001b[0m                       Traceback (most recent call last)",
      "Cell \u001b[0;32mIn[1], line 1\u001b[0m\n\u001b[0;32m----> 1\u001b[0m \u001b[38;5;28;01mimport\u001b[39;00m \u001b[38;5;21;01mtorch\u001b[39;00m\n",
      "\u001b[0;31mModuleNotFoundError\u001b[0m: No module named 'torch'"
     ]
    }
   ],
   "source": [
    "import torch"
   ]
  },
  {
   "cell_type": "code",
   "execution_count": null,
   "id": "4d3a19e8-0d7f-4ec4-9e72-d6136bf0c008",
   "metadata": {
    "tags": []
   },
   "outputs": [],
   "source": [
    "# setting device on GPU if available, else CPU\n",
    "device = torch.device('cuda' if torch.cuda.is_available() else 'cpu')\n",
    "print('Using device:', device)\n",
    "print()\n",
    "\n",
    "#Additional Info when using cuda\n",
    "if device.type == 'cuda':\n",
    "    print(torch.cuda.get_device_name(0))\n",
    "    print()\n",
    "    print('Torch Memory Usage:')\n",
    "    print('Allocated:', round(torch.cuda.memory_allocated(0)/1024**3,1), 'GB')\n",
    "    print('Cached:   ', round(torch.cuda.memory_reserved(0)/1024**3,1), 'GB')"
   ]
  },
  {
   "cell_type": "code",
   "execution_count": null,
   "id": "b89e2b0f-a67d-4d79-b346-fbbad3638436",
   "metadata": {},
   "outputs": [],
   "source": []
  }
 ],
 "metadata": {
  "kernelspec": {
   "display_name": "Python 3 (ipykernel)",
   "language": "python",
   "name": "python3"
  },
  "language_info": {
   "codemirror_mode": {
    "name": "ipython",
    "version": 3
   },
   "file_extension": ".py",
   "mimetype": "text/x-python",
   "name": "python",
   "nbconvert_exporter": "python",
   "pygments_lexer": "ipython3",
   "version": "3.10.11"
  }
 },
 "nbformat": 4,
 "nbformat_minor": 5
}

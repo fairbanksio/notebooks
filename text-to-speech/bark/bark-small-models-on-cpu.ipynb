{
 "cells": [
  {
   "cell_type": "markdown",
   "id": "6a682b61",
   "metadata": {},
   "source": [
    "# Benchmarking small models on CPU\n",
    " - We can enable small models with the `SUNO_USE_SMALL_MODELS` environment variable"
   ]
  },
  {
   "cell_type": "code",
   "execution_count": null,
   "id": "11eecf2e",
   "metadata": {},
   "outputs": [],
   "source": [
    "%pip install git+https://github.com/suno-ai/bark.git"
   ]
  },
  {
   "cell_type": "code",
   "execution_count": null,
   "id": "9500dd93",
   "metadata": {},
   "outputs": [],
   "source": [
    "import os\n",
    "\n",
    "os.environ[\"CUDA_VISIBLE_DEVICES\"] = \"\"\n",
    "os.environ[\"SUNO_USE_SMALL_MODELS\"] = \"1\"\n",
    "\n",
    "from IPython.display import Audio\n",
    "import numpy as np\n",
    "\n",
    "from bark import generate_audio, preload_models, SAMPLE_RATE\n",
    "\n",
    "import time"
   ]
  },
  {
   "cell_type": "code",
   "execution_count": null,
   "id": "4e3454b6",
   "metadata": {},
   "outputs": [],
   "source": [
    "%%time\n",
    "preload_models()"
   ]
  },
  {
   "cell_type": "code",
   "execution_count": null,
   "id": "f6024e5f",
   "metadata": {},
   "outputs": [],
   "source": [
    "t0 = time.time()\n",
    "text = \"So anyways... I started blastin' 'em\"\n",
    "audio_array = generate_audio(text)\n",
    "generation_duration_s = time.time() - t0\n",
    "audio_duration_s = audio_array.shape[0] / SAMPLE_RATE\n",
    "\n",
    "print(f\"took {generation_duration_s:.0f}s to generate {audio_duration_s:.0f}s of audio\")\n",
    "\n",
    "display(Audio(audio_array, rate=SAMPLE_RATE, autoplay=True))"
   ]
  },
  {
   "cell_type": "code",
   "execution_count": null,
   "id": "74847e3b",
   "metadata": {},
   "outputs": [],
   "source": []
  }
 ],
 "metadata": {
  "kernelspec": {
   "display_name": "Python 3 (ipykernel)",
   "language": "python",
   "name": "python3"
  },
  "language_info": {
   "codemirror_mode": {
    "name": "ipython",
    "version": 3
   },
   "file_extension": ".py",
   "mimetype": "text/x-python",
   "name": "python",
   "nbconvert_exporter": "python",
   "pygments_lexer": "ipython3",
   "version": "3.9.6"
  }
 },
 "nbformat": 4,
 "nbformat_minor": 5
}

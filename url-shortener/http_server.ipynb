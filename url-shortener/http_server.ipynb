{
 "cells": [
  {
   "cell_type": "code",
   "execution_count": null,
   "id": "973ac7cd-5a53-4820-b17c-0b064ce53585",
   "metadata": {
    "tags": []
   },
   "outputs": [],
   "source": [
    "from flask import Flask, request, Response\n",
    "import random"
   ]
  },
  {
   "cell_type": "code",
   "execution_count": null,
   "id": "07a6548d-af35-4bb8-b9ad-74e1a39dec84",
   "metadata": {
    "tags": []
   },
   "outputs": [],
   "source": [
    "app1 = Flask(__name__)  # create the Flask app"
   ]
  },
  {
   "cell_type": "code",
   "execution_count": null,
   "id": "be4fab4d-2af3-40cf-a25e-24e022556cf1",
   "metadata": {
    "tags": []
   },
   "outputs": [],
   "source": [
    "BASE_DOMAIN = 'https://fbnks.io'"
   ]
  },
  {
   "cell_type": "code",
   "execution_count": null,
   "id": "6bdf9355-2ee2-41d2-a6d7-072d688914c1",
   "metadata": {
    "tags": []
   },
   "outputs": [],
   "source": [
    "# define a dictionary to store the long and short urls\n",
    "url_map = {}"
   ]
  },
  {
   "cell_type": "code",
   "execution_count": null,
   "id": "abe8fa0d-7b43-4b4a-b7b9-4dcb7d1fc2ae",
   "metadata": {
    "tags": []
   },
   "outputs": [],
   "source": [
    "@app1.route('/healthz', methods=['GET'])\n",
    "def healthz():\n",
    "    return \"OK\""
   ]
  },
  {
   "cell_type": "code",
   "execution_count": null,
   "id": "3517d955-83aa-48ee-8d8e-54dcad61d1a9",
   "metadata": {
    "tags": []
   },
   "outputs": [],
   "source": [
    "@app1.route('/shorten', methods=['POST'])\n",
    "def shorten():\n",
    "    # gather link_url and link_name from POST body\n",
    "    data = request.get_json()\n",
    "    link_url = data['link_url']\n",
    "    link_name = data['link_name']\n",
    "\n",
    "    # create a short link and store in the url_map dict\n",
    "    short_link = f\"{link_name}\"\n",
    "    url_map[short_link] = link_url\n",
    "    \n",
    "    return f\"{str(short_link)} created\""
   ]
  },
  {
   "cell_type": "code",
   "execution_count": null,
   "id": "9300ca81-2d3a-49d4-b913-3225447c375b",
   "metadata": {
    "tags": []
   },
   "outputs": [],
   "source": [
    "@app1.route('/<string:keyword>')\n",
    "def redirect_url(keyword):\n",
    "    if keyword in url_map:\n",
    "        long_url = url_map[keyword]\n",
    "        # create an HTML response that redirects the user to the long URL after 5 seconds\n",
    "        #html = f\"\"\"<html><head><meta http-equiv=\"refresh\" content=\"5;url={long_url}\"></head><body>You will be redirected to {long_url} in 5 seconds...</body></html>\"\"\"\n",
    "        html = f\"<a href='{long_url}' target='_blank'>{keyword}</a>\"\n",
    "        return Response(html, mimetype='text/html')\n",
    "    else:\n",
    "        return f'<h1>Invalid URL</h1>'"
   ]
  },
  {
   "cell_type": "code",
   "execution_count": null,
   "id": "c14077ff-ab4d-48aa-bf91-22f815441ccb",
   "metadata": {
    "tags": []
   },
   "outputs": [],
   "source": [
    "app1.run(port=5000)  # run app in debug mode on port 5000"
   ]
  },
  {
   "cell_type": "code",
   "execution_count": null,
   "id": "6677b847-e83d-4ee5-929b-9b20ccc8b33f",
   "metadata": {
    "tags": []
   },
   "outputs": [],
   "source": [
    "print(url_map)"
   ]
  },
  {
   "cell_type": "code",
   "execution_count": null,
   "id": "5b8ad96c-0ea7-48fb-810c-08b012304843",
   "metadata": {},
   "outputs": [],
   "source": []
  }
 ],
 "metadata": {
  "kernelspec": {
   "display_name": "Python 3 (ipykernel)",
   "language": "python",
   "name": "python3"
  },
  "language_info": {
   "codemirror_mode": {
    "name": "ipython",
    "version": 3
   },
   "file_extension": ".py",
   "mimetype": "text/x-python",
   "name": "python",
   "nbconvert_exporter": "python",
   "pygments_lexer": "ipython3",
   "version": "3.10.10"
  }
 },
 "nbformat": 4,
 "nbformat_minor": 5
}

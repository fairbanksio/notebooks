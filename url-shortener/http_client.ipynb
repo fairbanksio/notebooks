{
 "cells": [
  {
   "cell_type": "code",
   "execution_count": null,
   "id": "18a72c61-3f0c-49d8-aeb5-7d4f2a8a14ac",
   "metadata": {
    "tags": []
   },
   "outputs": [],
   "source": [
    "import requests"
   ]
  },
  {
   "cell_type": "code",
   "execution_count": null,
   "id": "af58c0c4-039e-48ff-84ee-783d6f62be4f",
   "metadata": {
    "tags": []
   },
   "outputs": [],
   "source": [
    "response = requests.get('http://127.0.0.1:5000/healthz')\n",
    "response.text"
   ]
  },
  {
   "cell_type": "code",
   "execution_count": null,
   "id": "36b6069b-a74f-428e-bd3a-9d42a57aefc0",
   "metadata": {
    "tags": []
   },
   "outputs": [],
   "source": [
    "body = {\n",
    "    'link_url':'https://images.unsplash.com/photo-1543796076-c8a565501995?ixlib=rb-4.0.3&ixid=MnwxMjA3fDB8MHxwaG90by1wYWdlfHx8fGVufDB8fHx8&auto=format&fit=crop&w=870&q=80',\n",
    "    'link_name':'test',\n",
    "}\n",
    "response = requests.post('http://127.0.0.1:5000/shorten', json=body)\n",
    "response.text"
   ]
  },
  {
   "cell_type": "code",
   "execution_count": null,
   "id": "d8a31218-7ad5-47fb-a55c-39c6c7ef3fe1",
   "metadata": {
    "tags": []
   },
   "outputs": [],
   "source": [
    "response = requests.get('http://127.0.0.1:5000/test')\n",
    "response.text"
   ]
  },
  {
   "cell_type": "code",
   "execution_count": null,
   "id": "41df55e5-3a40-4339-ae06-33ef21c8b238",
   "metadata": {},
   "outputs": [],
   "source": []
  }
 ],
 "metadata": {
  "kernelspec": {
   "display_name": "Python 3 (ipykernel)",
   "language": "python",
   "name": "python3"
  },
  "language_info": {
   "codemirror_mode": {
    "name": "ipython",
    "version": 3
   },
   "file_extension": ".py",
   "mimetype": "text/x-python",
   "name": "python",
   "nbconvert_exporter": "python",
   "pygments_lexer": "ipython3",
   "version": "3.10.10"
  }
 },
 "nbformat": 4,
 "nbformat_minor": 5
}

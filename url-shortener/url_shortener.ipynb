{
 "cells": [
  {
   "cell_type": "code",
   "execution_count": null,
   "id": "2900ca54-8186-464b-9076-bfc78241f768",
   "metadata": {
    "tags": []
   },
   "outputs": [],
   "source": [
    "%pip install Flask"
   ]
  },
  {
   "cell_type": "code",
   "execution_count": null,
   "id": "cbd13f86-8c26-406e-a811-ec53e1cd4806",
   "metadata": {
    "tags": []
   },
   "outputs": [],
   "source": [
    "from flask import Flask, request, redirect"
   ]
  },
  {
   "cell_type": "code",
   "execution_count": null,
   "id": "2c282377-8c54-4d8b-9aa7-252cd708c699",
   "metadata": {
    "tags": []
   },
   "outputs": [],
   "source": [
    "app2 = Flask(__name__)"
   ]
  },
  {
   "cell_type": "code",
   "execution_count": null,
   "id": "78a2989f-9907-4293-b2bc-567da85e51c4",
   "metadata": {
    "tags": []
   },
   "outputs": [],
   "source": [
    "# define a dictionary to store the long and short urls\n",
    "url_map = {}\n",
    "\n",
    "@app2.route('/')\n",
    "def index():\n",
    "    return '''\n",
    "        <h1>URL Shortener</h1>\n",
    "        <form method=\"post\" action=\"/shorten\">\n",
    "            <label for=\"url\">Enter a URL:</label>\n",
    "            <input type=\"url\" id=\"url\" name=\"url\" required>\n",
    "            <br>\n",
    "            <label for=\"keyword\">Enter a keyword:</label>\n",
    "            <input type=\"text\" id=\"keyword\" name=\"keyword\" required>\n",
    "            <button type=\"submit\">Shorten</button>\n",
    "        </form>\n",
    "    '''\n",
    "\n",
    "@app2.route('/<string:keyword>')\n",
    "def redirect_url(keyword):\n",
    "    if keyword in url_map:\n",
    "        long_url = url_map[keyword]\n",
    "        return redirect(long_url)\n",
    "    else:\n",
    "        return f'<h1>Invalid URL</h1>'\n",
    "\n",
    "@app2.route('/shorten', methods=['POST'])\n",
    "def shorten():\n",
    "    long_url = request.form['url']\n",
    "    keyword = request.form['keyword']\n",
    "    # generate a short URL based on the keyword\n",
    "    short_url = f'https://mylink.com/{keyword}'\n",
    "    # add the long and short URL to the dictionary\n",
    "    url_map[keyword] = long_url\n",
    "    # redirect the user to the short URL\n",
    "    return redirect(short_url)\n",
    "\n",
    "if __name__ == '__main__':\n",
    "    app.run(port=6900)"
   ]
  },
  {
   "cell_type": "code",
   "execution_count": null,
   "id": "ba8da1a2-3fba-4c5a-827f-6ca9240a723e",
   "metadata": {},
   "outputs": [],
   "source": []
  }
 ],
 "metadata": {
  "kernelspec": {
   "display_name": "Python 3 (ipykernel)",
   "language": "python",
   "name": "python3"
  },
  "language_info": {
   "codemirror_mode": {
    "name": "ipython",
    "version": 3
   },
   "file_extension": ".py",
   "mimetype": "text/x-python",
   "name": "python",
   "nbconvert_exporter": "python",
   "pygments_lexer": "ipython3",
   "version": "3.10.10"
  }
 },
 "nbformat": 4,
 "nbformat_minor": 5
}

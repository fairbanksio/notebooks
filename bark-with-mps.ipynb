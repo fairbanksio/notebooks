{
 "cells": [
  {
   "attachments": {},
   "cell_type": "markdown",
   "metadata": {},
   "source": [
    "### Installs"
   ]
  },
  {
   "cell_type": "code",
   "execution_count": 1,
   "metadata": {},
   "outputs": [
    {
     "name": "stdout",
     "output_type": "stream",
     "text": [
      "Defaulting to user installation because normal site-packages is not writeable\n",
      "Collecting git+https://github.com/suno-ai/bark.git\n",
      "  Cloning https://github.com/suno-ai/bark.git to /private/var/folders/7g/n47jb7y16q1064_kbc1lyk4r0000gn/T/pip-req-build-1u_0o9lq\n",
      "  Running command git clone --filter=blob:none --quiet https://github.com/suno-ai/bark.git /private/var/folders/7g/n47jb7y16q1064_kbc1lyk4r0000gn/T/pip-req-build-1u_0o9lq\n",
      "  Resolved https://github.com/suno-ai/bark.git to commit 599fed040e52c89e0b3580e02e2684b2c9100701\n",
      "  Installing build dependencies ... \u001b[?25ldone\n",
      "\u001b[?25h  Getting requirements to build wheel ... \u001b[?25ldone\n",
      "\u001b[?25h  Installing backend dependencies ... \u001b[?25ldone\n",
      "\u001b[?25h  Preparing metadata (pyproject.toml) ... \u001b[?25ldone\n",
      "\u001b[?25hRequirement already satisfied: boto3 in /Users/jonfairbanks/Library/Python/3.9/lib/python/site-packages (from suno-bark==0.0.1a0) (1.28.2)\n",
      "Requirement already satisfied: encodec in /Users/jonfairbanks/Library/Python/3.9/lib/python/site-packages (from suno-bark==0.0.1a0) (0.1.1)\n",
      "Requirement already satisfied: funcy in /Users/jonfairbanks/Library/Python/3.9/lib/python/site-packages (from suno-bark==0.0.1a0) (2.0)\n",
      "Requirement already satisfied: huggingface-hub>=0.14.1 in /Users/jonfairbanks/Library/Python/3.9/lib/python/site-packages (from suno-bark==0.0.1a0) (0.16.4)\n",
      "Requirement already satisfied: numpy in /Users/jonfairbanks/Library/Python/3.9/lib/python/site-packages (from suno-bark==0.0.1a0) (1.25.1)\n",
      "Requirement already satisfied: scipy in /Users/jonfairbanks/Library/Python/3.9/lib/python/site-packages (from suno-bark==0.0.1a0) (1.11.1)\n",
      "Requirement already satisfied: tokenizers in /Users/jonfairbanks/Library/Python/3.9/lib/python/site-packages (from suno-bark==0.0.1a0) (0.13.3)\n",
      "Requirement already satisfied: torch in /Users/jonfairbanks/Library/Python/3.9/lib/python/site-packages (from suno-bark==0.0.1a0) (2.1.0.dev20230712)\n",
      "Requirement already satisfied: tqdm in /Users/jonfairbanks/Library/Python/3.9/lib/python/site-packages (from suno-bark==0.0.1a0) (4.65.0)\n",
      "Requirement already satisfied: transformers in /Users/jonfairbanks/Library/Python/3.9/lib/python/site-packages (from suno-bark==0.0.1a0) (4.30.2)\n",
      "Requirement already satisfied: filelock in /Users/jonfairbanks/Library/Python/3.9/lib/python/site-packages (from huggingface-hub>=0.14.1->suno-bark==0.0.1a0) (3.12.0)\n",
      "Requirement already satisfied: fsspec in /Users/jonfairbanks/Library/Python/3.9/lib/python/site-packages (from huggingface-hub>=0.14.1->suno-bark==0.0.1a0) (2023.6.0)\n",
      "Requirement already satisfied: requests in /Users/jonfairbanks/Library/Python/3.9/lib/python/site-packages (from huggingface-hub>=0.14.1->suno-bark==0.0.1a0) (2.31.0)\n",
      "Requirement already satisfied: pyyaml>=5.1 in /Users/jonfairbanks/Library/Python/3.9/lib/python/site-packages (from huggingface-hub>=0.14.1->suno-bark==0.0.1a0) (6.0)\n",
      "Requirement already satisfied: typing-extensions>=3.7.4.3 in /Users/jonfairbanks/Library/Python/3.9/lib/python/site-packages (from huggingface-hub>=0.14.1->suno-bark==0.0.1a0) (4.7.1)\n",
      "Requirement already satisfied: packaging>=20.9 in /Users/jonfairbanks/Library/Python/3.9/lib/python/site-packages (from huggingface-hub>=0.14.1->suno-bark==0.0.1a0) (23.1)\n",
      "Requirement already satisfied: botocore<1.32.0,>=1.31.2 in /Users/jonfairbanks/Library/Python/3.9/lib/python/site-packages (from boto3->suno-bark==0.0.1a0) (1.31.2)\n",
      "Requirement already satisfied: jmespath<2.0.0,>=0.7.1 in /Users/jonfairbanks/Library/Python/3.9/lib/python/site-packages (from boto3->suno-bark==0.0.1a0) (1.0.1)\n",
      "Requirement already satisfied: s3transfer<0.7.0,>=0.6.0 in /Users/jonfairbanks/Library/Python/3.9/lib/python/site-packages (from boto3->suno-bark==0.0.1a0) (0.6.1)\n",
      "Requirement already satisfied: torchaudio in /Users/jonfairbanks/Library/Python/3.9/lib/python/site-packages (from encodec->suno-bark==0.0.1a0) (2.1.0.dev20230713)\n",
      "Requirement already satisfied: einops in /Users/jonfairbanks/Library/Python/3.9/lib/python/site-packages (from encodec->suno-bark==0.0.1a0) (0.6.1)\n",
      "Requirement already satisfied: sympy in /Users/jonfairbanks/Library/Python/3.9/lib/python/site-packages (from torch->suno-bark==0.0.1a0) (1.12)\n",
      "Requirement already satisfied: networkx in /Users/jonfairbanks/Library/Python/3.9/lib/python/site-packages (from torch->suno-bark==0.0.1a0) (3.1)\n",
      "Requirement already satisfied: jinja2 in /Users/jonfairbanks/Library/Python/3.9/lib/python/site-packages (from torch->suno-bark==0.0.1a0) (3.1.2)\n",
      "Requirement already satisfied: regex!=2019.12.17 in /Users/jonfairbanks/Library/Python/3.9/lib/python/site-packages (from transformers->suno-bark==0.0.1a0) (2023.6.3)\n",
      "Requirement already satisfied: safetensors>=0.3.1 in /Users/jonfairbanks/Library/Python/3.9/lib/python/site-packages (from transformers->suno-bark==0.0.1a0) (0.3.1)\n",
      "Requirement already satisfied: python-dateutil<3.0.0,>=2.1 in /Users/jonfairbanks/Library/Python/3.9/lib/python/site-packages (from botocore<1.32.0,>=1.31.2->boto3->suno-bark==0.0.1a0) (2.8.2)\n",
      "Requirement already satisfied: urllib3<1.27,>=1.25.4 in /Users/jonfairbanks/Library/Python/3.9/lib/python/site-packages (from botocore<1.32.0,>=1.31.2->boto3->suno-bark==0.0.1a0) (1.26.16)\n",
      "Requirement already satisfied: MarkupSafe>=2.0 in /Users/jonfairbanks/Library/Python/3.9/lib/python/site-packages (from jinja2->torch->suno-bark==0.0.1a0) (2.1.3)\n",
      "Requirement already satisfied: charset-normalizer<4,>=2 in /Users/jonfairbanks/Library/Python/3.9/lib/python/site-packages (from requests->huggingface-hub>=0.14.1->suno-bark==0.0.1a0) (3.2.0)\n",
      "Requirement already satisfied: idna<4,>=2.5 in /Users/jonfairbanks/Library/Python/3.9/lib/python/site-packages (from requests->huggingface-hub>=0.14.1->suno-bark==0.0.1a0) (3.4)\n",
      "Requirement already satisfied: certifi>=2017.4.17 in /Users/jonfairbanks/Library/Python/3.9/lib/python/site-packages (from requests->huggingface-hub>=0.14.1->suno-bark==0.0.1a0) (2022.12.7)\n",
      "Requirement already satisfied: mpmath>=0.19 in /Users/jonfairbanks/Library/Python/3.9/lib/python/site-packages (from sympy->torch->suno-bark==0.0.1a0) (1.3.0)\n",
      "Requirement already satisfied: six>=1.5 in /Library/Developer/CommandLineTools/Library/Frameworks/Python3.framework/Versions/3.9/lib/python3.9/site-packages (from python-dateutil<3.0.0,>=2.1->botocore<1.32.0,>=1.31.2->boto3->suno-bark==0.0.1a0) (1.15.0)\n",
      "\n",
      "\u001b[1m[\u001b[0m\u001b[34;49mnotice\u001b[0m\u001b[1;39;49m]\u001b[0m\u001b[39;49m A new release of pip is available: \u001b[0m\u001b[31;49m23.1.1\u001b[0m\u001b[39;49m -> \u001b[0m\u001b[32;49m23.1.2\u001b[0m\n",
      "\u001b[1m[\u001b[0m\u001b[34;49mnotice\u001b[0m\u001b[1;39;49m]\u001b[0m\u001b[39;49m To update, run: \u001b[0m\u001b[32;49m/Library/Developer/CommandLineTools/usr/bin/python3 -m pip install --upgrade pip\u001b[0m\n",
      "Found existing installation: torch 2.1.0.dev20230712\n",
      "Uninstalling torch-2.1.0.dev20230712:\n",
      "  Successfully uninstalled torch-2.1.0.dev20230712\n",
      "Found existing installation: torchvision 0.16.0.dev20230713\n",
      "Uninstalling torchvision-0.16.0.dev20230713:\n",
      "  Successfully uninstalled torchvision-0.16.0.dev20230713\n",
      "Found existing installation: torchaudio 2.1.0.dev20230713\n",
      "Uninstalling torchaudio-2.1.0.dev20230713:\n",
      "  Successfully uninstalled torchaudio-2.1.0.dev20230713\n",
      "Defaulting to user installation because normal site-packages is not writeable\n",
      "Looking in indexes: https://download.pytorch.org/whl/nightly/cpu\n",
      "Collecting torch\n",
      "  Using cached https://download.pytorch.org/whl/nightly/cpu/torch-2.1.0.dev20230712-cp39-none-macosx_11_0_arm64.whl (58.1 MB)\n",
      "Collecting torchvision\n",
      "  Using cached https://download.pytorch.org/whl/nightly/cpu/torchvision-0.16.0.dev20230713-cp39-cp39-macosx_11_0_arm64.whl (1.6 MB)\n",
      "Collecting torchaudio\n",
      "  Using cached https://download.pytorch.org/whl/nightly/cpu/torchaudio-2.1.0.dev20230713-cp39-cp39-macosx_11_0_arm64.whl (2.8 MB)\n",
      "Requirement already satisfied: filelock in /Users/jonfairbanks/Library/Python/3.9/lib/python/site-packages (from torch) (3.12.0)\n",
      "Requirement already satisfied: typing-extensions in /Users/jonfairbanks/Library/Python/3.9/lib/python/site-packages (from torch) (4.7.1)\n",
      "Requirement already satisfied: sympy in /Users/jonfairbanks/Library/Python/3.9/lib/python/site-packages (from torch) (1.12)\n",
      "Requirement already satisfied: networkx in /Users/jonfairbanks/Library/Python/3.9/lib/python/site-packages (from torch) (3.1)\n",
      "Requirement already satisfied: jinja2 in /Users/jonfairbanks/Library/Python/3.9/lib/python/site-packages (from torch) (3.1.2)\n",
      "Requirement already satisfied: fsspec in /Users/jonfairbanks/Library/Python/3.9/lib/python/site-packages (from torch) (2023.6.0)\n",
      "Requirement already satisfied: numpy in /Users/jonfairbanks/Library/Python/3.9/lib/python/site-packages (from torchvision) (1.25.1)\n",
      "Requirement already satisfied: requests in /Users/jonfairbanks/Library/Python/3.9/lib/python/site-packages (from torchvision) (2.31.0)\n",
      "Requirement already satisfied: pillow!=8.3.*,>=5.3.0 in /Users/jonfairbanks/Library/Python/3.9/lib/python/site-packages (from torchvision) (9.3.0)\n",
      "Requirement already satisfied: MarkupSafe>=2.0 in /Users/jonfairbanks/Library/Python/3.9/lib/python/site-packages (from jinja2->torch) (2.1.3)\n",
      "Requirement already satisfied: charset-normalizer<4,>=2 in /Users/jonfairbanks/Library/Python/3.9/lib/python/site-packages (from requests->torchvision) (3.2.0)\n",
      "Requirement already satisfied: idna<4,>=2.5 in /Users/jonfairbanks/Library/Python/3.9/lib/python/site-packages (from requests->torchvision) (3.4)\n",
      "Requirement already satisfied: urllib3<3,>=1.21.1 in /Users/jonfairbanks/Library/Python/3.9/lib/python/site-packages (from requests->torchvision) (1.26.16)\n",
      "Requirement already satisfied: certifi>=2017.4.17 in /Users/jonfairbanks/Library/Python/3.9/lib/python/site-packages (from requests->torchvision) (2022.12.7)\n",
      "Requirement already satisfied: mpmath>=0.19 in /Users/jonfairbanks/Library/Python/3.9/lib/python/site-packages (from sympy->torch) (1.3.0)\n",
      "Installing collected packages: torch, torchvision, torchaudio\n",
      "Successfully installed torch-2.1.0.dev20230712 torchaudio-2.1.0.dev20230713 torchvision-0.16.0.dev20230713\n",
      "\n",
      "\u001b[1m[\u001b[0m\u001b[34;49mnotice\u001b[0m\u001b[1;39;49m]\u001b[0m\u001b[39;49m A new release of pip is available: \u001b[0m\u001b[31;49m23.1.1\u001b[0m\u001b[39;49m -> \u001b[0m\u001b[32;49m23.1.2\u001b[0m\n",
      "\u001b[1m[\u001b[0m\u001b[34;49mnotice\u001b[0m\u001b[1;39;49m]\u001b[0m\u001b[39;49m To update, run: \u001b[0m\u001b[32;49m/Library/Developer/CommandLineTools/usr/bin/python3 -m pip install --upgrade pip\u001b[0m\n"
     ]
    }
   ],
   "source": [
    "!pip install git+https://github.com/suno-ai/bark.git\n",
    "\n",
    "!pip uninstall -y torch torchvision torchaudio\n",
    "!pip install --pre torch torchvision torchaudio --index-url https://download.pytorch.org/whl/nightly/cpu"
   ]
  },
  {
   "attachments": {},
   "cell_type": "markdown",
   "metadata": {},
   "source": [
    "### Set Options\n",
    "\n",
    "This needs done before imports."
   ]
  },
  {
   "cell_type": "code",
   "execution_count": 2,
   "metadata": {},
   "outputs": [],
   "source": [
    "import os\n",
    "\n",
    "os.environ[\"SUNO_ENABLE_MPS\"] = \"True\"\n",
    "os.environ[\"SUNO_USE_SMALL_MODELS\"] = \"True\" # Regular models are ~15 GB"
   ]
  },
  {
   "attachments": {},
   "cell_type": "markdown",
   "metadata": {},
   "source": [
    "### Imports"
   ]
  },
  {
   "cell_type": "code",
   "execution_count": 3,
   "metadata": {},
   "outputs": [
    {
     "name": "stderr",
     "output_type": "stream",
     "text": [
      "/Users/jonfairbanks/Library/Python/3.9/lib/python/site-packages/tqdm/auto.py:21: TqdmWarning: IProgress not found. Please update jupyter and ipywidgets. See https://ipywidgets.readthedocs.io/en/stable/user_install.html\n",
      "  from .autonotebook import tqdm as notebook_tqdm\n"
     ]
    }
   ],
   "source": [
    "import platform\n",
    "import sys\n",
    "import torch\n",
    "\n",
    "from bark import SAMPLE_RATE, generate_audio, preload_models\n",
    "from IPython.display import Audio"
   ]
  },
  {
   "attachments": {},
   "cell_type": "markdown",
   "metadata": {},
   "source": [
    "### Verify if Torch has access to Cuda or MPS (Apple Metal)"
   ]
  },
  {
   "cell_type": "code",
   "execution_count": 4,
   "metadata": {},
   "outputs": [
    {
     "name": "stdout",
     "output_type": "stream",
     "text": [
      "PLATFORM: macOS-13.4.1-arm64-arm-64bit\n",
      "\n",
      "PYTHON VERSION: 3.9.6 (default, May  7 2023, 23:32:44) \n",
      "[Clang 14.0.3 (clang-1403.0.22.14.1)]\n",
      "\n",
      "PYTORCH VERSION: <module 'torch.version' from '/Users/jonfairbanks/Library/Python/3.9/lib/python/site-packages/torch/version.py'>\n",
      "\n",
      "GPU: not available\n",
      "\n",
      "MPS: AVAILABLE\n",
      "\n",
      "TARGET DEVICE --> mps\n"
     ]
    }
   ],
   "source": [
    "has_gpu = torch.cuda.is_available()\n",
    "has_mps = torch.backends.mps.is_built()\n",
    "device = \"mps\" if torch.backends.mps.is_built() \\\n",
    "    else \"gpu\" if(torch.cuda.is_available()) else \"cpu\"\n",
    "\n",
    "print(f\"PLATFORM: {platform.platform()}\")\n",
    "print()\n",
    "print(f\"PYTHON VERSION: {sys.version}\")\n",
    "print()\n",
    "print(f\"PYTORCH VERSION: {torch.version}\")\n",
    "print()\n",
    "print(\"GPU:\", \"available\" if has_gpu else \"not available\")\n",
    "print()\n",
    "print(\"MPS:\", \"AVAILABLE\" if torch.backends.mps.is_built() else \"not available\")\n",
    "print()\n",
    "print(f\"TARGET DEVICE --> {device}\")"
   ]
  },
  {
   "attachments": {},
   "cell_type": "markdown",
   "metadata": {},
   "source": [
    "### Load the Bark model into (V)RAM"
   ]
  },
  {
   "cell_type": "code",
   "execution_count": 5,
   "metadata": {},
   "outputs": [
    {
     "name": "stderr",
     "output_type": "stream",
     "text": [
      "/Users/jonfairbanks/Library/Python/3.9/lib/python/site-packages/torch/nn/utils/weight_norm.py:30: UserWarning: torch.nn.utils.weight_norm is deprecated in favor of torch.nn.utils.parametrizations.weight_norm.\n",
      "  warnings.warn(\"torch.nn.utils.weight_norm is deprecated in favor of torch.nn.utils.parametrizations.weight_norm.\")\n"
     ]
    }
   ],
   "source": [
    "torch.device(device)\n",
    "preload_models()"
   ]
  },
  {
   "attachments": {},
   "cell_type": "markdown",
   "metadata": {},
   "source": [
    "### Generate audio with Bark"
   ]
  },
  {
   "cell_type": "code",
   "execution_count": 6,
   "metadata": {},
   "outputs": [
    {
     "name": "stderr",
     "output_type": "stream",
     "text": [
      " 27%|██▋       | 206/768 [06:30<4:22:35, 28.04s/it]"
     ]
    }
   ],
   "source": [
    "text_prompt = \"\"\"\n",
    "So anyways, I started blastin' 'em.\n",
    "\"\"\"\n",
    "\n",
    "audio_array = generate_audio(text_prompt)\n",
    "Audio(audio_array, rate=SAMPLE_RATE, autoplay=True)"
   ]
  }
 ],
 "metadata": {
  "kernelspec": {
   "display_name": "Python 3",
   "language": "python",
   "name": "python3"
  },
  "language_info": {
   "codemirror_mode": {
    "name": "ipython",
    "version": 3
   },
   "file_extension": ".py",
   "mimetype": "text/x-python",
   "name": "python",
   "nbconvert_exporter": "python",
   "pygments_lexer": "ipython3",
   "version": "3.9.6"
  },
  "orig_nbformat": 4
 },
 "nbformat": 4,
 "nbformat_minor": 2
}

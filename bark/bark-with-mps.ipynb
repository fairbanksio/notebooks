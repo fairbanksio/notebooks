{
 "cells": [
  {
   "attachments": {},
   "cell_type": "markdown",
   "metadata": {},
   "source": [
    "### Installs"
   ]
  },
  {
   "cell_type": "code",
   "execution_count": null,
   "metadata": {},
   "outputs": [],
   "source": [
    "!pip install -qq -U git+https://github.com/suno-ai/bark.git\n",
    "\n",
    "!pip uninstall -qq -y torch torchvision torchaudio\n",
    "!pip install -qq --pre torch torchvision torchaudio --index-url https://download.pytorch.org/whl/nightly/cpu"
   ]
  },
  {
   "attachments": {},
   "cell_type": "markdown",
   "metadata": {},
   "source": [
    "### Set Options\n",
    "\n",
    "This needs done before imports."
   ]
  },
  {
   "cell_type": "code",
   "execution_count": null,
   "metadata": {},
   "outputs": [],
   "source": [
    "import os\n",
    "\n",
    "os.environ[\"SUNO_ENABLE_MPS\"] = \"True\"\n",
    "os.environ[\"SUNO_USE_SMALL_MODELS\"] = \"True\" # Regular models are ~15 GB"
   ]
  },
  {
   "attachments": {},
   "cell_type": "markdown",
   "metadata": {},
   "source": [
    "### Imports"
   ]
  },
  {
   "cell_type": "code",
   "execution_count": null,
   "metadata": {},
   "outputs": [],
   "source": [
    "import platform\n",
    "import sys\n",
    "import torch\n",
    "\n",
    "from bark import SAMPLE_RATE, generate_audio, preload_models\n",
    "from IPython.display import Audio"
   ]
  },
  {
   "attachments": {},
   "cell_type": "markdown",
   "metadata": {},
   "source": [
    "### Verify if Torch has access to Cuda or MPS (Apple Metal)"
   ]
  },
  {
   "cell_type": "code",
   "execution_count": null,
   "metadata": {},
   "outputs": [],
   "source": [
    "has_gpu = torch.cuda.is_available()\n",
    "has_mps = torch.backends.mps.is_built()\n",
    "device = \"gpu\" if torch.cuda.is_available() \\\n",
    "    else \"mps\" if torch.backends.mps.is_built() \\\n",
    "    else \"cpu\"\n",
    "\n",
    "print(f\"PLATFORM: {platform.platform()}\")\n",
    "print()\n",
    "print(f\"PYTHON VERSION: {sys.version}\")\n",
    "print()\n",
    "print(f\"PYTORCH VERSION: {torch.__version__}\")\n",
    "print()\n",
    "print(\"GPU:\", \"✅\" if has_gpu else \"⛔\")\n",
    "print()\n",
    "print(\"MPS:\", \"✅\" if torch.backends.mps.is_built() else \"⛔\")\n",
    "print()\n",
    "print(f\"TARGET DEVICE --> {device}\")"
   ]
  },
  {
   "attachments": {},
   "cell_type": "markdown",
   "metadata": {},
   "source": [
    "### Load the Bark model into (V)RAM"
   ]
  },
  {
   "cell_type": "code",
   "execution_count": null,
   "metadata": {},
   "outputs": [],
   "source": [
    "torch.device(device)\n",
    "preload_models()"
   ]
  },
  {
   "attachments": {},
   "cell_type": "markdown",
   "metadata": {},
   "source": [
    "### Generate audio with Bark"
   ]
  },
  {
   "cell_type": "code",
   "execution_count": null,
   "metadata": {},
   "outputs": [],
   "source": [
    "text_prompt = \"\"\"\n",
    "So anyways, I started blastin' 'em.\n",
    "\"\"\"\n",
    "\n",
    "audio_array = generate_audio(text_prompt)\n",
    "Audio(audio_array, rate=SAMPLE_RATE, autoplay=True)"
   ]
  }
 ],
 "metadata": {
  "kernelspec": {
   "display_name": "Python 3",
   "language": "python",
   "name": "python3"
  },
  "language_info": {
   "codemirror_mode": {
    "name": "ipython",
    "version": 3
   },
   "file_extension": ".py",
   "mimetype": "text/x-python",
   "name": "python",
   "nbconvert_exporter": "python",
   "pygments_lexer": "ipython3",
   "version": "3.9.6"
  },
  "orig_nbformat": 4
 },
 "nbformat": 4,
 "nbformat_minor": 2
}

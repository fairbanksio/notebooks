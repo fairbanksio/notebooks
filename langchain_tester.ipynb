{
 "cells": [
  {
   "cell_type": "code",
   "execution_count": 1,
   "id": "2a65c696-c44a-4384-a22d-5f13372c3d19",
   "metadata": {
    "tags": []
   },
   "outputs": [
    {
     "name": "stdout",
     "output_type": "stream",
     "text": [
      "Requirement already satisfied: hvac in /opt/conda/lib/python3.10/site-packages (1.1.0)\n",
      "Requirement already satisfied: langchain==0.0.154 in /opt/conda/lib/python3.10/site-packages (0.0.154)\n",
      "Requirement already satisfied: google-api-python-client in /opt/conda/lib/python3.10/site-packages (2.86.0)\n",
      "Requirement already satisfied: openai in /opt/conda/lib/python3.10/site-packages (0.27.6)\n",
      "Requirement already satisfied: python-dotenv in /opt/conda/lib/python3.10/site-packages (1.0.0)\n",
      "Requirement already satisfied: PyYAML>=5.4.1 in /opt/conda/lib/python3.10/site-packages (from langchain==0.0.154) (6.0)\n",
      "Requirement already satisfied: SQLAlchemy<3,>1.4 in /opt/conda/lib/python3.10/site-packages (from langchain==0.0.154) (2.0.11)\n",
      "Requirement already satisfied: aiohttp<4.0.0,>=3.8.3 in /opt/conda/lib/python3.10/site-packages (from langchain==0.0.154) (3.8.4)\n",
      "Requirement already satisfied: async-timeout<5.0.0,>=4.0.0 in /opt/conda/lib/python3.10/site-packages (from langchain==0.0.154) (4.0.2)\n",
      "Requirement already satisfied: dataclasses-json<0.6.0,>=0.5.7 in /opt/conda/lib/python3.10/site-packages (from langchain==0.0.154) (0.5.7)\n",
      "Requirement already satisfied: numexpr<3.0.0,>=2.8.4 in /opt/conda/lib/python3.10/site-packages (from langchain==0.0.154) (2.8.4)\n",
      "Requirement already satisfied: numpy<2,>=1 in /opt/conda/lib/python3.10/site-packages (from langchain==0.0.154) (1.23.5)\n",
      "Requirement already satisfied: openapi-schema-pydantic<2.0,>=1.2 in /opt/conda/lib/python3.10/site-packages (from langchain==0.0.154) (1.2.4)\n",
      "Requirement already satisfied: pydantic<2,>=1 in /opt/conda/lib/python3.10/site-packages (from langchain==0.0.154) (1.10.7)\n",
      "Requirement already satisfied: requests<3,>=2 in /opt/conda/lib/python3.10/site-packages (from langchain==0.0.154) (2.29.0)\n",
      "Requirement already satisfied: tenacity<9.0.0,>=8.1.0 in /opt/conda/lib/python3.10/site-packages (from langchain==0.0.154) (8.2.2)\n",
      "Requirement already satisfied: tqdm>=4.48.0 in /opt/conda/lib/python3.10/site-packages (from langchain==0.0.154) (4.65.0)\n",
      "Requirement already satisfied: pyhcl<0.5.0,>=0.4.4 in /opt/conda/lib/python3.10/site-packages (from hvac) (0.4.4)\n",
      "Requirement already satisfied: httplib2<1dev,>=0.15.0 in /opt/conda/lib/python3.10/site-packages (from google-api-python-client) (0.22.0)\n",
      "Requirement already satisfied: google-auth<3.0.0dev,>=1.19.0 in /opt/conda/lib/python3.10/site-packages (from google-api-python-client) (2.17.3)\n",
      "Requirement already satisfied: google-auth-httplib2>=0.1.0 in /opt/conda/lib/python3.10/site-packages (from google-api-python-client) (0.1.0)\n",
      "Requirement already satisfied: google-api-core!=2.0.*,!=2.1.*,!=2.2.*,!=2.3.0,<3.0.0dev,>=1.31.5 in /opt/conda/lib/python3.10/site-packages (from google-api-python-client) (2.11.0)\n",
      "Requirement already satisfied: uritemplate<5,>=3.0.1 in /opt/conda/lib/python3.10/site-packages (from google-api-python-client) (4.1.1)\n",
      "Requirement already satisfied: attrs>=17.3.0 in /opt/conda/lib/python3.10/site-packages (from aiohttp<4.0.0,>=3.8.3->langchain==0.0.154) (22.2.0)\n",
      "Requirement already satisfied: charset-normalizer<4.0,>=2.0 in /opt/conda/lib/python3.10/site-packages (from aiohttp<4.0.0,>=3.8.3->langchain==0.0.154) (3.1.0)\n",
      "Requirement already satisfied: multidict<7.0,>=4.5 in /opt/conda/lib/python3.10/site-packages (from aiohttp<4.0.0,>=3.8.3->langchain==0.0.154) (6.0.4)\n",
      "Requirement already satisfied: yarl<2.0,>=1.0 in /opt/conda/lib/python3.10/site-packages (from aiohttp<4.0.0,>=3.8.3->langchain==0.0.154) (1.9.1)\n",
      "Requirement already satisfied: frozenlist>=1.1.1 in /opt/conda/lib/python3.10/site-packages (from aiohttp<4.0.0,>=3.8.3->langchain==0.0.154) (1.3.3)\n",
      "Requirement already satisfied: aiosignal>=1.1.2 in /opt/conda/lib/python3.10/site-packages (from aiohttp<4.0.0,>=3.8.3->langchain==0.0.154) (1.3.1)\n",
      "Requirement already satisfied: marshmallow<4.0.0,>=3.3.0 in /opt/conda/lib/python3.10/site-packages (from dataclasses-json<0.6.0,>=0.5.7->langchain==0.0.154) (3.19.0)\n",
      "Requirement already satisfied: marshmallow-enum<2.0.0,>=1.5.1 in /opt/conda/lib/python3.10/site-packages (from dataclasses-json<0.6.0,>=0.5.7->langchain==0.0.154) (1.5.1)\n",
      "Requirement already satisfied: typing-inspect>=0.4.0 in /opt/conda/lib/python3.10/site-packages (from dataclasses-json<0.6.0,>=0.5.7->langchain==0.0.154) (0.8.0)\n",
      "Requirement already satisfied: googleapis-common-protos<2.0dev,>=1.56.2 in /opt/conda/lib/python3.10/site-packages (from google-api-core!=2.0.*,!=2.1.*,!=2.2.*,!=2.3.0,<3.0.0dev,>=1.31.5->google-api-python-client) (1.59.0)\n",
      "Requirement already satisfied: protobuf!=3.20.0,!=3.20.1,!=4.21.0,!=4.21.1,!=4.21.2,!=4.21.3,!=4.21.4,!=4.21.5,<5.0.0dev,>=3.19.5 in /opt/conda/lib/python3.10/site-packages (from google-api-core!=2.0.*,!=2.1.*,!=2.2.*,!=2.3.0,<3.0.0dev,>=1.31.5->google-api-python-client) (4.21.12)\n",
      "Requirement already satisfied: cachetools<6.0,>=2.0.0 in /opt/conda/lib/python3.10/site-packages (from google-auth<3.0.0dev,>=1.19.0->google-api-python-client) (5.3.0)\n",
      "Requirement already satisfied: pyasn1-modules>=0.2.1 in /opt/conda/lib/python3.10/site-packages (from google-auth<3.0.0dev,>=1.19.0->google-api-python-client) (0.2.7)\n",
      "Requirement already satisfied: six>=1.9.0 in /opt/conda/lib/python3.10/site-packages (from google-auth<3.0.0dev,>=1.19.0->google-api-python-client) (1.16.0)\n",
      "Requirement already satisfied: rsa<5,>=3.1.4 in /opt/conda/lib/python3.10/site-packages (from google-auth<3.0.0dev,>=1.19.0->google-api-python-client) (4.9)\n",
      "Requirement already satisfied: pyparsing!=3.0.0,!=3.0.1,!=3.0.2,!=3.0.3,<4,>=2.4.2 in /opt/conda/lib/python3.10/site-packages (from httplib2<1dev,>=0.15.0->google-api-python-client) (3.0.9)\n",
      "Requirement already satisfied: typing-extensions>=4.2.0 in /opt/conda/lib/python3.10/site-packages (from pydantic<2,>=1->langchain==0.0.154) (4.5.0)\n",
      "Requirement already satisfied: idna<4,>=2.5 in /opt/conda/lib/python3.10/site-packages (from requests<3,>=2->langchain==0.0.154) (3.4)\n",
      "Requirement already satisfied: urllib3<1.27,>=1.21.1 in /opt/conda/lib/python3.10/site-packages (from requests<3,>=2->langchain==0.0.154) (1.26.15)\n",
      "Requirement already satisfied: certifi>=2017.4.17 in /opt/conda/lib/python3.10/site-packages (from requests<3,>=2->langchain==0.0.154) (2022.12.7)\n",
      "Requirement already satisfied: greenlet!=0.4.17 in /opt/conda/lib/python3.10/site-packages (from SQLAlchemy<3,>1.4->langchain==0.0.154) (2.0.2)\n",
      "Requirement already satisfied: packaging>=17.0 in /opt/conda/lib/python3.10/site-packages (from marshmallow<4.0.0,>=3.3.0->dataclasses-json<0.6.0,>=0.5.7->langchain==0.0.154) (23.1)\n",
      "Requirement already satisfied: pyasn1<0.5.0,>=0.4.6 in /opt/conda/lib/python3.10/site-packages (from pyasn1-modules>=0.2.1->google-auth<3.0.0dev,>=1.19.0->google-api-python-client) (0.4.8)\n",
      "Requirement already satisfied: mypy-extensions>=0.3.0 in /opt/conda/lib/python3.10/site-packages (from typing-inspect>=0.4.0->dataclasses-json<0.6.0,>=0.5.7->langchain==0.0.154) (1.0.0)\n"
     ]
    }
   ],
   "source": [
    "!pip install hvac langchain==0.0.154 google-api-python-client openai python-dotenv"
   ]
  },
  {
   "cell_type": "code",
   "execution_count": 2,
   "id": "87699556-5c9e-4b5e-8d99-8d59d1e4d324",
   "metadata": {
    "tags": []
   },
   "outputs": [
    {
     "data": {
      "text/plain": [
       "True"
      ]
     },
     "execution_count": 2,
     "metadata": {},
     "output_type": "execute_result"
    }
   ],
   "source": [
    "import hvac\n",
    "import langchain\n",
    "import os\n",
    "import sys\n",
    "\n",
    "from dotenv import load_dotenv\n",
    "from langchain.agents import ZeroShotAgent, Tool, AgentExecutor\n",
    "from langchain.memory import ConversationBufferMemory\n",
    "from langchain import LLMChain, OpenAI\n",
    "# from langchain.chat_models import ChatOpenAI\n",
    "from langchain.utilities import (\n",
    "    BashProcess,\n",
    "    GoogleSearchAPIWrapper,\n",
    "    PythonREPL,\n",
    "    TextRequestsWrapper,\n",
    ")\n",
    "\n",
    "from sonarr_recent import recently_added_episodes\n",
    "from solar_production import solar_production\n",
    "from trending_news import trending_news\n",
    "\n",
    "# Load the environment variables from the .env file\n",
    "load_dotenv()"
   ]
  },
  {
   "cell_type": "code",
   "execution_count": 3,
   "id": "9bd37710-5873-492f-8ac7-e70a579023d4",
   "metadata": {
    "tags": []
   },
   "outputs": [],
   "source": [
    "client = hvac.Client(\n",
    "    url=os.getenv('VAULT_API'),\n",
    "    token=os.getenv('VAULT_TOKEN'),\n",
    ")\n",
    "\n",
    "# print(client.is_authenticated())"
   ]
  },
  {
   "cell_type": "code",
   "execution_count": 4,
   "id": "82a574c8-8761-4cf3-b480-8287f15e0561",
   "metadata": {
    "tags": []
   },
   "outputs": [],
   "source": [
    "try:\n",
    "    secret_resp = client.secrets.kv.v2.read_secret_version(\n",
    "        mount_point='kv', \n",
    "        path='langchain-bot', \n",
    "        raise_on_deleted_version=False\n",
    "    )\n",
    "    \n",
    "    if secret_resp['data'] is not None:\n",
    "        secret_values = secret_resp['data']['data']\n",
    "        for secret, value in secret_values.items():\n",
    "            os.environ[str(secret)] = str(value)\n",
    "    else:\n",
    "        print(\"The secret does not exist.\")\n",
    "except hvac.exceptions.InvalidPath:\n",
    "    print(\"The path is invalid or the permission is denied.\")\n",
    "except hvac.exceptions.Forbidden:\n",
    "    print(\"The permission is denied.\")\n",
    "except hvac.exceptions.VaultError as e:\n",
    "    print(f\"Vault error occurred: {e}\")"
   ]
  },
  {
   "cell_type": "code",
   "execution_count": 41,
   "id": "6e7771e5-00d3-404b-a9f1-42c39f8bcd02",
   "metadata": {},
   "outputs": [],
   "source": [
    "bash = BashProcess()\n",
    "python_repl = PythonREPL()\n",
    "requests = TextRequestsWrapper()\n",
    "search = GoogleSearchAPIWrapper()\n",
    "\n",
    "tools = [\n",
    "    Tool(\n",
    "        name = \"Recent TV Show Episodes\",\n",
    "        func = recently_added_episodes,\n",
    "        description = \"Useful for when you need to understand what TV show episodes were recently added to Plex; input should be 'test'; output is returned as JSON\"\n",
    "    ),\n",
    "    Tool(\n",
    "        name = \"Solar Power Production\",\n",
    "        func = solar_production,\n",
    "        description = \"Useful for when you need to understand today's solar power production; input should be 'test'; output is returned as a string\",\n",
    "        return_direct = True\n",
    "    ),\n",
    "    Tool(\n",
    "        name = \"Trending News\",\n",
    "        func = trending_news,\n",
    "        description = \"Useful for when you need to understand the current trending news topics; input should be 'test'; output is returned as a Python list\",\n",
    "        return_direct = True\n",
    "    ),\n",
    "    Tool(\n",
    "        name = \"Bash\",\n",
    "        func = bash.run,\n",
    "        description = \"Useful for when you need to run a shell command locally\",\n",
    "    ),\n",
    "    Tool(\n",
    "        name = \"Python\",\n",
    "        func = python_repl.run,\n",
    "        description = \"Useful for when you need to run a Python command locally\",\n",
    "    ),\n",
    "    Tool(\n",
    "        name = \"Requests\",\n",
    "        func = requests.get,\n",
    "        description = \"Useful for when you need to access a website or URL\",\n",
    "    ),\n",
    "    Tool(\n",
    "        name = \"Search\",\n",
    "        func = search.run,\n",
    "        description = \"Useful for when you need to access the internet for additional information\"\n",
    "    ),\n",
    "]"
   ]
  },
  {
   "cell_type": "code",
   "execution_count": 42,
   "id": "4079fbcf-27d9-44ef-b8ad-e34bafea79f1",
   "metadata": {
    "tags": []
   },
   "outputs": [],
   "source": [
    "prefix = \"\"\"Have a conversation answering the following questions as best you can. You have access to the following tools:\"\"\"\n",
    "suffix = \"\"\"Begin!\"\n",
    "\n",
    "{chat_history}\n",
    "Question: {input}\n",
    "{agent_scratchpad}\"\"\"\n",
    "\n",
    "prompt = ZeroShotAgent.create_prompt(\n",
    "    tools,\n",
    "    prefix=prefix,\n",
    "    suffix=suffix,\n",
    "    input_variables=[\"input\", \"chat_history\", \"agent_scratchpad\"],\n",
    ")"
   ]
  },
  {
   "cell_type": "code",
   "execution_count": 43,
   "id": "a742d0e1-1b0b-4ec2-9cad-3490a797ea50",
   "metadata": {
    "tags": []
   },
   "outputs": [],
   "source": [
    "# Initialize Chat Memory\n",
    "memory = ConversationBufferMemory(memory_key=\"chat_history\")"
   ]
  },
  {
   "cell_type": "code",
   "execution_count": 44,
   "id": "b1cc2900-4858-41fe-b3ad-7d3703046a8c",
   "metadata": {
    "tags": []
   },
   "outputs": [],
   "source": [
    "# Setup ChatGPT Agent\n",
    "llm_chain = LLMChain(\n",
    "    llm=OpenAI(\n",
    "        temperature=0.3,\n",
    "        model_name=\"gpt-3.5-turbo\", # gpt-3.5-turbo OR gpt-4\n",
    "        request_timeout=60,\n",
    "        max_retries=3,\n",
    "    ),\n",
    "    prompt=prompt,\n",
    ")\n",
    "agent = ZeroShotAgent(llm_chain=llm_chain, tools=tools)\n",
    "agent_chain = AgentExecutor.from_agent_and_tools(\n",
    "    agent=agent,\n",
    "    memory=memory,\n",
    "    tools=tools,\n",
    "    verbose=True,\n",
    ")"
   ]
  },
  {
   "cell_type": "code",
   "execution_count": 45,
   "id": "85fce634-6247-45b3-a03f-fa30fb6a6c17",
   "metadata": {
    "tags": []
   },
   "outputs": [],
   "source": [
    "def chat_completion(input):\n",
    "    try:\n",
    "        output = agent_chain.run(input=input)\n",
    "        return output\n",
    "    except Exception as e:\n",
    "        print(f\"🦜🔗 LangChain Error: {e}\")\n",
    "        return e"
   ]
  },
  {
   "cell_type": "code",
   "execution_count": 46,
   "id": "8bf20034-a63b-4f7f-8daa-6060eb0dbea9",
   "metadata": {
    "tags": []
   },
   "outputs": [
    {
     "name": "stdout",
     "output_type": "stream",
     "text": [
      "\n",
      "\n",
      "\u001b[1m> Entering new AgentExecutor chain...\u001b[0m\n",
      "\u001b[32;1m\u001b[1;3mThought: I need to check the solar power production data\n",
      "Action: Solar Power Production\n",
      "Action Input: 'test'\u001b[0m\n",
      "Observation: \u001b[33;1m\u001b[1;3mToday's Solar Production: 37.3 kWh\u001b[0m\n",
      "\n",
      "\u001b[1m> Finished chain.\u001b[0m\n",
      "Today's Solar Production: 37.3 kWh\n",
      "CPU times: user 4.5 ms, sys: 4.67 ms, total: 9.17 ms\n",
      "Wall time: 2.33 s\n"
     ]
    }
   ],
   "source": [
    "%%time\n",
    "resp = chat_completion(\"How much solar power was generated?\")\n",
    "print(resp)"
   ]
  },
  {
   "cell_type": "code",
   "execution_count": null,
   "id": "3eeda763-b894-461f-8283-215269a9c73d",
   "metadata": {},
   "outputs": [],
   "source": []
  }
 ],
 "metadata": {
  "kernelspec": {
   "display_name": "Python 3 (ipykernel)",
   "language": "python",
   "name": "python3"
  },
  "language_info": {
   "codemirror_mode": {
    "name": "ipython",
    "version": 3
   },
   "file_extension": ".py",
   "mimetype": "text/x-python",
   "name": "python",
   "nbconvert_exporter": "python",
   "pygments_lexer": "ipython3",
   "version": "3.10.11"
  }
 },
 "nbformat": 4,
 "nbformat_minor": 5
}

{
 "cells": [
  {
   "cell_type": "code",
   "execution_count": null,
   "metadata": {},
   "outputs": [],
   "source": [
    "import requests\n",
    "import json"
   ]
  },
  {
   "cell_type": "code",
   "execution_count": null,
   "metadata": {},
   "outputs": [],
   "source": [
    "SONARR_API = 'http://192.168.4.2:8989/api/v3/series'\n",
    "SONARR_API_KEY = '209c12ff5b08449fa583f1ee66c80594'\n",
    "OLLAMA_API = 'http://192.168.4.5:11434/api/chat'\n",
    "OLLAMA_MODEL = 'mixtral:8x7b-instruct-v0.1-q3_K_M' # llama2:7b, llama2:13b, mistral:7b, etc."
   ]
  },
  {
   "cell_type": "code",
   "execution_count": null,
   "metadata": {},
   "outputs": [],
   "source": [
    "headers = {\n",
    "  'X-API-Key': SONARR_API_KEY\n",
    "}\n",
    "\n",
    "response = requests.get(SONARR_API, headers=headers)\n",
    "#print(response.json())\n",
    "\n",
    "series_list = []\n",
    "\n",
    "for series in response.json():\n",
    "  series_list.append(series['title'])\n",
    "\n",
    "series_list.sort()\n",
    "series_string = ', '.join(series_list)"
   ]
  },
  {
   "cell_type": "code",
   "execution_count": null,
   "metadata": {},
   "outputs": [],
   "source": [
    "payload = json.dumps({\n",
    "  \"model\": OLLAMA_MODEL,\n",
    "  \"messages\": [\n",
    "    {\n",
    "        \"role\": \"user\",\n",
    "        \"content\": \n",
    "          \"\"\"\n",
    "            I am looking for a new TV show to watch. I have enjoyed the following shows in the past:\n",
    "\n",
    "            The Wire, The Sopranos, Ray Donovan\n",
    "\n",
    "            Can you recommend some similar shows that I might like?\n",
    "          \"\"\"\n",
    "    },\n",
    "    {\n",
    "        \"role\": \"assistant\",\n",
    "        \"content\":\n",
    "          \"\"\"\n",
    "            Based on your interest in complex characters, intense drama, and suspenseful plot twists, I would recommend the following TV shows:\n",
    "\n",
    "            * The Shield\n",
    "            * Breaking Bad\n",
    "            * Fargo\n",
    "            * The Americans\n",
    "            * Better Call Saul\n",
    "          \"\"\"\n",
    "    },\n",
    "    {\n",
    "        \"role\": \"user\",\n",
    "        \"content\": \n",
    "          f\"\"\"\n",
    "            I am looking for a new TV show to watch. I have enjoyed the following shows in the past:\n",
    "\n",
    "            {series_string}\n",
    "\n",
    "            Can you recommend some similar shows that I might like?\n",
    "          \"\"\"\n",
    "    },\n",
    "  ],\n",
    "  \"stream\": False\n",
    "})\n",
    "headers = {\n",
    "  'Content-Type': 'application/json'\n",
    "}\n",
    "\n",
    "response = requests.post(OLLAMA_API, headers=headers, data=payload)\n",
    "#print(response.json())\n",
    "\n",
    "data = response.json()\n",
    "message = data['message']['content']\n",
    "\n",
    "print(message)"
   ]
  },
  {
   "cell_type": "code",
   "execution_count": null,
   "metadata": {},
   "outputs": [],
   "source": []
  }
 ],
 "metadata": {
  "kernelspec": {
   "display_name": "Python 3",
   "language": "python",
   "name": "python3"
  },
  "language_info": {
   "codemirror_mode": {
    "name": "ipython",
    "version": 3
   },
   "file_extension": ".py",
   "mimetype": "text/x-python",
   "name": "python",
   "nbconvert_exporter": "python",
   "pygments_lexer": "ipython3",
   "version": "3.11.7"
  }
 },
 "nbformat": 4,
 "nbformat_minor": 2
}

{
 "cells": [
  {
   "cell_type": "code",
   "execution_count": null,
   "metadata": {},
   "outputs": [],
   "source": [
    "import requests\n",
    "import json"
   ]
  },
  {
   "cell_type": "code",
   "execution_count": null,
   "metadata": {},
   "outputs": [],
   "source": [
    "RADARR_API = 'http://192.168.4.2:7879/api/v3/movie'\n",
    "RADARR_API_KEY = '5cfa829242064d2185c5cadc37bc237d'\n",
    "OLLAMA_API = 'http://192.168.4.5:11434/api/chat'\n",
    "OLLAMA_MODEL = 'mixtral:8x7b-instruct-v0.1-q3_K_M' # llama2:7b, llama2:13b, mistral:7b, etc."
   ]
  },
  {
   "cell_type": "code",
   "execution_count": null,
   "metadata": {},
   "outputs": [],
   "source": [
    "headers = {\n",
    "  'X-API-Key': RADARR_API_KEY\n",
    "}\n",
    "\n",
    "response = requests.get(RADARR_API, headers=headers)\n",
    "#print(response.json())\n",
    "\n",
    "movies_list = []\n",
    "\n",
    "for movie in response.json():\n",
    "  movies_list.append(movie['title'])\n",
    "\n",
    "movies_list.sort()\n",
    "movies_string = ', '.join(movies_list)"
   ]
  },
  {
   "cell_type": "code",
   "execution_count": null,
   "metadata": {},
   "outputs": [],
   "source": [
    "payload = json.dumps({\n",
    "  \"model\": OLLAMA_MODEL,\n",
    "  \"messages\": [\n",
    "    {\n",
    "        \"role\": \"user\",\n",
    "        \"content\": \n",
    "          \"\"\"\n",
    "            I am looking for a new movie to watch. I have enjoyed the following movies in the past:\n",
    "\n",
    "            Se7en, Fifth Element, Super Troopers\n",
    "\n",
    "            Can you recommend some similar movie that I might like?\n",
    "          \"\"\"\n",
    "    },\n",
    "    {\n",
    "        \"role\": \"assistant\",\n",
    "        \"content\":\n",
    "          \"\"\"\n",
    "            Based on your interest in complex characters, intense drama, and suspenseful plot twists, I would recommend the following Movies:\n",
    "\n",
    "            * Zodiac\n",
    "            * Blade Runner 2049 (2017)\n",
    "            * Hot Fuzz\n",
    "            * Casino\n",
    "          \"\"\"\n",
    "    },\n",
    "    {\n",
    "        \"role\": \"user\",\n",
    "        \"content\": \n",
    "          f\"\"\"\n",
    "            I am looking for a new movie to watch. I have enjoyed the following movies in the past:\n",
    "\n",
    "            {movies_string}\n",
    "\n",
    "            Can you recommend some similar movies that I might like?\n",
    "          \"\"\"\n",
    "    },\n",
    "  ],\n",
    "  \"stream\": False\n",
    "})\n",
    "headers = {\n",
    "  'Content-Type': 'application/json'\n",
    "}\n",
    "\n",
    "response = requests.post(OLLAMA_API, headers=headers, data=payload)\n",
    "#print(response.json())\n",
    "\n",
    "data = response.json()\n",
    "message = data['message']['content']\n",
    "\n",
    "print(message)"
   ]
  },
  {
   "cell_type": "code",
   "execution_count": null,
   "metadata": {},
   "outputs": [],
   "source": []
  }
 ],
 "metadata": {
  "kernelspec": {
   "display_name": "Python 3",
   "language": "python",
   "name": "python3"
  },
  "language_info": {
   "codemirror_mode": {
    "name": "ipython",
    "version": 3
   },
   "file_extension": ".py",
   "mimetype": "text/x-python",
   "name": "python",
   "nbconvert_exporter": "python",
   "pygments_lexer": "ipython3",
   "version": "3.11.7"
  }
 },
 "nbformat": 4,
 "nbformat_minor": 2
}

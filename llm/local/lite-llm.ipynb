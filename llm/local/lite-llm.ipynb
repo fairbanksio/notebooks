{
 "cells": [
  {
   "attachments": {},
   "cell_type": "markdown",
   "metadata": {},
   "source": [
    "## Interact with locally hosted LLM with LiteLLM\n",
    "\n",
    "https://docs.litellm.ai/docs/providers/ollama"
   ]
  },
  {
   "attachments": {},
   "cell_type": "markdown",
   "metadata": {},
   "source": [
    "### Installs and Imports"
   ]
  },
  {
   "cell_type": "code",
   "execution_count": 1,
   "metadata": {},
   "outputs": [
    {
     "name": "stdout",
     "output_type": "stream",
     "text": [
      "Note: you may need to restart the kernel to use updated packages.\n"
     ]
    }
   ],
   "source": [
    "%pip install -q -U litellm"
   ]
  },
  {
   "cell_type": "code",
   "execution_count": 2,
   "metadata": {},
   "outputs": [],
   "source": [
    "from litellm import completion"
   ]
  },
  {
   "attachments": {},
   "cell_type": "markdown",
   "metadata": {},
   "source": [
    "### Configuration"
   ]
  },
  {
   "cell_type": "code",
   "execution_count": 3,
   "metadata": {},
   "outputs": [],
   "source": [
    "API_BASE = \"http://192.168.4.5:11434\"\n",
    "MODEL = \"ollama/llama2\""
   ]
  },
  {
   "attachments": {},
   "cell_type": "markdown",
   "metadata": {},
   "source": [
    "### Standard Inference"
   ]
  },
  {
   "cell_type": "code",
   "execution_count": 4,
   "metadata": {},
   "outputs": [
    {
     "name": "stdout",
     "output_type": "stream",
     "text": [
      "ollama/llama2\n",
      "\n",
      "The causes of World War II can be traced back to several factors, including political, economic, and social tensions among nations in Europe and Asia. Here are some of the main events and factors that led to the outbreak of the war:\n",
      "\n",
      "1. Treaty of Versailles: The Treaty of Versailles, signed in 1919 after World War I, imposed harsh penalties on Germany, including heavy reparations and territorial losses. This led to economic and political instability in Germany and created resentment among the German people.\n",
      "2. Rise of Fascism: The interwar period saw the rise of fascist and authoritarian regimes in Europe, particularly in Italy under Benito Mussolini and Nazi Germany under Adolf Hitler. These regimes were characterized by their extreme nationalism, racism, and militarism, which contributed to the outbreak of war.\n",
      "3. Appeasement Policy: In the 1930s, many European powers, including Britain and France, adopted an appeasement policy towards Nazi Germany, hoping to avoid another devastating war. However, this only emboldened Hitler and allowed him to pursue his aggressive territorial ambitions.\n",
      "4. Invasion of Ethiopia: In 1935, Italy invaded Ethiopia, which was met with widespread condemnation from the international community. This led to Italy's withdrawal from the League of Nations and increased tensions between Italy and its neighbors.\n",
      "5. Anschluss: In 1938, Germany annexed Austria, which was met with little resistance from Europe. This further strengthened Hitler's ambition to unite all Germans under his rule.\n",
      "6. Munich Agreement: In September 1938, Britain and France signed the Munich Agreement with Nazi Germany, allowing Germany to annex the Sudetenland in Czechoslovakia. This was seen as a betrayal of Czechoslovakia and a sign of weakness from the Western powers, which further emboldened Hitler.\n",
      "7. Invasion of Poland: On September 1, 1939, Nazi Germany invaded Poland, which led to Britain and France declaring war on Germany. This marked the beginning of World War II.\n",
      "8. Japanese Aggression: Japan had been expanding its empire in East Asia since the early 20th century, but its aggressive expansion in China and Southeast Asia led to tensions with Western powers. In 1941, Japan attacked Pearl Harbor, leading to the United States entering the war.\n",
      "9. Economic Factors: The global economic depression of the 1930s had a significant impact on Germany's economy, leading to high levels of unemployment and poverty. This created a sense of desperation among the German people and made them more susceptible to the promises of radical political parties like the Nazis.\n",
      "\n",
      "These factors combined to create a complex web of tensions and conflicts that ultimately led to the outbreak of World War II.\n"
     ]
    }
   ],
   "source": [
    "response = completion(\n",
    "    api_base=API_BASE,\n",
    "    model=MODEL,    \n",
    "    messages=[{\n",
    "        \"role\": \"user\",\n",
    "        \"content\": \"What was the cause of the 2nd World War?\"    \n",
    "    }]\n",
    ")\n",
    "\n",
    "print(response.model)\n",
    "print()\n",
    "print(response.choices[0].message.content)"
   ]
  },
  {
   "attachments": {},
   "cell_type": "markdown",
   "metadata": {},
   "source": [
    "### Streaming Inference"
   ]
  },
  {
   "cell_type": "code",
   "execution_count": 6,
   "metadata": {},
   "outputs": [
    {
     "name": "stdout",
     "output_type": "stream",
     "text": [
      "The causes of World War II can be traced back to several factors, including political, economic, and social tensions that had been building in Europe and Asia for many years. Here are some of the key events and factors that led to the outbreak of the war:\n",
      "\n",
      "1. Treaty of Versailles: The aftermath of World War I saw the imposition of harsh penalties on Germany through the Treaty of Versailles, which many Germans felt was unfair and contributed to their desire for revenge.\n",
      "2. Rise of Fascist and Nationalist Movements: The interwar period saw the rise of fascist and nationalist movements in Europe, particularly in Germany, Italy, and Japan. These movements were characterized by authoritarian governments and aggressive foreign policies, which contributed to the outbreak of war.\n",
      "3. Appeasement Policy: In the 1930s, many Western powers, including Britain and France, adopted an appeasement policy towards Germany, hoping to avoid another devastating war. However, this only emboldened Hitler's aggressive territorial ambitions, leading to the invasion of Poland in September 1939.\n",
      "4. Invasion of Ethiopia: Italy's invasion of Ethiopia in 1935 was seen as a challenge to the League of Nations and the international order, and it led to the collapse of the League and the failure of collective security.\n",
      "5. Japanese Expansion: Japan's aggressive expansion in East Asia, including its invasion of Manchuria in 1931 and its subsequent invasion of China, contributed to the outbreak of war in the Pacific.\n",
      "6. German-Soviet Non-Aggression Pact: The German-Soviet Non-Aggression Pact of 1939, signed between Hitler and Stalin, removed the possibility of Soviet intervention in the event of a German attack on Poland, allowing Germany to invade Poland without fear of reprisal.\n",
      "7. Phony War: The so-called \"phony war\" in Western Europe during 1939-1940, in which Germany launched a series of small-scale attacks on France and Belgium without achieving any significant military gains, allowed Hitler to regroup his forces and prepare for the invasion of Poland.\n",
      "8. Economic Factors: The global economic depression of the 1930s had a profound impact on Europe, leading to high levels of unemployment and poverty, which contributed to the political instability that preceded the war.\n",
      "9. Imperialism and Colonial Rivalries: The rivalry between European powers over colonies and territories in Africa and Asia contributed to tensions that eventually led to the outbreak of war.\n",
      "10. Ideological Conflict: The rise of fascist and nationalist ideologies in Europe, particularly in Germany, Italy, and Japan, created a fundamental divide between these countries and the rest of the world, leading to a broader conflict.\n",
      "\n",
      "These factors, among others, combined to create a complex web of tensions and conflicts that ultimately led to the outbreak of World War II.None"
     ]
    }
   ],
   "source": [
    "response = completion(\n",
    "    api_base=API_BASE,\n",
    "    model=MODEL,\n",
    "    stream=True,\n",
    "    messages=[{\n",
    "        \"role\": \"user\",\n",
    "        \"content\": \"What was the cause of the 2nd World War?\"    \n",
    "    }]\n",
    ")\n",
    "\n",
    "for chunk in response:\n",
    "    print(chunk['choices'][0]['delta'].content, end='') # Prints 'None' at the end for some reason"
   ]
  },
  {
   "cell_type": "code",
   "execution_count": null,
   "metadata": {},
   "outputs": [],
   "source": []
  }
 ],
 "metadata": {
  "kernelspec": {
   "display_name": "Python 3",
   "language": "python",
   "name": "python3"
  },
  "language_info": {
   "codemirror_mode": {
    "name": "ipython",
    "version": 3
   },
   "file_extension": ".py",
   "mimetype": "text/x-python",
   "name": "python",
   "nbconvert_exporter": "python",
   "pygments_lexer": "ipython3",
   "version": "3.11.4"
  },
  "orig_nbformat": 4
 },
 "nbformat": 4,
 "nbformat_minor": 2
}

{
 "cells": [
  {
   "cell_type": "code",
   "execution_count": null,
   "id": "80824549-3bd2-41be-9daa-4ce40fb2b836",
   "metadata": {
    "tags": []
   },
   "outputs": [],
   "source": [
    "%pip install python-dotenv"
   ]
  },
  {
   "cell_type": "code",
   "execution_count": null,
   "id": "505832b8-954c-4a18-96ba-7e02b82b4334",
   "metadata": {
    "tags": []
   },
   "outputs": [],
   "source": [
    "import json\n",
    "import requests\n",
    "import pytz\n",
    "from datetime import datetime, timezone"
   ]
  },
  {
   "cell_type": "code",
   "execution_count": null,
   "id": "a91b2660-0ea1-4737-90e7-5fa2339af3e1",
   "metadata": {
    "tags": []
   },
   "outputs": [],
   "source": [
    "# set the Sonarr API URL and key\n",
    "sonarr_url = 'http://192.168.4.2:8989/api/'\n",
    "sonarr_key = 'abc123'\n",
    "\n",
    "# set the API endpoints\n",
    "history_endpoint = 'history?sortKey=date&sortDir=desc&pageSize=5&page=1&filterKey=eventType&filterValue=3'\n",
    "calendar_endpoint = 'calendar'"
   ]
  },
  {
   "cell_type": "code",
   "execution_count": null,
   "id": "d1cfc428-ddf8-45bc-aca6-847072b6db08",
   "metadata": {
    "tags": []
   },
   "outputs": [],
   "source": [
    "def time_since(timestamp):\n",
    "    \"\"\"Converts an ISO 8601 timestamp to a human-readable string like \"15 minutes ago\".\"\"\"\n",
    "    now = datetime.now(timezone.utc)\n",
    "    ts = datetime.strptime(timestamp[:-1], '%Y-%m-%dT%H:%M:%S.%f')\n",
    "    ts = ts.replace(tzinfo=pytz.UTC)\n",
    "    delta = now - ts\n",
    "    \n",
    "    if delta.days > 0:\n",
    "        if delta.days == 1:\n",
    "            return \"1 day ago\"\n",
    "        else:\n",
    "            return \"{} days ago\".format(delta.days)\n",
    "    else:\n",
    "        seconds = delta.seconds\n",
    "        if seconds < 60:\n",
    "            return \"just now\"\n",
    "        elif seconds < 120:\n",
    "            return \"1 minute ago\"\n",
    "        elif seconds < 3600:\n",
    "            return \"{} minutes ago\".format(int(seconds / 60))\n",
    "        elif seconds < 7200:\n",
    "            return \"1 hour ago\"\n",
    "        else:\n",
    "            return \"{} hours ago\".format(int(seconds / 3600))\n"
   ]
  },
  {
   "cell_type": "code",
   "execution_count": null,
   "id": "b92f6673-6472-411c-9a8e-4c3ae7d9d157",
   "metadata": {
    "tags": []
   },
   "outputs": [],
   "source": [
    "def recently_added_episodes(index=\"\"):\n",
    "    # make the API request\n",
    "    response = requests.get(sonarr_url + history_endpoint, headers={'X-Api-Key': sonarr_key})\n",
    "\n",
    "    # check if the request was successful\n",
    "    if response.status_code == 200:\n",
    "        # parse the JSON response\n",
    "        data = response.json()\n",
    "        # get the list of episodes\n",
    "        episodes = data['records']\n",
    "        # create a list to hold the episode details\n",
    "        episode_details = []\n",
    "        # loop through the episodes and add their details to the list\n",
    "        for episode in episodes:\n",
    "            episode_detail = {\n",
    "                'show_title': episode['series']['title'],\n",
    "                'episode_title': episode['episode']['title'],\n",
    "                'season_number': episode['episode']['seasonNumber'],\n",
    "                'episode_number': episode['episode']['episodeNumber'],\n",
    "                'time_since_added': time_since(episode['date'])\n",
    "            }\n",
    "            episode_details.append(episode_detail)\n",
    "        return episode_details\n",
    "    else:\n",
    "        # print an error message if the request was unsuccessful\n",
    "        print('Error: {}'.format(response.text))"
   ]
  },
  {
   "cell_type": "code",
   "execution_count": null,
   "id": "72cfece6-a0ee-4dbb-8415-fdfae3233e60",
   "metadata": {
    "tags": []
   },
   "outputs": [],
   "source": [
    "def upcoming_episodes(index=\"\"):\n",
    "    # make the API request\n",
    "    response = requests.get(sonarr_url + calendar_endpoint, headers={'X-Api-Key': sonarr_key})\n",
    "\n",
    "    # check if the request was successful\n",
    "    if response.status_code == 200:\n",
    "        # parse the JSON response into a dictionary\n",
    "        data = response.json()\n",
    "        # get the list of episodes\n",
    "        episodes = data\n",
    "        # create a list to store the episode details\n",
    "        episode_details = []\n",
    "        for episode in episodes:\n",
    "            # create a dictionary to store the episode details\n",
    "            episode_dict = {}\n",
    "            episode_dict['show'] = episode['series']['title']\n",
    "            episode_dict['title'] = episode['title']\n",
    "            episode_dict['episode'] = 'S{}E{}'.format(episode['seasonNumber'], episode['episodeNumber'])\n",
    "            episode_dict['air_date'] = episode['airDateUtc']\n",
    "            episode_details.append(episode_dict)\n",
    "        return episode_details\n",
    "    else:\n",
    "        # raise an exception if the request was unsuccessful\n",
    "        raise Exception('Error: {}'.format(response.text))\n"
   ]
  },
  {
   "cell_type": "code",
   "execution_count": null,
   "id": "0d3b7ea7-e38d-44e1-9544-34279f612180",
   "metadata": {},
   "outputs": [],
   "source": [
    "print(json.dumps(recently_added_episodes(), indent=2))"
   ]
  },
  {
   "cell_type": "code",
   "execution_count": null,
   "id": "16f0d474-4298-4975-af3b-1ec0bf26c884",
   "metadata": {
    "tags": []
   },
   "outputs": [],
   "source": [
    "print(json.dumps(upcoming_episodes(), indent=2))"
   ]
  },
  {
   "cell_type": "code",
   "execution_count": null,
   "id": "100ff3bb-0445-4422-8efa-36c7ebc607a8",
   "metadata": {
    "tags": []
   },
   "outputs": [],
   "source": [
    "!jupyter nbconvert --to python sonarr_recent.ipynb"
   ]
  },
  {
   "cell_type": "code",
   "execution_count": null,
   "id": "38d87e8c-2af5-45c4-b003-8faeaa28d6c0",
   "metadata": {},
   "outputs": [],
   "source": []
  }
 ],
 "metadata": {
  "kernelspec": {
   "display_name": "Python 3 (ipykernel)",
   "language": "python",
   "name": "python3"
  },
  "language_info": {
   "codemirror_mode": {
    "name": "ipython",
    "version": 3
   },
   "file_extension": ".py",
   "mimetype": "text/x-python",
   "name": "python",
   "nbconvert_exporter": "python",
   "pygments_lexer": "ipython3",
   "version": "3.10.10"
  }
 },
 "nbformat": 4,
 "nbformat_minor": 5
}

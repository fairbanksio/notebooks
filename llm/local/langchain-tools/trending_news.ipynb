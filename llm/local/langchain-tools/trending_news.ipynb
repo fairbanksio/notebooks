{
 "cells": [
  {
   "cell_type": "code",
   "execution_count": null,
   "id": "53882430-f239-4c51-a0b5-85540a4289e8",
   "metadata": {
    "tags": []
   },
   "outputs": [],
   "source": [
    "%pip install requests"
   ]
  },
  {
   "cell_type": "code",
   "execution_count": null,
   "id": "751b46b7-329f-4de6-8671-6ae0c77e9bcb",
   "metadata": {
    "tags": []
   },
   "outputs": [],
   "source": [
    "import json\n",
    "import requests"
   ]
  },
  {
   "cell_type": "code",
   "execution_count": null,
   "id": "b1afe838-2211-43c7-aac8-85e8fdeccd8c",
   "metadata": {
    "tags": []
   },
   "outputs": [],
   "source": [
    "def trending_news(input=\"\"):\n",
    "    resp = requests.get('https://api.f5.news/posts/politics').json()\n",
    "    articles = resp['data']\n",
    "    trending = []\n",
    "    for article in articles:\n",
    "        #print(json.dumps(article, indent=2))\n",
    "        slack_link = f\"<https://reddit.com{article['commentLink']}|{article['title']}>\"\n",
    "        trending.append(slack_link)\n",
    "    return trending"
   ]
  },
  {
   "cell_type": "code",
   "execution_count": null,
   "id": "156f7318-9b26-48c5-a9af-531aca3e89fd",
   "metadata": {
    "tags": []
   },
   "outputs": [],
   "source": [
    "news = trending_news()\n",
    "print(json.dumps(news, indent=2))"
   ]
  },
  {
   "cell_type": "code",
   "execution_count": null,
   "id": "52995e0f-38cd-4f92-ad34-d0fd14caab1a",
   "metadata": {
    "tags": []
   },
   "outputs": [],
   "source": [
    "!jupyter nbconvert --to python trending_news.ipynb"
   ]
  },
  {
   "cell_type": "code",
   "execution_count": null,
   "id": "7e1374c6-839b-4f4a-971a-1d38787bc37b",
   "metadata": {},
   "outputs": [],
   "source": []
  }
 ],
 "metadata": {
  "kernelspec": {
   "display_name": "Python 3 (ipykernel)",
   "language": "python",
   "name": "python3"
  },
  "language_info": {
   "codemirror_mode": {
    "name": "ipython",
    "version": 3
   },
   "file_extension": ".py",
   "mimetype": "text/x-python",
   "name": "python",
   "nbconvert_exporter": "python",
   "pygments_lexer": "ipython3",
   "version": "3.10.10"
  }
 },
 "nbformat": 4,
 "nbformat_minor": 5
}

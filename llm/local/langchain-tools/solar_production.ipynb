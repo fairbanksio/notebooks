{
 "cells": [
  {
   "cell_type": "code",
   "execution_count": null,
   "id": "5e824cab-4f2b-42e0-96b5-e1c69321b07b",
   "metadata": {
    "tags": []
   },
   "outputs": [],
   "source": [
    "%pip install hvac python-dotenv"
   ]
  },
  {
   "cell_type": "code",
   "execution_count": null,
   "id": "7e65d310-0d49-467a-ba62-41cfd7138c7b",
   "metadata": {
    "tags": []
   },
   "outputs": [],
   "source": [
    "import hvac\n",
    "import json\n",
    "import os\n",
    "import requests\n",
    "from dotenv import load_dotenv\n",
    "\n",
    "# Load the environment variables from the .env file\n",
    "load_dotenv()"
   ]
  },
  {
   "cell_type": "code",
   "execution_count": null,
   "id": "3dc5fb75-0fb4-4f04-a2c7-7a5539af5ee8",
   "metadata": {
    "tags": []
   },
   "outputs": [],
   "source": [
    "client = hvac.Client(\n",
    "    url=os.getenv('VAULT_API'),\n",
    "    token=os.getenv('VAULT_TOKEN'),\n",
    ")\n",
    "\n",
    "# print(client.is_authenticated())"
   ]
  },
  {
   "cell_type": "code",
   "execution_count": null,
   "id": "515b5e23-baab-4216-a8a4-e2c98b6d1d69",
   "metadata": {
    "tags": []
   },
   "outputs": [],
   "source": [
    "try:\n",
    "    secret_resp = client.secrets.kv.v2.read_secret_version(\n",
    "        mount_point='kv', \n",
    "        path='homeassistant', \n",
    "        raise_on_deleted_version=False\n",
    "    )\n",
    "    \n",
    "    if secret_resp['data'] is not None:\n",
    "        secret_values = secret_resp['data']['data']\n",
    "        ha_url = secret_values[\"API_URL\"]\n",
    "        ha_token = secret_values[\"ACCESS_TOKEN\"]\n",
    "    else:\n",
    "        print(\"The secret does not exist.\")\n",
    "except hvac.exceptions.InvalidPath:\n",
    "    print(\"The path is invalid or the permission is denied.\")\n",
    "except hvac.exceptions.Forbidden:\n",
    "    print(\"The permission is denied.\")\n",
    "except hvac.exceptions.VaultError as e:\n",
    "    print(f\"Vault error occurred: {e}\")"
   ]
  },
  {
   "cell_type": "code",
   "execution_count": null,
   "id": "3e0e2ba8-7268-4539-98e1-c4179bb1af94",
   "metadata": {},
   "outputs": [],
   "source": [
    "def solar_production(input=\"\"):\n",
    "    # Define parameters for Home Assistant API call\n",
    "    ha_entity_id = \"sensor.solartoday\"\n",
    "\n",
    "    # Define headers for Home Assistant API call\n",
    "    headers = {\"Authorization\": f\"Bearer {ha_token}\", \"Content-Type\": \"application/json\"}\n",
    "\n",
    "    # Define endpoint and make API call to retrieve state of light entity\n",
    "    url = f\"{ha_url}/api/states/{ha_entity_id}\"\n",
    "    response = requests.get(url, headers=headers).content\n",
    "\n",
    "    # Decode response and extract current state\n",
    "    state = int(json.loads(response)[\"state\"])\n",
    "    \n",
    "    if int(state) >= 1000:\n",
    "        return(f\"Today's Solar Production: {round(state/1000,2):,} kWh\")\n",
    "    else:\n",
    "        return(f\"Today's Solar Production: {int(state):,} Wh\")"
   ]
  },
  {
   "cell_type": "code",
   "execution_count": null,
   "id": "17b595eb-55b7-4ff2-9b84-d6c826ebaffd",
   "metadata": {},
   "outputs": [],
   "source": [
    "print(solar_production())"
   ]
  },
  {
   "cell_type": "code",
   "execution_count": null,
   "id": "ba3655d0-8aca-4faf-9a50-519b7d001745",
   "metadata": {},
   "outputs": [],
   "source": []
  }
 ],
 "metadata": {
  "kernelspec": {
   "display_name": "Python 3 (ipykernel)",
   "language": "python",
   "name": "python3"
  },
  "language_info": {
   "codemirror_mode": {
    "name": "ipython",
    "version": 3
   },
   "file_extension": ".py",
   "mimetype": "text/x-python",
   "name": "python",
   "nbconvert_exporter": "python",
   "pygments_lexer": "ipython3",
   "version": "3.10.10"
  }
 },
 "nbformat": 4,
 "nbformat_minor": 5
}

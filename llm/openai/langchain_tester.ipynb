{
 "cells": [
  {
   "cell_type": "code",
   "execution_count": null,
   "id": "2a65c696-c44a-4384-a22d-5f13372c3d19",
   "metadata": {
    "tags": []
   },
   "outputs": [],
   "source": [
    "!pip install -qq -U hvac langchain google-api-python-client openai python-dotenv"
   ]
  },
  {
   "cell_type": "code",
   "execution_count": null,
   "id": "87699556-5c9e-4b5e-8d99-8d59d1e4d324",
   "metadata": {
    "tags": []
   },
   "outputs": [],
   "source": [
    "import hvac\n",
    "import langchain\n",
    "import os\n",
    "import sys\n",
    "\n",
    "from dotenv import load_dotenv\n",
    "from langchain.agents import ZeroShotAgent, Tool, AgentExecutor\n",
    "from langchain.memory import ConversationBufferMemory\n",
    "from langchain import LLMChain, OpenAI\n",
    "# from langchain.chat_models import ChatOpenAI\n",
    "from langchain.utilities import (\n",
    "    BashProcess,\n",
    "    GoogleSearchAPIWrapper,\n",
    "    PythonREPL,\n",
    "    TextRequestsWrapper,\n",
    ")\n",
    "\n",
    "from sonarr_recent import recently_added_episodes\n",
    "from solar_production import solar_production\n",
    "from trending_news import trending_news\n",
    "\n",
    "# Load the environment variables from the .env file\n",
    "load_dotenv()"
   ]
  },
  {
   "cell_type": "code",
   "execution_count": null,
   "id": "9bd37710-5873-492f-8ac7-e70a579023d4",
   "metadata": {
    "tags": []
   },
   "outputs": [],
   "source": [
    "client = hvac.Client(\n",
    "    url=os.getenv('VAULT_API'),\n",
    "    token=os.getenv('VAULT_TOKEN'),\n",
    ")\n",
    "\n",
    "print(client.is_authenticated())"
   ]
  },
  {
   "cell_type": "code",
   "execution_count": null,
   "id": "82a574c8-8761-4cf3-b480-8287f15e0561",
   "metadata": {
    "tags": []
   },
   "outputs": [],
   "source": [
    "try:\n",
    "    secret_resp = client.secrets.kv.v2.read_secret_version(\n",
    "        mount_point='kv', \n",
    "        path='langchain-bot', \n",
    "        raise_on_deleted_version=False\n",
    "    )\n",
    "    \n",
    "    if secret_resp['data'] is not None:\n",
    "        secret_values = secret_resp['data']['data']\n",
    "        for secret, value in secret_values.items():\n",
    "            os.environ[str(secret)] = str(value)\n",
    "    else:\n",
    "        print(\"The secret does not exist.\")\n",
    "except hvac.exceptions.InvalidPath:\n",
    "    print(\"The path is invalid or the permission is denied.\")\n",
    "except hvac.exceptions.Forbidden:\n",
    "    print(\"The permission is denied.\")\n",
    "except hvac.exceptions.VaultError as e:\n",
    "    print(f\"Vault error occurred: {e}\")"
   ]
  },
  {
   "cell_type": "code",
   "execution_count": null,
   "id": "6e7771e5-00d3-404b-a9f1-42c39f8bcd02",
   "metadata": {},
   "outputs": [],
   "source": [
    "bash = BashProcess()\n",
    "python_repl = PythonREPL()\n",
    "requests = TextRequestsWrapper()\n",
    "search = GoogleSearchAPIWrapper()\n",
    "\n",
    "tools = [\n",
    "    Tool(\n",
    "        name = \"Recent TV Show Episodes\",\n",
    "        func = recently_added_episodes,\n",
    "        description = \"Useful for when you need to understand what TV show episodes were recently added to Plex; input should be 'test'; output is returned as JSON\"\n",
    "    ),\n",
    "    Tool(\n",
    "        name = \"Solar Power Production\",\n",
    "        func = solar_production,\n",
    "        description = \"Useful for when you need to understand today's solar power production; input should be 'test'; output is returned as a string\",\n",
    "        return_direct = True\n",
    "    ),\n",
    "    Tool(\n",
    "        name = \"Trending News\",\n",
    "        func = trending_news,\n",
    "        description = \"Useful for when you need to understand the current trending news topics; input should be 'test'; output is returned as a Python list\",\n",
    "        return_direct = True\n",
    "    ),\n",
    "    Tool(\n",
    "        name = \"Bash\",\n",
    "        func = bash.run,\n",
    "        description = \"Useful for when you need to run a shell command locally\",\n",
    "    ),\n",
    "    Tool(\n",
    "        name = \"Python\",\n",
    "        func = python_repl.run,\n",
    "        description = \"Useful for when you need to run a Python command locally\",\n",
    "    ),\n",
    "    Tool(\n",
    "        name = \"Requests\",\n",
    "        func = requests.get,\n",
    "        description = \"Useful for when you need to access a website or URL\",\n",
    "    ),\n",
    "    Tool(\n",
    "        name = \"Search\",\n",
    "        func = search.run,\n",
    "        description = \"Useful for when you need to access the internet for additional information\"\n",
    "    ),\n",
    "]"
   ]
  },
  {
   "cell_type": "code",
   "execution_count": null,
   "id": "4079fbcf-27d9-44ef-b8ad-e34bafea79f1",
   "metadata": {
    "tags": []
   },
   "outputs": [],
   "source": [
    "prefix = \"\"\"Have a conversation answering the following questions as best you can. You have access to the following tools:\"\"\"\n",
    "suffix = \"\"\"Begin!\"\n",
    "\n",
    "{chat_history}\n",
    "Question: {input}\n",
    "{agent_scratchpad}\"\"\"\n",
    "\n",
    "prompt = ZeroShotAgent.create_prompt(\n",
    "    tools,\n",
    "    prefix=prefix,\n",
    "    suffix=suffix,\n",
    "    input_variables=[\"input\", \"chat_history\", \"agent_scratchpad\"],\n",
    ")"
   ]
  },
  {
   "cell_type": "code",
   "execution_count": null,
   "id": "a742d0e1-1b0b-4ec2-9cad-3490a797ea50",
   "metadata": {
    "tags": []
   },
   "outputs": [],
   "source": [
    "# Initialize Chat Memory\n",
    "memory = ConversationBufferMemory(memory_key=\"chat_history\")"
   ]
  },
  {
   "cell_type": "code",
   "execution_count": null,
   "id": "b1cc2900-4858-41fe-b3ad-7d3703046a8c",
   "metadata": {
    "tags": []
   },
   "outputs": [],
   "source": [
    "# Setup ChatGPT Agent\n",
    "llm_chain = LLMChain(\n",
    "    llm=OpenAI(\n",
    "        temperature=0.3,\n",
    "        model_name=\"gpt-3.5-turbo\", # gpt-3.5-turbo OR gpt-4\n",
    "        request_timeout=60,\n",
    "        max_retries=3,\n",
    "    ),\n",
    "    prompt=prompt,\n",
    ")\n",
    "agent = ZeroShotAgent(llm_chain=llm_chain, tools=tools)\n",
    "agent_chain = AgentExecutor.from_agent_and_tools(\n",
    "    agent=agent,\n",
    "    memory=memory,\n",
    "    tools=tools,\n",
    "    verbose=True,\n",
    ")"
   ]
  },
  {
   "cell_type": "code",
   "execution_count": null,
   "id": "85fce634-6247-45b3-a03f-fa30fb6a6c17",
   "metadata": {
    "tags": []
   },
   "outputs": [],
   "source": [
    "def chat_completion(input):\n",
    "    try:\n",
    "        output = agent_chain.run(input=input)\n",
    "        return output\n",
    "    except Exception as e:\n",
    "        print(f\"🦜🔗 LangChain Error: {e}\")\n",
    "        return e"
   ]
  },
  {
   "cell_type": "code",
   "execution_count": null,
   "id": "8bf20034-a63b-4f7f-8daa-6060eb0dbea9",
   "metadata": {
    "tags": []
   },
   "outputs": [],
   "source": [
    "%%time\n",
    "resp = chat_completion(\"How much solar power was generated?\")\n",
    "print(resp)"
   ]
  },
  {
   "cell_type": "code",
   "execution_count": null,
   "id": "3eeda763-b894-461f-8283-215269a9c73d",
   "metadata": {},
   "outputs": [],
   "source": []
  }
 ],
 "metadata": {
  "kernelspec": {
   "display_name": "Python 3 (ipykernel)",
   "language": "python",
   "name": "python3"
  },
  "language_info": {
   "codemirror_mode": {
    "name": "ipython",
    "version": 3
   },
   "file_extension": ".py",
   "mimetype": "text/x-python",
   "name": "python",
   "nbconvert_exporter": "python",
   "pygments_lexer": "ipython3",
   "version": "3.11.3"
  }
 },
 "nbformat": 4,
 "nbformat_minor": 5
}
